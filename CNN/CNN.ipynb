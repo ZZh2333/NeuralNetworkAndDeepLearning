{
 "cells": [
  {
   "cell_type": "markdown",
   "id": "13aec108",
   "metadata": {},
   "source": [
    "# 预处理"
   ]
  },
  {
   "cell_type": "code",
   "execution_count": 1,
   "id": "f29eddfa",
   "metadata": {},
   "outputs": [],
   "source": [
    "import tensorflow as tf\n",
    "from tensorflow.examples.tutorials.mnist import input_data\n",
    "import numpy as np"
   ]
  },
  {
   "cell_type": "code",
   "execution_count": 2,
   "id": "e41fa332",
   "metadata": {},
   "outputs": [
    {
     "name": "stdout",
     "output_type": "stream",
     "text": [
      "Extracting MNIST_data/train-images-idx3-ubyte.gz\n",
      "Extracting MNIST_data/train-labels-idx1-ubyte.gz\n",
      "Extracting MNIST_data/t10k-images-idx3-ubyte.gz\n",
      "Extracting MNIST_data/t10k-labels-idx1-ubyte.gz\n"
     ]
    }
   ],
   "source": [
    "# 下载数据集\n",
    "mnist = input_data.read_data_sets('MNIST_data/',one_hot=True)"
   ]
  },
  {
   "cell_type": "code",
   "execution_count": 3,
   "id": "bc11a405",
   "metadata": {},
   "outputs": [],
   "source": [
    "# MNIST数据集，输入为28*28的图片，除以255为归一化\n",
    "input_x = tf.placeholder(tf.float32,[None,28*28])/255\n",
    "# 输出为0-9十个数字\n",
    "output_y = tf.placeholder(tf.int32,[None,10])"
   ]
  },
  {
   "cell_type": "code",
   "execution_count": 4,
   "id": "7b01211e",
   "metadata": {},
   "outputs": [],
   "source": [
    "input_x_images = tf.reshape(input_x,[-1,28,28,1])"
   ]
  },
  {
   "cell_type": "markdown",
   "id": "6a2b26f2",
   "metadata": {},
   "source": [
    "# 创建CNN"
   ]
  },
  {
   "cell_type": "code",
   "execution_count": 5,
   "id": "e0a4ba73",
   "metadata": {},
   "outputs": [],
   "source": [
    "conv1 = tf.layers.conv2d(inputs=input_x_images,filters=32,kernel_size=[5,5],strides=1,padding='same',activation=tf.nn.relu)"
   ]
  },
  {
   "cell_type": "code",
   "execution_count": 6,
   "id": "2aa58ab8",
   "metadata": {},
   "outputs": [],
   "source": [
    "pool1 = tf.layers.max_pooling2d(inputs=conv1,pool_size=[2,2],strides=2)"
   ]
  },
  {
   "cell_type": "code",
   "execution_count": 7,
   "id": "690cd4d6",
   "metadata": {},
   "outputs": [],
   "source": [
    "conv2 = tf.layers.conv2d(inputs=pool1,filters=64,kernel_size=[5,5],strides=1,padding='same',activation=tf.nn.relu)"
   ]
  },
  {
   "cell_type": "code",
   "execution_count": 8,
   "id": "8ee5fef3",
   "metadata": {},
   "outputs": [],
   "source": [
    "pool2 = tf.layers.max_pooling2d(inputs=conv2,pool_size=[2,2],strides=2)"
   ]
  },
  {
   "cell_type": "code",
   "execution_count": 9,
   "id": "1b4dc835",
   "metadata": {},
   "outputs": [],
   "source": [
    "flat = tf.reshape(pool2,[-1,7*7*64])"
   ]
  },
  {
   "cell_type": "code",
   "execution_count": 10,
   "id": "62527a23",
   "metadata": {},
   "outputs": [],
   "source": [
    "dense = tf.layers.dense(inputs=flat,units=1024,activation=tf.nn.relu)"
   ]
  },
  {
   "cell_type": "code",
   "execution_count": 11,
   "id": "55d71794",
   "metadata": {},
   "outputs": [],
   "source": [
    "dropout = tf.layers.dropout(inputs=dense,rate=0.8)"
   ]
  },
  {
   "cell_type": "code",
   "execution_count": 12,
   "id": "5fa4dfb0",
   "metadata": {},
   "outputs": [],
   "source": [
    "logits = tf.layers.dense(inputs=dropout,units=10)"
   ]
  },
  {
   "cell_type": "markdown",
   "id": "1d1e03fa",
   "metadata": {},
   "source": [
    "# 最小化损失函数"
   ]
  },
  {
   "cell_type": "code",
   "execution_count": 13,
   "id": "b0ac2447",
   "metadata": {},
   "outputs": [
    {
     "name": "stdout",
     "output_type": "stream",
     "text": [
      "WARNING:tensorflow:From E:\\anaconda\\anaconda\\envs\\class_NetWork\\lib\\site-packages\\tensorflow\\python\\ops\\losses\\losses_impl.py:691: softmax_cross_entropy_with_logits (from tensorflow.python.ops.nn_ops) is deprecated and will be removed in a future version.\n",
      "Instructions for updating:\n",
      "\n",
      "Future major versions of TensorFlow will allow gradients to flow\n",
      "into the labels input on backprop by default.\n",
      "\n",
      "See tf.nn.softmax_cross_entropy_with_logits_v2.\n",
      "\n"
     ]
    }
   ],
   "source": [
    "loss = tf.losses.softmax_cross_entropy(onehot_labels=output_y,logits=logits)"
   ]
  },
  {
   "cell_type": "code",
   "execution_count": 14,
   "id": "6ce4a0d2",
   "metadata": {},
   "outputs": [],
   "source": [
    "train_op = tf.train.AdamOptimizer(learning_rate=0.001).minimize(loss)"
   ]
  },
  {
   "cell_type": "code",
   "execution_count": 15,
   "id": "fcd9ca7e",
   "metadata": {},
   "outputs": [],
   "source": [
    "accuracy = tf.metrics.accuracy(labels=tf.argmax(output_y,axis=1),predictions=tf.argmax(logits,axis=1),)[1]"
   ]
  },
  {
   "cell_type": "markdown",
   "id": "b3791b9e",
   "metadata": {},
   "source": [
    "# 训练CNN模型"
   ]
  },
  {
   "cell_type": "code",
   "execution_count": 16,
   "id": "d8c2829b",
   "metadata": {},
   "outputs": [
    {
     "name": "stdout",
     "output_type": "stream",
     "text": [
      "第 0 步的 训练损失=2.3268, 测试精度=0.34000\n",
      "第 100 步的 训练损失=0.1869, 测试精度=0.65000\n",
      "第 200 步的 训练损失=0.0477, 测试精度=0.76667\n",
      "第 300 步的 训练损失=0.1112, 测试精度=0.81500\n",
      "第 400 步的 训练损失=0.2476, 测试精度=0.84400\n",
      "第 500 步的 训练损失=0.0282, 测试精度=0.87000\n",
      "第 600 步的 训练损失=0.1499, 测试精度=0.88571\n",
      "第 700 步的 训练损失=0.2332, 测试精度=0.89500\n",
      "第 800 步的 训练损失=0.0092, 测试精度=0.90667\n",
      "第 900 步的 训练损失=0.0484, 测试精度=0.91600\n",
      "第 1000 步的 训练损失=0.0511, 测试精度=0.92182\n"
     ]
    }
   ],
   "source": [
    "i = 0\n",
    "sess = tf.Session()\n",
    "sess.run(tf.global_variables_initializer())\n",
    "sess.run(tf.local_variables_initializer())\n",
    "\n",
    "while i < 1001:\n",
    "    batch = mnist.train.next_batch(50) \n",
    "    train_loss,train_op_ = sess.run([loss,train_op],{input_x:batch[0],output_y:batch[1]})\n",
    "    if i % 100 == 0:\n",
    "        train_accuracy = sess.run(accuracy,{input_x:batch[0],output_y:batch[1]})\n",
    "        print(\"第 {} 步的 训练损失={:.4f}, 测试精度={:.5f}\".format(i, train_loss, train_accuracy))\n",
    "    i += 1"
   ]
  },
  {
   "cell_type": "code",
   "execution_count": 17,
   "id": "8d8c3b6c",
   "metadata": {},
   "outputs": [],
   "source": [
    "test_x = mnist.test.images\n",
    "test_y = mnist.test.labels"
   ]
  },
  {
   "cell_type": "code",
   "execution_count": 18,
   "id": "7bf4a620",
   "metadata": {},
   "outputs": [],
   "source": [
    "test_output = sess.run(logits,{input_x:test_x[:50]})"
   ]
  },
  {
   "cell_type": "code",
   "execution_count": 19,
   "id": "05aea435",
   "metadata": {},
   "outputs": [],
   "source": [
    "inferred_y = np.argmax(test_output,1)"
   ]
  },
  {
   "cell_type": "code",
   "execution_count": 20,
   "id": "fcb06d51",
   "metadata": {},
   "outputs": [],
   "source": [
    "test_accuracy = sess.run(accuracy,{input_x:test_x[:1000],output_y:test_y[:1000]})"
   ]
  },
  {
   "cell_type": "code",
   "execution_count": 21,
   "id": "f929eec2",
   "metadata": {},
   "outputs": [
    {
     "name": "stdout",
     "output_type": "stream",
     "text": [
      "推测的数字: [7 2 1 0 4 1 4 9 5 9 0 6 9 0 1 5 9 7 3 4 9 6 6 5 4 0 7 4 0 1 3 1 3 4 7 2 7\n",
      " 1 2 1 1 7 4 2 3 5 1 2 4 4]\n",
      "真实的数字: [7 2 1 0 4 1 4 9 5 9 0 6 9 0 1 5 9 7 3 4 9 6 6 5 4 0 7 4 0 1 3 1 3 4 7 2 7\n",
      " 1 2 1 1 7 4 2 3 5 1 2 4 4]\n",
      "测试精度:0.96645\n"
     ]
    }
   ],
   "source": [
    "print('推测的数字:', inferred_y)  # 推测的数字\n",
    "print('真实的数字:', np.argmax(test_y[:50], 1))  # 真实的数字\n",
    "print('测试精度:{:.5f}'.format(test_accuracy))  # 识别准确度"
   ]
  }
 ],
 "metadata": {
  "kernelspec": {
   "display_name": "Python 3",
   "language": "python",
   "name": "python3"
  },
  "language_info": {
   "codemirror_mode": {
    "name": "ipython",
    "version": 3
   },
   "file_extension": ".py",
   "mimetype": "text/x-python",
   "name": "python",
   "nbconvert_exporter": "python",
   "pygments_lexer": "ipython3",
   "version": "3.6.13"
  }
 },
 "nbformat": 4,
 "nbformat_minor": 5
}
