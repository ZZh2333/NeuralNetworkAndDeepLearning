{
 "cells": [
  {
   "cell_type": "code",
   "execution_count": 12,
   "id": "2551ecc1",
   "metadata": {},
   "outputs": [
    {
     "data": {
      "text/plain": [
       "4"
      ]
     },
     "execution_count": 12,
     "metadata": {},
     "output_type": "execute_result"
    }
   ],
   "source": [
    "import numpy as np\n",
    "i = [1,2,3,4,3,2,1]\n",
    "i.index(max(i))"
   ]
  },
  {
   "cell_type": "code",
   "execution_count": 19,
   "id": "fc7f9ec4",
   "metadata": {},
   "outputs": [
    {
     "data": {
      "text/plain": [
       "[[0.8546740115646562, 0.8569118383036725, 0.44542627543900937],\n",
       " [0.6910095852329656, 0.1468753215604216, 0.13362971300645277],\n",
       " [0.72312106301086, 0.7692416124325442, 0.4485511476851196]]"
      ]
     },
     "execution_count": 19,
     "metadata": {},
     "output_type": "execute_result"
    }
   ],
   "source": [
    "def makeArray(I,J):\n",
    "    m = []\n",
    "    for i in range(I):\n",
    "        fill = list(np.random.uniform(0,1,J))\n",
    "        m.append(fill)\n",
    "    return m\n",
    "a = makeArray(3,3)\n",
    "a"
   ]
  }
 ],
 "metadata": {
  "kernelspec": {
   "display_name": "Python 3",
   "language": "python",
   "name": "python3"
  },
  "language_info": {
   "codemirror_mode": {
    "name": "ipython",
    "version": 3
   },
   "file_extension": ".py",
   "mimetype": "text/x-python",
   "name": "python",
   "nbconvert_exporter": "python",
   "pygments_lexer": "ipython3",
   "version": "3.6.13"
  }
 },
 "nbformat": 4,
 "nbformat_minor": 5
}
