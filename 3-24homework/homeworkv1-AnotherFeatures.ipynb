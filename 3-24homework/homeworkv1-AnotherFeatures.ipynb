{
 "cells": [
  {
   "cell_type": "markdown",
   "id": "irish-subcommittee",
   "metadata": {},
   "source": [
    "# 感知机改进算法"
   ]
  },
  {
   "cell_type": "markdown",
   "id": "efficient-disney",
   "metadata": {},
   "source": [
    "## 导包"
   ]
  },
  {
   "cell_type": "code",
   "execution_count": 1,
   "id": "trained-onion",
   "metadata": {},
   "outputs": [],
   "source": [
    "import pandas as pd\n",
    "import numpy as np\n",
    "import matplotlib.pyplot as plt\n",
    "# from sklearn import preprocessing\n",
    "\n",
    "font = r'C:\\Windows\\Fonts\\simfang.ttf'"
   ]
  },
  {
   "cell_type": "markdown",
   "id": "informed-proportion",
   "metadata": {},
   "source": [
    "## 导入数据集"
   ]
  },
  {
   "cell_type": "code",
   "execution_count": 2,
   "id": "incident-manual",
   "metadata": {},
   "outputs": [
    {
     "data": {
      "text/html": [
       "<div>\n",
       "<style scoped>\n",
       "    .dataframe tbody tr th:only-of-type {\n",
       "        vertical-align: middle;\n",
       "    }\n",
       "\n",
       "    .dataframe tbody tr th {\n",
       "        vertical-align: top;\n",
       "    }\n",
       "\n",
       "    .dataframe thead th {\n",
       "        text-align: right;\n",
       "    }\n",
       "</style>\n",
       "<table border=\"1\" class=\"dataframe\">\n",
       "  <thead>\n",
       "    <tr style=\"text-align: right;\">\n",
       "      <th></th>\n",
       "      <th>sepal length</th>\n",
       "      <th>sepal width</th>\n",
       "      <th>petal length</th>\n",
       "      <th>petal width</th>\n",
       "      <th>class</th>\n",
       "    </tr>\n",
       "  </thead>\n",
       "  <tbody>\n",
       "    <tr>\n",
       "      <th>0</th>\n",
       "      <td>5.1</td>\n",
       "      <td>3.5</td>\n",
       "      <td>1.4</td>\n",
       "      <td>0.2</td>\n",
       "      <td>Iris-setosa</td>\n",
       "    </tr>\n",
       "    <tr>\n",
       "      <th>1</th>\n",
       "      <td>4.9</td>\n",
       "      <td>3.0</td>\n",
       "      <td>1.4</td>\n",
       "      <td>0.2</td>\n",
       "      <td>Iris-setosa</td>\n",
       "    </tr>\n",
       "    <tr>\n",
       "      <th>2</th>\n",
       "      <td>4.7</td>\n",
       "      <td>3.2</td>\n",
       "      <td>1.3</td>\n",
       "      <td>0.2</td>\n",
       "      <td>Iris-setosa</td>\n",
       "    </tr>\n",
       "    <tr>\n",
       "      <th>3</th>\n",
       "      <td>4.6</td>\n",
       "      <td>3.1</td>\n",
       "      <td>1.5</td>\n",
       "      <td>0.2</td>\n",
       "      <td>Iris-setosa</td>\n",
       "    </tr>\n",
       "    <tr>\n",
       "      <th>4</th>\n",
       "      <td>5.0</td>\n",
       "      <td>3.6</td>\n",
       "      <td>1.4</td>\n",
       "      <td>0.2</td>\n",
       "      <td>Iris-setosa</td>\n",
       "    </tr>\n",
       "    <tr>\n",
       "      <th>...</th>\n",
       "      <td>...</td>\n",
       "      <td>...</td>\n",
       "      <td>...</td>\n",
       "      <td>...</td>\n",
       "      <td>...</td>\n",
       "    </tr>\n",
       "    <tr>\n",
       "      <th>145</th>\n",
       "      <td>6.7</td>\n",
       "      <td>3.0</td>\n",
       "      <td>5.2</td>\n",
       "      <td>2.3</td>\n",
       "      <td>Iris-virginica</td>\n",
       "    </tr>\n",
       "    <tr>\n",
       "      <th>146</th>\n",
       "      <td>6.3</td>\n",
       "      <td>2.5</td>\n",
       "      <td>5.0</td>\n",
       "      <td>1.9</td>\n",
       "      <td>Iris-virginica</td>\n",
       "    </tr>\n",
       "    <tr>\n",
       "      <th>147</th>\n",
       "      <td>6.5</td>\n",
       "      <td>3.0</td>\n",
       "      <td>5.2</td>\n",
       "      <td>2.0</td>\n",
       "      <td>Iris-virginica</td>\n",
       "    </tr>\n",
       "    <tr>\n",
       "      <th>148</th>\n",
       "      <td>6.2</td>\n",
       "      <td>3.4</td>\n",
       "      <td>5.4</td>\n",
       "      <td>2.3</td>\n",
       "      <td>Iris-virginica</td>\n",
       "    </tr>\n",
       "    <tr>\n",
       "      <th>149</th>\n",
       "      <td>5.9</td>\n",
       "      <td>3.0</td>\n",
       "      <td>5.1</td>\n",
       "      <td>1.8</td>\n",
       "      <td>Iris-virginica</td>\n",
       "    </tr>\n",
       "  </tbody>\n",
       "</table>\n",
       "<p>150 rows × 5 columns</p>\n",
       "</div>"
      ],
      "text/plain": [
       "     sepal length  sepal width  petal length  petal width           class\n",
       "0             5.1          3.5           1.4          0.2     Iris-setosa\n",
       "1             4.9          3.0           1.4          0.2     Iris-setosa\n",
       "2             4.7          3.2           1.3          0.2     Iris-setosa\n",
       "3             4.6          3.1           1.5          0.2     Iris-setosa\n",
       "4             5.0          3.6           1.4          0.2     Iris-setosa\n",
       "..            ...          ...           ...          ...             ...\n",
       "145           6.7          3.0           5.2          2.3  Iris-virginica\n",
       "146           6.3          2.5           5.0          1.9  Iris-virginica\n",
       "147           6.5          3.0           5.2          2.0  Iris-virginica\n",
       "148           6.2          3.4           5.4          2.3  Iris-virginica\n",
       "149           5.9          3.0           5.1          1.8  Iris-virginica\n",
       "\n",
       "[150 rows x 5 columns]"
      ]
     },
     "execution_count": 2,
     "metadata": {},
     "output_type": "execute_result"
    }
   ],
   "source": [
    "data = pd.read_csv(r\"./dataset/iris.csv\")\n",
    "data"
   ]
  },
  {
   "cell_type": "markdown",
   "id": "unnecessary-steel",
   "metadata": {},
   "source": [
    "## 数据解释  \n",
    "1.萼片长度（以厘米计）  \n",
    "2.萼片宽度（以厘米计）  \n",
    "3.花瓣长度（以厘米计）  \n",
    "4.花瓣宽度（以厘米计）  \n",
    "5.类别：  "
   ]
  },
  {
   "cell_type": "markdown",
   "id": "emerging-cooperation",
   "metadata": {},
   "source": [
    "## 数据预处理  "
   ]
  },
  {
   "cell_type": "markdown",
   "id": "regional-pendant",
   "metadata": {},
   "source": [
    "### 选择数据集中四列数据  \n",
    "两列作为输入数据，一列作为输出数据"
   ]
  },
  {
   "cell_type": "code",
   "execution_count": 3,
   "id": "recognized-yacht",
   "metadata": {},
   "outputs": [],
   "source": [
    "col = ['sepal length','petal width','class']\n",
    "data = pd.DataFrame(data,columns = col)"
   ]
  },
  {
   "cell_type": "markdown",
   "id": "broken-timing",
   "metadata": {},
   "source": [
    "### 取前100行作为本次实验数据"
   ]
  },
  {
   "cell_type": "code",
   "execution_count": 4,
   "id": "alternate-olympus",
   "metadata": {},
   "outputs": [
    {
     "data": {
      "text/html": [
       "<div>\n",
       "<style scoped>\n",
       "    .dataframe tbody tr th:only-of-type {\n",
       "        vertical-align: middle;\n",
       "    }\n",
       "\n",
       "    .dataframe tbody tr th {\n",
       "        vertical-align: top;\n",
       "    }\n",
       "\n",
       "    .dataframe thead th {\n",
       "        text-align: right;\n",
       "    }\n",
       "</style>\n",
       "<table border=\"1\" class=\"dataframe\">\n",
       "  <thead>\n",
       "    <tr style=\"text-align: right;\">\n",
       "      <th></th>\n",
       "      <th>sepal length</th>\n",
       "      <th>petal width</th>\n",
       "      <th>class</th>\n",
       "    </tr>\n",
       "  </thead>\n",
       "  <tbody>\n",
       "    <tr>\n",
       "      <th>51</th>\n",
       "      <td>6.4</td>\n",
       "      <td>1.5</td>\n",
       "      <td>Iris-versicolor</td>\n",
       "    </tr>\n",
       "    <tr>\n",
       "      <th>52</th>\n",
       "      <td>6.9</td>\n",
       "      <td>1.5</td>\n",
       "      <td>Iris-versicolor</td>\n",
       "    </tr>\n",
       "    <tr>\n",
       "      <th>53</th>\n",
       "      <td>5.5</td>\n",
       "      <td>1.3</td>\n",
       "      <td>Iris-versicolor</td>\n",
       "    </tr>\n",
       "    <tr>\n",
       "      <th>54</th>\n",
       "      <td>6.5</td>\n",
       "      <td>1.5</td>\n",
       "      <td>Iris-versicolor</td>\n",
       "    </tr>\n",
       "    <tr>\n",
       "      <th>55</th>\n",
       "      <td>5.7</td>\n",
       "      <td>1.3</td>\n",
       "      <td>Iris-versicolor</td>\n",
       "    </tr>\n",
       "    <tr>\n",
       "      <th>...</th>\n",
       "      <td>...</td>\n",
       "      <td>...</td>\n",
       "      <td>...</td>\n",
       "    </tr>\n",
       "    <tr>\n",
       "      <th>145</th>\n",
       "      <td>6.7</td>\n",
       "      <td>2.3</td>\n",
       "      <td>Iris-virginica</td>\n",
       "    </tr>\n",
       "    <tr>\n",
       "      <th>146</th>\n",
       "      <td>6.3</td>\n",
       "      <td>1.9</td>\n",
       "      <td>Iris-virginica</td>\n",
       "    </tr>\n",
       "    <tr>\n",
       "      <th>147</th>\n",
       "      <td>6.5</td>\n",
       "      <td>2.0</td>\n",
       "      <td>Iris-virginica</td>\n",
       "    </tr>\n",
       "    <tr>\n",
       "      <th>148</th>\n",
       "      <td>6.2</td>\n",
       "      <td>2.3</td>\n",
       "      <td>Iris-virginica</td>\n",
       "    </tr>\n",
       "    <tr>\n",
       "      <th>149</th>\n",
       "      <td>5.9</td>\n",
       "      <td>1.8</td>\n",
       "      <td>Iris-virginica</td>\n",
       "    </tr>\n",
       "  </tbody>\n",
       "</table>\n",
       "<p>99 rows × 3 columns</p>\n",
       "</div>"
      ],
      "text/plain": [
       "     sepal length  petal width            class\n",
       "51            6.4          1.5  Iris-versicolor\n",
       "52            6.9          1.5  Iris-versicolor\n",
       "53            5.5          1.3  Iris-versicolor\n",
       "54            6.5          1.5  Iris-versicolor\n",
       "55            5.7          1.3  Iris-versicolor\n",
       "..            ...          ...              ...\n",
       "145           6.7          2.3   Iris-virginica\n",
       "146           6.3          1.9   Iris-virginica\n",
       "147           6.5          2.0   Iris-virginica\n",
       "148           6.2          2.3   Iris-virginica\n",
       "149           5.9          1.8   Iris-virginica\n",
       "\n",
       "[99 rows x 3 columns]"
      ]
     },
     "execution_count": 4,
     "metadata": {},
     "output_type": "execute_result"
    }
   ],
   "source": [
    "data = data[51:]\n",
    "data"
   ]
  },
  {
   "cell_type": "markdown",
   "id": "wicked-fitting",
   "metadata": {},
   "source": [
    "### 重写class"
   ]
  },
  {
   "cell_type": "code",
   "execution_count": 5,
   "id": "laughing-ordinary",
   "metadata": {},
   "outputs": [],
   "source": [
    "data.loc[(data['class']=='Iris-virginica'),'class'] = 1\n",
    "data.loc[(data['class']=='Iris-versicolor'),'class'] = -1"
   ]
  },
  {
   "cell_type": "markdown",
   "id": "balanced-practice",
   "metadata": {},
   "source": [
    "### 打乱数据"
   ]
  },
  {
   "cell_type": "code",
   "execution_count": 6,
   "id": "widespread-union",
   "metadata": {},
   "outputs": [
    {
     "data": {
      "text/html": [
       "<div>\n",
       "<style scoped>\n",
       "    .dataframe tbody tr th:only-of-type {\n",
       "        vertical-align: middle;\n",
       "    }\n",
       "\n",
       "    .dataframe tbody tr th {\n",
       "        vertical-align: top;\n",
       "    }\n",
       "\n",
       "    .dataframe thead th {\n",
       "        text-align: right;\n",
       "    }\n",
       "</style>\n",
       "<table border=\"1\" class=\"dataframe\">\n",
       "  <thead>\n",
       "    <tr style=\"text-align: right;\">\n",
       "      <th></th>\n",
       "      <th>sepal length</th>\n",
       "      <th>petal width</th>\n",
       "      <th>class</th>\n",
       "    </tr>\n",
       "  </thead>\n",
       "  <tbody>\n",
       "    <tr>\n",
       "      <th>127</th>\n",
       "      <td>6.1</td>\n",
       "      <td>1.8</td>\n",
       "      <td>1</td>\n",
       "    </tr>\n",
       "    <tr>\n",
       "      <th>134</th>\n",
       "      <td>6.1</td>\n",
       "      <td>1.4</td>\n",
       "      <td>1</td>\n",
       "    </tr>\n",
       "    <tr>\n",
       "      <th>130</th>\n",
       "      <td>7.4</td>\n",
       "      <td>1.9</td>\n",
       "      <td>1</td>\n",
       "    </tr>\n",
       "    <tr>\n",
       "      <th>137</th>\n",
       "      <td>6.4</td>\n",
       "      <td>1.8</td>\n",
       "      <td>1</td>\n",
       "    </tr>\n",
       "    <tr>\n",
       "      <th>148</th>\n",
       "      <td>6.2</td>\n",
       "      <td>2.3</td>\n",
       "      <td>1</td>\n",
       "    </tr>\n",
       "    <tr>\n",
       "      <th>...</th>\n",
       "      <td>...</td>\n",
       "      <td>...</td>\n",
       "      <td>...</td>\n",
       "    </tr>\n",
       "    <tr>\n",
       "      <th>128</th>\n",
       "      <td>6.4</td>\n",
       "      <td>2.1</td>\n",
       "      <td>1</td>\n",
       "    </tr>\n",
       "    <tr>\n",
       "      <th>143</th>\n",
       "      <td>6.8</td>\n",
       "      <td>2.3</td>\n",
       "      <td>1</td>\n",
       "    </tr>\n",
       "    <tr>\n",
       "      <th>53</th>\n",
       "      <td>5.5</td>\n",
       "      <td>1.3</td>\n",
       "      <td>-1</td>\n",
       "    </tr>\n",
       "    <tr>\n",
       "      <th>88</th>\n",
       "      <td>5.6</td>\n",
       "      <td>1.3</td>\n",
       "      <td>-1</td>\n",
       "    </tr>\n",
       "    <tr>\n",
       "      <th>61</th>\n",
       "      <td>5.9</td>\n",
       "      <td>1.5</td>\n",
       "      <td>-1</td>\n",
       "    </tr>\n",
       "  </tbody>\n",
       "</table>\n",
       "<p>99 rows × 3 columns</p>\n",
       "</div>"
      ],
      "text/plain": [
       "     sepal length  petal width class\n",
       "127           6.1          1.8     1\n",
       "134           6.1          1.4     1\n",
       "130           7.4          1.9     1\n",
       "137           6.4          1.8     1\n",
       "148           6.2          2.3     1\n",
       "..            ...          ...   ...\n",
       "128           6.4          2.1     1\n",
       "143           6.8          2.3     1\n",
       "53            5.5          1.3    -1\n",
       "88            5.6          1.3    -1\n",
       "61            5.9          1.5    -1\n",
       "\n",
       "[99 rows x 3 columns]"
      ]
     },
     "execution_count": 6,
     "metadata": {},
     "output_type": "execute_result"
    }
   ],
   "source": [
    "data = data.sample(frac=1)\n",
    "data"
   ]
  },
  {
   "cell_type": "markdown",
   "id": "silver-clear",
   "metadata": {},
   "source": [
    "### 取值"
   ]
  },
  {
   "cell_type": "code",
   "execution_count": 7,
   "id": "enhanced-saskatchewan",
   "metadata": {},
   "outputs": [],
   "source": [
    "data = data.values"
   ]
  },
  {
   "cell_type": "markdown",
   "id": "controversial-platform",
   "metadata": {},
   "source": [
    "### 绘图"
   ]
  },
  {
   "cell_type": "code",
   "execution_count": 8,
   "id": "gentle-desert",
   "metadata": {},
   "outputs": [
    {
     "data": {
      "image/png": "[encoded data removed]",
      "text/plain": [
       "<Figure size 432x288 with 1 Axes>"
      ]
     },
     "metadata": {
      "needs_background": "light"
     },
     "output_type": "display_data"
    }
   ],
   "source": [
    "for i in range(len(data)):\n",
    "    if data[i][-1] == -1:\n",
    "        plt.scatter(data[i][0],data[i][1],c='r',marker='o')\n",
    "    else:\n",
    "        plt.scatter(data[i][0],data[i][1],c='b',marker='x')\n",
    "plt.show()"
   ]
  },
  {
   "cell_type": "markdown",
   "id": "specified-sponsorship",
   "metadata": {},
   "source": [
    "### 划分训练集与测试集"
   ]
  },
  {
   "cell_type": "code",
   "execution_count": 9,
   "id": "headed-drawing",
   "metadata": {},
   "outputs": [
    {
     "data": {
      "text/plain": [
       "29"
      ]
     },
     "execution_count": 9,
     "metadata": {},
     "output_type": "execute_result"
    }
   ],
   "source": [
    "training = data[:70]\n",
    "test = data[70:]\n",
    "len(test)"
   ]
  },
  {
   "cell_type": "code",
   "execution_count": 10,
   "id": "intelligent-banking",
   "metadata": {},
   "outputs": [
    {
     "data": {
      "text/plain": [
       "array([6.4, 1.3], dtype=object)"
      ]
     },
     "execution_count": 10,
     "metadata": {},
     "output_type": "execute_result"
    }
   ],
   "source": [
    "x = test[0][:-1]\n",
    "x"
   ]
  },
  {
   "cell_type": "code",
   "execution_count": 11,
   "id": "imposed-adelaide",
   "metadata": {},
   "outputs": [
    {
     "data": {
      "text/plain": [
       "array([-1], dtype=object)"
      ]
     },
     "execution_count": 11,
     "metadata": {},
     "output_type": "execute_result"
    }
   ],
   "source": [
    "y = test[0][-1:]\n",
    "y"
   ]
  },
  {
   "cell_type": "markdown",
   "id": "massive-patent",
   "metadata": {},
   "source": [
    "# 一些工具函数"
   ]
  },
  {
   "cell_type": "code",
   "execution_count": 12,
   "id": "stone-protection",
   "metadata": {},
   "outputs": [],
   "source": [
    "def makeArray(I,J):\n",
    "    m = []\n",
    "    for i in range(I):\n",
    "        fill = np.random.random()\n",
    "        m.append([fill]*J)\n",
    "    return m"
   ]
  },
  {
   "cell_type": "code",
   "execution_count": 13,
   "id": "spatial-french",
   "metadata": {},
   "outputs": [],
   "source": [
    "def sign(a):\n",
    "    if a>0:\n",
    "        return 1\n",
    "    else:\n",
    "        return -1"
   ]
  },
  {
   "cell_type": "markdown",
   "id": "another-oxide",
   "metadata": {},
   "source": [
    "# 一、感知机模型"
   ]
  },
  {
   "cell_type": "code",
   "execution_count": 14,
   "id": "constant-example",
   "metadata": {},
   "outputs": [],
   "source": [
    "def feeling():\n",
    "    w = np.zeros(2)\n",
    "    lr = 0.001\n",
    "    c = 1\n",
    "#     循环遍历计数\n",
    "    cnt = 0\n",
    "    while True:\n",
    "        cnt += 1\n",
    "#         遍历次数超过1000时跳出循环，学习结束\n",
    "        if cnt > 1000:\n",
    "            break\n",
    "        for i in range(len(training)):\n",
    "            x = np.array(training[i][:-1])\n",
    "            y = np.array(training[i][-1])\n",
    "\n",
    "            s = np.sum(w*x)-c\n",
    "            z = sign(s)\n",
    "            if y * z <= 0:\n",
    "#                 e = y-z\n",
    "#                 w = w+lr*e*x\n",
    "#                 c = np.sum(lr*e)+c\n",
    "                w = w+lr*y*x\n",
    "                c = c+lr*y\n",
    "    return cnt,w,c"
   ]
  },
  {
   "cell_type": "code",
   "execution_count": 15,
   "id": "vanilla-recovery",
   "metadata": {},
   "outputs": [
    {
     "name": "stdout",
     "output_type": "stream",
     "text": [
      "迭代次数： 1001\n",
      "超平面法向量： [0.06199999999999569 0.6899999999999585]\n",
      "阈值： 1.472999999999948\n"
     ]
    },
    {
     "data": {
      "image/png": "[encoded data removed]",
      "text/plain": [
       "<Figure size 432x288 with 1 Axes>"
      ]
     },
     "metadata": {
      "needs_background": "light"
     },
     "output_type": "display_data"
    },
    {
     "name": "stdout",
     "output_type": "stream",
     "text": [
      "测试集准确率： 0.896551724137931\n"
     ]
    }
   ],
   "source": [
    "if __name__=='__main__':\n",
    "    cnt,w,c=feeling()\n",
    "    print(\"迭代次数：\",cnt)\n",
    "    print(\"超平面法向量：\",w)\n",
    "    print(\"阈值：\",c)\n",
    "    count = 0\n",
    "    for i in range(len(test)):\n",
    "        target = test[i][-1:]\n",
    "        result = sign(np.sum(w*test[i][:-1])-c)\n",
    "        if(target == result):\n",
    "            count += 1\n",
    "    accuracy = float(count/len(test))\n",
    "    for i in range(len(test)):\n",
    "        if test[i][-1] == -1:\n",
    "            plt.scatter(test[i][0],test[i][1],c='r',marker='o')\n",
    "        else:\n",
    "            plt.scatter(test[i][0],test[i][1],c='b',marker='x')\n",
    "#     for i in range(len(data)):\n",
    "#         if training[i][-1] == -1:\n",
    "#             plt.scatter(data[i][0],data[i][1],c='r')\n",
    "#         else:\n",
    "#             plt.scatter(data[i][0],data[i][1],c='b')\n",
    "    X = np.random.uniform(5,8,50)\n",
    "    Y = -(w[0]*X-c)/w[1]\n",
    "    plt.xlabel('sepal length')\n",
    "    plt.ylabel('petal width')\n",
    "    plt.plot(X,Y,'g')\n",
    "    plt.show()\n",
    "    print(\"测试集准确率：\",accuracy)"
   ]
  },
  {
   "cell_type": "code",
   "execution_count": 16,
   "id": "electric-express",
   "metadata": {},
   "outputs": [
    {
     "data": {
      "image/png": "[encoded data removed]",
      "text/plain": [
       "<Figure size 432x288 with 1 Axes>"
      ]
     },
     "metadata": {
      "needs_background": "light"
     },
     "output_type": "display_data"
    }
   ],
   "source": [
    "for i in range(len(data)):\n",
    "    if data[i][-1] == -1:\n",
    "        plt.scatter(data[i][0],data[i][1],c='r',marker='o')\n",
    "    else:\n",
    "        plt.scatter(data[i][0],data[i][1],c='b',marker='x')\n",
    "X = np.random.uniform(5,8,50)\n",
    "Y = -(w[0]*X-c)/w[1]\n",
    "plt.xlabel('sepal length')\n",
    "plt.ylabel('petal width')\n",
    "plt.plot(X,Y,'g')\n",
    "plt.show()"
   ]
  },
  {
   "cell_type": "markdown",
   "id": "domestic-transsexual",
   "metadata": {},
   "source": [
    "# 二、口袋算法"
   ]
  },
  {
   "cell_type": "code",
   "execution_count": 17,
   "id": "powerful-keyboard",
   "metadata": {},
   "outputs": [],
   "source": [
    "def checkErrorRate(training,w,c):\n",
    "    count=0\n",
    "    for i in range(len(training)):\n",
    "        x=np.array(training[i][:-1])\n",
    "        y=training[i][-1]\n",
    "        if np.sign(np.sum(w*x)-c)!=np.sign(y):\n",
    "            count+=1\n",
    "    return count/len(training)"
   ]
  },
  {
   "cell_type": "code",
   "execution_count": 18,
   "id": "cheap-highlight",
   "metadata": {},
   "outputs": [],
   "source": [
    "def Pocket():\n",
    "    w = np.zeros(2)\n",
    "    lr = 0.001\n",
    "    c = 1\n",
    "    best_w = w\n",
    "    bestRate = 1\n",
    "    best_c = c\n",
    "#     循环遍历计数\n",
    "    cnt = 0\n",
    "    while True:\n",
    "        cnt += 1\n",
    "#         遍历次数超过1000时跳出循环，学习结束\n",
    "        if cnt > 1000:\n",
    "            break\n",
    "        for i in range(len(training)):\n",
    "            x = np.array(training[i][:-1])\n",
    "            y = training[i][-1]\n",
    "            \n",
    "            s = np.sum(w*x)-c\n",
    "            z = sign(s)\n",
    "            if y*z <= 0:\n",
    "#                 e = y-z\n",
    "#                 w = w+lr*e*x\n",
    "#                 c = np.sum(lr*e)+c\n",
    "                w = w+lr*y*x\n",
    "                c = c+lr*y\n",
    "                rate = checkErrorRate(training,w,c)\n",
    "                if rate<bestRate:\n",
    "                    bestRate = rate\n",
    "                    best_w = w\n",
    "                    best_c = c\n",
    "    return cnt,best_w,best_c"
   ]
  },
  {
   "cell_type": "code",
   "execution_count": 19,
   "id": "biological-ministry",
   "metadata": {},
   "outputs": [
    {
     "name": "stdout",
     "output_type": "stream",
     "text": [
      "迭代次数： 1001\n",
      "超平面法向量： [0.09489999999999844 0.2971000000000009]\n",
      "阈值： 1.1039999999999885\n"
     ]
    },
    {
     "data": {
      "image/png": "[encoded data removed]",
      "text/plain": [
       "<Figure size 432x288 with 1 Axes>"
      ]
     },
     "metadata": {
      "needs_background": "light"
     },
     "output_type": "display_data"
    },
    {
     "name": "stdout",
     "output_type": "stream",
     "text": [
      "准确率： 0.9655172413793104\n"
     ]
    }
   ],
   "source": [
    "if __name__=='__main__':\n",
    "    cnt,best_w,best_c=Pocket()\n",
    "    print(\"迭代次数：\",cnt)\n",
    "    print(\"超平面法向量：\",best_w)\n",
    "    print(\"阈值：\",best_c)\n",
    "    count = 0\n",
    "    for i in range(len(test)):\n",
    "        target = test[i][-1:]\n",
    "        result = sign(np.sum(best_w*test[i][:-1])-best_c)\n",
    "        if(target == result):\n",
    "            count += 1\n",
    "    accuracy = float(count/len(test))\n",
    "    for i in range(len(test)):\n",
    "        if test[i][-1] == -1:\n",
    "            plt.scatter(test[i][0],test[i][1],c='r',marker='o')\n",
    "        else:\n",
    "            plt.scatter(test[i][0],test[i][1],c='b',marker='x')\n",
    "#     for i in range(len(data)):\n",
    "#         if data[i][-1] == -1:\n",
    "#             plt.scatter(data[i][0],data[i][1],c='r')\n",
    "#         else:\n",
    "#             plt.scatter(data[i][0],data[i][1],c='b')\n",
    "    X = np.random.uniform(5,8,50)\n",
    "    Y = -(best_w[0]*X-best_c)/best_w[1]\n",
    "    plt.plot(X,Y,'g')\n",
    "    plt.xlabel('sepal length')\n",
    "    plt.ylabel('petal width')\n",
    "    plt.show()\n",
    "    print(\"准确率：\",accuracy)"
   ]
  },
  {
   "cell_type": "code",
   "execution_count": 20,
   "id": "raised-dallas",
   "metadata": {},
   "outputs": [
    {
     "data": {
      "image/png": "[encoded data removed]",
      "text/plain": [
       "<Figure size 432x288 with 1 Axes>"
      ]
     },
     "metadata": {
      "needs_background": "light"
     },
     "output_type": "display_data"
    }
   ],
   "source": [
    "for i in range(len(data)):\n",
    "    if data[i][-1] == -1:\n",
    "        plt.scatter(data[i][0],data[i][1],c='r',marker='o')\n",
    "    else:\n",
    "        plt.scatter(data[i][0],data[i][1],c='b',marker='x')\n",
    "X = np.random.uniform(5,8,50)\n",
    "Y = -(best_w[0]*X-best_c)/best_w[1]\n",
    "plt.xlabel('sepal length')\n",
    "plt.ylabel('petal width')\n",
    "plt.plot(X,Y,'g')\n",
    "plt.show()"
   ]
  }
 ],
 "metadata": {
  "kernelspec": {
   "display_name": "Python 3",
   "language": "python",
   "name": "python3"
  },
  "language_info": {
   "codemirror_mode": {
    "name": "ipython",
    "version": 3
   },
   "file_extension": ".py",
   "mimetype": "text/x-python",
   "name": "python",
   "nbconvert_exporter": "python",
   "pygments_lexer": "ipython3",
   "version": "3.6.12"
  }
 },
 "nbformat": 4,
 "nbformat_minor": 5
}
