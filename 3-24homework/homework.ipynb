{
 "cells": [
  {
   "cell_type": "markdown",
   "id": "partial-elite",
   "metadata": {},
   "source": [
    "# 感知机改进算法"
   ]
  },
  {
   "cell_type": "markdown",
   "id": "bigger-programmer",
   "metadata": {},
   "source": [
    "## 导包"
   ]
  },
  {
   "cell_type": "code",
   "execution_count": null,
   "id": "rising-suicide",
   "metadata": {},
   "outputs": [],
   "source": [
    "import pandas as pd\n",
    "import numpy as np\n",
    "import matplotlib.pyplot as plt"
   ]
  },
  {
   "cell_type": "markdown",
   "id": "professional-former",
   "metadata": {},
   "source": [
    "## 导入数据集"
   ]
  },
  {
   "cell_type": "code",
   "execution_count": null,
   "id": "virtual-clearance",
   "metadata": {},
   "outputs": [],
   "source": [
    "data = pd.read_csv(r\"./dataset/breast-cancer.data\",header=None,names=['class','age','menopause','tumor-size','inv-nodes','node-caps','deg-malig','breast','breast-quad','irradiat'])\n",
    "data"
   ]
  },
  {
   "cell_type": "markdown",
   "id": "opening-sydney",
   "metadata": {},
   "source": [
    "## 数据解释  \n",
    "1.类别：无复发事件，复发事件  \n",
    "2.年龄：10-19、20-29、30-39、40-49、50-59、60-69、70-79、80-89、90 -99。  \n",
    "3.更年期：lt40，ge40，premeno。  \n",
    "4.肿瘤大小：0-4、5-9、10-14、15-19、20-24、25-29、30-34、35-39、40-44、45-49、50-54， 55-59。  \n",
    "5. inv节点：0-2、3-5、6-8、9-11、12-14、15-17、18-20、21-23、24-26、27-29、30-32， 33-35、36-39。  \n",
    "6. node-caps：是，否。  \n",
    "7.度畸变：1、2、3。8  \n",
    ".乳房：左，右。  \n",
    "9.胸四肢：左上，左下，右上，右下，中央。  \n",
    "10.辐照度：是，否。  "
   ]
  },
  {
   "cell_type": "markdown",
   "id": "quality-bonus",
   "metadata": {},
   "source": [
    "### 选择数据集中四列数据  \n",
    "两列作为输入数据，一列作为输出数据"
   ]
  },
  {
   "cell_type": "code",
   "execution_count": null,
   "id": "linear-textbook",
   "metadata": {},
   "outputs": [],
   "source": [
    "col = ['tumor-size','deg-malig','irradiat']\n",
    "data = pd.DataFrame(data,columns = col)\n",
    "data"
   ]
  },
  {
   "cell_type": "markdown",
   "id": "recovered-gibson",
   "metadata": {},
   "source": [
    "## 数据预处理  "
   ]
  },
  {
   "cell_type": "code",
   "execution_count": null,
   "id": "looking-visitor",
   "metadata": {},
   "outputs": [],
   "source": [
    "data.loc[(data['tumor-size']=='0-4'),'tumor-size'] = np.random.uniform(0,4)\n",
    "data.loc[(data['tumor-size']=='5-9'),'tumor-size'] = np.random.uniform(5,9)\n",
    "data.loc[(data['tumor-size']=='10-14'),'tumor-size'] = np.random.uniform(10,14)\n",
    "data.loc[(data['tumor-size']=='15-19'),'tumor-size'] = np.random.uniform(15,19)\n",
    "data.loc[(data['tumor-size']=='20-24'),'tumor-size'] = np.random.uniform(20,24)\n",
    "data.loc[(data['tumor-size']=='25-29'),'tumor-size'] = np.random.uniform(25,29)\n",
    "data.loc[(data['tumor-size']=='30-34'),'tumor-size'] = np.random.uniform(30,34)\n",
    "data.loc[(data['tumor-size']=='35-39'),'tumor-size'] = np.random.uniform(35,39)\n",
    "data.loc[(data['tumor-size']=='40-44'),'tumor-size'] = np.random.uniform(40,44)\n",
    "data.loc[(data['tumor-size']=='45-49'),'tumor-size'] = np.random.uniform(45,49)\n",
    "data.loc[(data['tumor-size']=='50-54'),'tumor-size'] = np.random.uniform(50,54)\n",
    "data.loc[(data['tumor-size']=='55-59'),'tumor-size'] = np.random.uniform(55,59)\n",
    "data.loc[(data['irradiat']=='no'),'irradiat'] = -1\n",
    "data.loc[(data['irradiat']=='yes'),'irradiat'] = 1\n",
    "data"
   ]
  },
  {
   "cell_type": "code",
   "execution_count": null,
   "id": "middle-durham",
   "metadata": {},
   "outputs": [],
   "source": [
    "test_data = data.values"
   ]
  },
  {
   "cell_type": "code",
   "execution_count": null,
   "id": "developed-safety",
   "metadata": {},
   "outputs": [],
   "source": [
    "for i in range(len(test_data)):\n",
    "    if test_data[i][-1] == -1:\n",
    "        plt.scatter(test_data[i][0],test_data[i][1],c='r')\n",
    "    else:\n",
    "        plt.scatter(test_data[i][0],test_data[i][1],c='b')\n",
    "plt.show()"
   ]
  },
  {
   "cell_type": "code",
   "execution_count": null,
   "id": "medical-insulation",
   "metadata": {},
   "outputs": [],
   "source": [
    "# 打乱数据\n",
    "data = data.sample(frac=1)\n",
    "data"
   ]
  },
  {
   "cell_type": "code",
   "execution_count": null,
   "id": "appreciated-chamber",
   "metadata": {},
   "outputs": [],
   "source": [
    "# 取特征值\n",
    "tumor_data = data.values\n",
    "# tumor_feature = tumor_data[0:,0:2]\n",
    "# 展示前十行\n",
    "# tumor_feature[0:10]"
   ]
  },
  {
   "cell_type": "code",
   "execution_count": null,
   "id": "seven-seating",
   "metadata": {},
   "outputs": [],
   "source": [
    "training = tumor_data[0:228]\n",
    "test = tumor_data[229:]\n",
    "test[10]"
   ]
  },
  {
   "cell_type": "code",
   "execution_count": null,
   "id": "coral-harvey",
   "metadata": {},
   "outputs": [],
   "source": [
    "for i in range(len(test)):\n",
    "    if test[i][-1:] == -1:\n",
    "        plt.scatter(test[i][0],test[i][1],c='r')\n",
    "    else:\n",
    "        plt.scatter(test[i][0],test[i][1],c='b')\n",
    "plt.show()"
   ]
  },
  {
   "cell_type": "code",
   "execution_count": null,
   "id": "stuck-personal",
   "metadata": {},
   "outputs": [],
   "source": [
    "x = test[0][:-1]\n",
    "x"
   ]
  },
  {
   "cell_type": "code",
   "execution_count": null,
   "id": "inside-movie",
   "metadata": {},
   "outputs": [],
   "source": [
    "y = test[0][-1:]\n",
    "y"
   ]
  },
  {
   "cell_type": "markdown",
   "id": "civic-canberra",
   "metadata": {},
   "source": [
    "## 一些工具函数"
   ]
  },
  {
   "cell_type": "code",
   "execution_count": null,
   "id": "insured-australian",
   "metadata": {},
   "outputs": [],
   "source": [
    "def makeArray(I,J):\n",
    "    m = []\n",
    "    for i in range(I):\n",
    "        fill = np.random.random()\n",
    "        m.append([fill]*J)\n",
    "    return m"
   ]
  },
  {
   "cell_type": "code",
   "execution_count": null,
   "id": "finished-charles",
   "metadata": {},
   "outputs": [],
   "source": [
    "def step(a):\n",
    "    if a>0:\n",
    "        return 1\n",
    "    else:\n",
    "        return 0"
   ]
  },
  {
   "cell_type": "code",
   "execution_count": null,
   "id": "paperback-issue",
   "metadata": {},
   "outputs": [],
   "source": [
    "def sign(a):\n",
    "    if a>0:\n",
    "        return 1\n",
    "    else:\n",
    "        return -1"
   ]
  },
  {
   "cell_type": "markdown",
   "id": "fourth-compilation",
   "metadata": {},
   "source": [
    "## 零、感知机模型"
   ]
  },
  {
   "cell_type": "code",
   "execution_count": null,
   "id": "global-usage",
   "metadata": {},
   "outputs": [],
   "source": [
    "# def feeling():\n",
    "#     w = np.zeros(2)\n",
    "#     lr = 0.01\n",
    "#     c = 1\n",
    "# #     循环遍历计数\n",
    "#     cnt = 0\n",
    "#     while True:\n",
    "#         cnt += 1\n",
    "# #         遍历次数超过1000时跳出循环，学习结束\n",
    "#         if cnt > 1000:\n",
    "#             break\n",
    "#         for i in range(len(training)):\n",
    "#             x = np.array(training[i][:-1])\n",
    "#             y = np.array(training[i][-1])\n",
    "\n",
    "#             s = np.sum(w*x)-c\n",
    "#             z = sign(s)\n",
    "#             e = y-z\n",
    "#             w = w+lr*e*x\n",
    "#             c = np.sum(c+lr*e)\n",
    "            \n",
    "            \n",
    "#     for i in range(len(training)):\n",
    "#         if training[i][-1:] == -1:\n",
    "#             plt.scatter(training[i][0],training[i][1],c='r')\n",
    "#         else:\n",
    "#             plt.scatter(training[i][0],training[i][1],c='b')\n",
    "#     X = np.random.uniform(0,60,100)\n",
    "#     Y = -(w[0]*X-c)/w[1]\n",
    "#     plt.plot(X,Y,'g')\n",
    "#     plt.show()\n",
    "#     return cnt,w,c"
   ]
  },
  {
   "cell_type": "code",
   "execution_count": null,
   "id": "caring-genome",
   "metadata": {},
   "outputs": [],
   "source": [
    "def feeling():\n",
    "    w = np.zeros(2)\n",
    "    lr = 0.1\n",
    "    c = 1\n",
    "#     循环遍历计数\n",
    "    cnt = 0\n",
    "    while True:\n",
    "        cnt += 1\n",
    "#         遍历次数超过1000时跳出循环，学习结束\n",
    "        if cnt > 1000:\n",
    "            break\n",
    "        for i in range(len(training)):\n",
    "            x = np.array(training[i][:-1])\n",
    "            y = np.array(training[i][-1])\n",
    "\n",
    "            s = np.sum(w*x)-c\n",
    "            z = sign(s)\n",
    "            if y * z <= 0:\n",
    "                e = y-z\n",
    "                w = w+lr*e*x\n",
    "                c = np.sum(c+lr*e)\n",
    "    return cnt,w,c"
   ]
  },
  {
   "cell_type": "code",
   "execution_count": null,
   "id": "moderate-wesley",
   "metadata": {},
   "outputs": [],
   "source": [
    "if __name__=='__main__':\n",
    "    cnt,w,c=feeling()\n",
    "    print(\"迭代次数：\",cnt)\n",
    "    print(\"超平面法向量：\",w)\n",
    "    print(\"阈值：\",c)\n",
    "    count = 0\n",
    "    for i in range(len(test)):\n",
    "        target = test[i][-1:]\n",
    "        result = sign(np.sum(w*test[i][:-1])-c)\n",
    "        if test[i][-1:] == -1:\n",
    "            plt.scatter(test[i][0],test[i][1],c='r')\n",
    "        else:\n",
    "            plt.scatter(test[i][0],test[i][1],c='b')\n",
    "        if(target == result):\n",
    "            count += 1\n",
    "    accuracy = float(count/len(test))\n",
    "    X = np.random.uniform(0,60,100)\n",
    "    Y = -(w[0]*X-c)/w[1]\n",
    "    plt.plot(X,Y,'g')\n",
    "    plt.show()\n",
    "    print(\"准确率：\",accuracy)"
   ]
  },
  {
   "cell_type": "markdown",
   "id": "horizontal-latvia",
   "metadata": {},
   "source": [
    "## 一、口袋算法"
   ]
  },
  {
   "cell_type": "code",
   "execution_count": null,
   "id": "sealed-treat",
   "metadata": {},
   "outputs": [],
   "source": [
    "def checkErrorRate(test,w,c):\n",
    "    count=0\n",
    "    for i in range(len(test)):\n",
    "        x=np.array(test[i][:-1])\n",
    "        y=test[i][-1]\n",
    "        if np.sign(np.sum(w*x)-c)!=np.sign(y):\n",
    "            count+=1\n",
    "    return count/len(test)"
   ]
  },
  {
   "cell_type": "code",
   "execution_count": null,
   "id": "painful-effectiveness",
   "metadata": {},
   "outputs": [],
   "source": [
    "def Pocket():\n",
    "    w = np.zeros(2)\n",
    "    lr = 0.1\n",
    "    c = 1\n",
    "    best_w = w\n",
    "    bestRate = 1\n",
    "    best_c = c\n",
    "#     循环遍历计数\n",
    "    cnt = 0\n",
    "    while True:\n",
    "        cnt += 1\n",
    "#         遍历次数超过1000时跳出循环，学习结束\n",
    "        if cnt > 1000:\n",
    "            break\n",
    "        for i in range(len(training)):\n",
    "            x = np.array(training[i][:-1])\n",
    "            y = training[i][-1]\n",
    "            \n",
    "            s = np.sum(w*x)-c\n",
    "            z = sign(s)\n",
    "            if y*z <= 0:\n",
    "                e = y-z\n",
    "                w = w+lr*e*x\n",
    "                c = np.sum(c+lr*e)\n",
    "                rate = checkErrorRate(training,w,c)\n",
    "                if rate<bestRate:\n",
    "                    bestRate = rate\n",
    "                    best_w = w\n",
    "                    best_c = c\n",
    "    return cnt,best_w,best_c"
   ]
  },
  {
   "cell_type": "code",
   "execution_count": null,
   "id": "informed-jefferson",
   "metadata": {},
   "outputs": [],
   "source": [
    "if __name__=='__main__':\n",
    "    cnt,best_w,best_c=Pocket()\n",
    "    print(\"迭代次数：\",cnt)\n",
    "    print(\"超平面法向量：\",best_w)\n",
    "    print(\"阈值：\",best_c)\n",
    "    count = 0\n",
    "    for i in range(len(test)):\n",
    "        target = test[i][-1:]\n",
    "        result = sign(np.sum(best_w*test[i][:-1])-best_c)\n",
    "        if(target == result):\n",
    "            count += 1\n",
    "        if test[i][-1] == -1:\n",
    "            plt.scatter(test[i][0],test[i][1],c='r')\n",
    "        else:\n",
    "            plt.scatter(test[i][0],test[i][1],c='b')\n",
    "    accuracy = float(count/len(test))\n",
    "    X = np.random.uniform(0,60,100)\n",
    "    Y = -(best_w[0]*X-best_c)/best_w[1]\n",
    "    plt.plot(X,Y,'g')\n",
    "    plt.show()\n",
    "    print(\"准确率：\",accuracy)"
   ]
  }
 ],
 "metadata": {
  "kernelspec": {
   "display_name": "Python 3",
   "language": "python",
   "name": "python3"
  },
  "language_info": {
   "codemirror_mode": {
    "name": "ipython",
    "version": 3
   },
   "file_extension": ".py",
   "mimetype": "text/x-python",
   "name": "python",
   "nbconvert_exporter": "python",
   "pygments_lexer": "ipython3",
   "version": "3.6.12"
  }
 },
 "nbformat": 4,
 "nbformat_minor": 5
}
