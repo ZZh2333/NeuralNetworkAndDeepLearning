{
 "cells": [
  {
   "cell_type": "markdown",
   "id": "developing-equilibrium",
   "metadata": {},
   "source": [
    "# 感知机改进算法"
   ]
  },
  {
   "cell_type": "markdown",
   "id": "driving-annual",
   "metadata": {},
   "source": [
    "## 导包"
   ]
  },
  {
   "cell_type": "code",
   "execution_count": 1,
   "id": "nasty-phrase",
   "metadata": {},
   "outputs": [],
   "source": [
    "import pandas as pd\n",
    "import numpy as np\n",
    "import matplotlib.pyplot as plt\n",
    "from sklearn import preprocessing"
   ]
  },
  {
   "cell_type": "markdown",
   "id": "removed-terminal",
   "metadata": {},
   "source": [
    "## 导入数据集"
   ]
  },
  {
   "cell_type": "code",
   "execution_count": 2,
   "id": "talented-repair",
   "metadata": {},
   "outputs": [
    {
     "data": {
      "text/html": [
       "<div>\n",
       "<style scoped>\n",
       "    .dataframe tbody tr th:only-of-type {\n",
       "        vertical-align: middle;\n",
       "    }\n",
       "\n",
       "    .dataframe tbody tr th {\n",
       "        vertical-align: top;\n",
       "    }\n",
       "\n",
       "    .dataframe thead th {\n",
       "        text-align: right;\n",
       "    }\n",
       "</style>\n",
       "<table border=\"1\" class=\"dataframe\">\n",
       "  <thead>\n",
       "    <tr style=\"text-align: right;\">\n",
       "      <th></th>\n",
       "      <th>class</th>\n",
       "      <th>age</th>\n",
       "      <th>menopause</th>\n",
       "      <th>tumor-size</th>\n",
       "      <th>inv-nodes</th>\n",
       "      <th>node-caps</th>\n",
       "      <th>deg-malig</th>\n",
       "      <th>breast</th>\n",
       "      <th>breast-quad</th>\n",
       "      <th>irradiat</th>\n",
       "    </tr>\n",
       "  </thead>\n",
       "  <tbody>\n",
       "    <tr>\n",
       "      <th>0</th>\n",
       "      <td>no-recurrence-events</td>\n",
       "      <td>30-39</td>\n",
       "      <td>premeno</td>\n",
       "      <td>30-34</td>\n",
       "      <td>0-2</td>\n",
       "      <td>no</td>\n",
       "      <td>3</td>\n",
       "      <td>left</td>\n",
       "      <td>left_low</td>\n",
       "      <td>no</td>\n",
       "    </tr>\n",
       "    <tr>\n",
       "      <th>1</th>\n",
       "      <td>no-recurrence-events</td>\n",
       "      <td>40-49</td>\n",
       "      <td>premeno</td>\n",
       "      <td>20-24</td>\n",
       "      <td>0-2</td>\n",
       "      <td>no</td>\n",
       "      <td>2</td>\n",
       "      <td>right</td>\n",
       "      <td>right_up</td>\n",
       "      <td>no</td>\n",
       "    </tr>\n",
       "    <tr>\n",
       "      <th>2</th>\n",
       "      <td>no-recurrence-events</td>\n",
       "      <td>40-49</td>\n",
       "      <td>premeno</td>\n",
       "      <td>20-24</td>\n",
       "      <td>0-2</td>\n",
       "      <td>no</td>\n",
       "      <td>2</td>\n",
       "      <td>left</td>\n",
       "      <td>left_low</td>\n",
       "      <td>no</td>\n",
       "    </tr>\n",
       "    <tr>\n",
       "      <th>3</th>\n",
       "      <td>no-recurrence-events</td>\n",
       "      <td>60-69</td>\n",
       "      <td>ge40</td>\n",
       "      <td>15-19</td>\n",
       "      <td>0-2</td>\n",
       "      <td>no</td>\n",
       "      <td>2</td>\n",
       "      <td>right</td>\n",
       "      <td>left_up</td>\n",
       "      <td>no</td>\n",
       "    </tr>\n",
       "    <tr>\n",
       "      <th>4</th>\n",
       "      <td>no-recurrence-events</td>\n",
       "      <td>40-49</td>\n",
       "      <td>premeno</td>\n",
       "      <td>0-4</td>\n",
       "      <td>0-2</td>\n",
       "      <td>no</td>\n",
       "      <td>2</td>\n",
       "      <td>right</td>\n",
       "      <td>right_low</td>\n",
       "      <td>no</td>\n",
       "    </tr>\n",
       "    <tr>\n",
       "      <th>...</th>\n",
       "      <td>...</td>\n",
       "      <td>...</td>\n",
       "      <td>...</td>\n",
       "      <td>...</td>\n",
       "      <td>...</td>\n",
       "      <td>...</td>\n",
       "      <td>...</td>\n",
       "      <td>...</td>\n",
       "      <td>...</td>\n",
       "      <td>...</td>\n",
       "    </tr>\n",
       "    <tr>\n",
       "      <th>281</th>\n",
       "      <td>recurrence-events</td>\n",
       "      <td>30-39</td>\n",
       "      <td>premeno</td>\n",
       "      <td>30-34</td>\n",
       "      <td>0-2</td>\n",
       "      <td>no</td>\n",
       "      <td>2</td>\n",
       "      <td>left</td>\n",
       "      <td>left_up</td>\n",
       "      <td>no</td>\n",
       "    </tr>\n",
       "    <tr>\n",
       "      <th>282</th>\n",
       "      <td>recurrence-events</td>\n",
       "      <td>30-39</td>\n",
       "      <td>premeno</td>\n",
       "      <td>20-24</td>\n",
       "      <td>0-2</td>\n",
       "      <td>no</td>\n",
       "      <td>3</td>\n",
       "      <td>left</td>\n",
       "      <td>left_up</td>\n",
       "      <td>yes</td>\n",
       "    </tr>\n",
       "    <tr>\n",
       "      <th>283</th>\n",
       "      <td>recurrence-events</td>\n",
       "      <td>60-69</td>\n",
       "      <td>ge40</td>\n",
       "      <td>20-24</td>\n",
       "      <td>0-2</td>\n",
       "      <td>no</td>\n",
       "      <td>1</td>\n",
       "      <td>right</td>\n",
       "      <td>left_up</td>\n",
       "      <td>no</td>\n",
       "    </tr>\n",
       "    <tr>\n",
       "      <th>284</th>\n",
       "      <td>recurrence-events</td>\n",
       "      <td>40-49</td>\n",
       "      <td>ge40</td>\n",
       "      <td>30-34</td>\n",
       "      <td>3-5</td>\n",
       "      <td>no</td>\n",
       "      <td>3</td>\n",
       "      <td>left</td>\n",
       "      <td>left_low</td>\n",
       "      <td>no</td>\n",
       "    </tr>\n",
       "    <tr>\n",
       "      <th>285</th>\n",
       "      <td>recurrence-events</td>\n",
       "      <td>50-59</td>\n",
       "      <td>ge40</td>\n",
       "      <td>30-34</td>\n",
       "      <td>3-5</td>\n",
       "      <td>no</td>\n",
       "      <td>3</td>\n",
       "      <td>left</td>\n",
       "      <td>left_low</td>\n",
       "      <td>no</td>\n",
       "    </tr>\n",
       "  </tbody>\n",
       "</table>\n",
       "<p>286 rows × 10 columns</p>\n",
       "</div>"
      ],
      "text/plain": [
       "                    class    age menopause tumor-size inv-nodes node-caps  \\\n",
       "0    no-recurrence-events  30-39   premeno      30-34       0-2        no   \n",
       "1    no-recurrence-events  40-49   premeno      20-24       0-2        no   \n",
       "2    no-recurrence-events  40-49   premeno      20-24       0-2        no   \n",
       "3    no-recurrence-events  60-69      ge40      15-19       0-2        no   \n",
       "4    no-recurrence-events  40-49   premeno        0-4       0-2        no   \n",
       "..                    ...    ...       ...        ...       ...       ...   \n",
       "281     recurrence-events  30-39   premeno      30-34       0-2        no   \n",
       "282     recurrence-events  30-39   premeno      20-24       0-2        no   \n",
       "283     recurrence-events  60-69      ge40      20-24       0-2        no   \n",
       "284     recurrence-events  40-49      ge40      30-34       3-5        no   \n",
       "285     recurrence-events  50-59      ge40      30-34       3-5        no   \n",
       "\n",
       "     deg-malig breast breast-quad irradiat  \n",
       "0            3   left    left_low       no  \n",
       "1            2  right    right_up       no  \n",
       "2            2   left    left_low       no  \n",
       "3            2  right     left_up       no  \n",
       "4            2  right   right_low       no  \n",
       "..         ...    ...         ...      ...  \n",
       "281          2   left     left_up       no  \n",
       "282          3   left     left_up      yes  \n",
       "283          1  right     left_up       no  \n",
       "284          3   left    left_low       no  \n",
       "285          3   left    left_low       no  \n",
       "\n",
       "[286 rows x 10 columns]"
      ]
     },
     "execution_count": 2,
     "metadata": {},
     "output_type": "execute_result"
    }
   ],
   "source": [
    "data = pd.read_csv(r\"./dataset/breast-cancer.data\",header=None,names=['class','age','menopause','tumor-size','inv-nodes','node-caps','deg-malig','breast','breast-quad','irradiat'])\n",
    "data"
   ]
  },
  {
   "cell_type": "markdown",
   "id": "distinct-doctor",
   "metadata": {},
   "source": [
    "## 数据解释  \n",
    "1.类别：无复发事件，复发事件  \n",
    "2.年龄：10-19、20-29、30-39、40-49、50-59、60-69、70-79、80-89、90 -99。  \n",
    "3.更年期：lt40，ge40，premeno。  \n",
    "4.肿瘤大小：0-4、5-9、10-14、15-19、20-24、25-29、30-34、35-39、40-44、45-49、50-54， 55-59。  \n",
    "5. inv节点：0-2、3-5、6-8、9-11、12-14、15-17、18-20、21-23、24-26、27-29、30-32， 33-35、36-39。  \n",
    "6. node-caps：是，否。  \n",
    "7.度畸变：1、2、3。8  \n",
    ".乳房：左，右。  \n",
    "9.胸四肢：左上，左下，右上，右下，中央。  \n",
    "10.辐照度：是，否。  "
   ]
  },
  {
   "cell_type": "markdown",
   "id": "smooth-measure",
   "metadata": {},
   "source": [
    "### 选择数据集中四列数据  \n",
    "两列作为输入数据，一列作为输出数据"
   ]
  },
  {
   "cell_type": "code",
   "execution_count": 3,
   "id": "verbal-jumping",
   "metadata": {},
   "outputs": [
    {
     "data": {
      "text/html": [
       "<div>\n",
       "<style scoped>\n",
       "    .dataframe tbody tr th:only-of-type {\n",
       "        vertical-align: middle;\n",
       "    }\n",
       "\n",
       "    .dataframe tbody tr th {\n",
       "        vertical-align: top;\n",
       "    }\n",
       "\n",
       "    .dataframe thead th {\n",
       "        text-align: right;\n",
       "    }\n",
       "</style>\n",
       "<table border=\"1\" class=\"dataframe\">\n",
       "  <thead>\n",
       "    <tr style=\"text-align: right;\">\n",
       "      <th></th>\n",
       "      <th>tumor-size</th>\n",
       "      <th>deg-malig</th>\n",
       "      <th>irradiat</th>\n",
       "    </tr>\n",
       "  </thead>\n",
       "  <tbody>\n",
       "    <tr>\n",
       "      <th>0</th>\n",
       "      <td>30-34</td>\n",
       "      <td>3</td>\n",
       "      <td>no</td>\n",
       "    </tr>\n",
       "    <tr>\n",
       "      <th>1</th>\n",
       "      <td>20-24</td>\n",
       "      <td>2</td>\n",
       "      <td>no</td>\n",
       "    </tr>\n",
       "    <tr>\n",
       "      <th>2</th>\n",
       "      <td>20-24</td>\n",
       "      <td>2</td>\n",
       "      <td>no</td>\n",
       "    </tr>\n",
       "    <tr>\n",
       "      <th>3</th>\n",
       "      <td>15-19</td>\n",
       "      <td>2</td>\n",
       "      <td>no</td>\n",
       "    </tr>\n",
       "    <tr>\n",
       "      <th>4</th>\n",
       "      <td>0-4</td>\n",
       "      <td>2</td>\n",
       "      <td>no</td>\n",
       "    </tr>\n",
       "    <tr>\n",
       "      <th>...</th>\n",
       "      <td>...</td>\n",
       "      <td>...</td>\n",
       "      <td>...</td>\n",
       "    </tr>\n",
       "    <tr>\n",
       "      <th>281</th>\n",
       "      <td>30-34</td>\n",
       "      <td>2</td>\n",
       "      <td>no</td>\n",
       "    </tr>\n",
       "    <tr>\n",
       "      <th>282</th>\n",
       "      <td>20-24</td>\n",
       "      <td>3</td>\n",
       "      <td>yes</td>\n",
       "    </tr>\n",
       "    <tr>\n",
       "      <th>283</th>\n",
       "      <td>20-24</td>\n",
       "      <td>1</td>\n",
       "      <td>no</td>\n",
       "    </tr>\n",
       "    <tr>\n",
       "      <th>284</th>\n",
       "      <td>30-34</td>\n",
       "      <td>3</td>\n",
       "      <td>no</td>\n",
       "    </tr>\n",
       "    <tr>\n",
       "      <th>285</th>\n",
       "      <td>30-34</td>\n",
       "      <td>3</td>\n",
       "      <td>no</td>\n",
       "    </tr>\n",
       "  </tbody>\n",
       "</table>\n",
       "<p>286 rows × 3 columns</p>\n",
       "</div>"
      ],
      "text/plain": [
       "    tumor-size  deg-malig irradiat\n",
       "0        30-34          3       no\n",
       "1        20-24          2       no\n",
       "2        20-24          2       no\n",
       "3        15-19          2       no\n",
       "4          0-4          2       no\n",
       "..         ...        ...      ...\n",
       "281      30-34          2       no\n",
       "282      20-24          3      yes\n",
       "283      20-24          1       no\n",
       "284      30-34          3       no\n",
       "285      30-34          3       no\n",
       "\n",
       "[286 rows x 3 columns]"
      ]
     },
     "execution_count": 3,
     "metadata": {},
     "output_type": "execute_result"
    }
   ],
   "source": [
    "col = ['tumor-size','deg-malig','irradiat']\n",
    "data = pd.DataFrame(data,columns = col)\n",
    "data"
   ]
  },
  {
   "cell_type": "markdown",
   "id": "convinced-hardwood",
   "metadata": {},
   "source": [
    "## 数据预处理  "
   ]
  },
  {
   "cell_type": "code",
   "execution_count": 4,
   "id": "familiar-convergence",
   "metadata": {},
   "outputs": [
    {
     "data": {
      "text/html": [
       "<div>\n",
       "<style scoped>\n",
       "    .dataframe tbody tr th:only-of-type {\n",
       "        vertical-align: middle;\n",
       "    }\n",
       "\n",
       "    .dataframe tbody tr th {\n",
       "        vertical-align: top;\n",
       "    }\n",
       "\n",
       "    .dataframe thead th {\n",
       "        text-align: right;\n",
       "    }\n",
       "</style>\n",
       "<table border=\"1\" class=\"dataframe\">\n",
       "  <thead>\n",
       "    <tr style=\"text-align: right;\">\n",
       "      <th></th>\n",
       "      <th>tumor-size</th>\n",
       "      <th>deg-malig</th>\n",
       "      <th>irradiat</th>\n",
       "    </tr>\n",
       "  </thead>\n",
       "  <tbody>\n",
       "    <tr>\n",
       "      <th>0</th>\n",
       "      <td>30.4096</td>\n",
       "      <td>3</td>\n",
       "      <td>-1</td>\n",
       "    </tr>\n",
       "    <tr>\n",
       "      <th>1</th>\n",
       "      <td>20.4582</td>\n",
       "      <td>2</td>\n",
       "      <td>-1</td>\n",
       "    </tr>\n",
       "    <tr>\n",
       "      <th>2</th>\n",
       "      <td>20.4582</td>\n",
       "      <td>2</td>\n",
       "      <td>-1</td>\n",
       "    </tr>\n",
       "    <tr>\n",
       "      <th>3</th>\n",
       "      <td>16.1417</td>\n",
       "      <td>2</td>\n",
       "      <td>-1</td>\n",
       "    </tr>\n",
       "    <tr>\n",
       "      <th>4</th>\n",
       "      <td>3.49728</td>\n",
       "      <td>2</td>\n",
       "      <td>-1</td>\n",
       "    </tr>\n",
       "    <tr>\n",
       "      <th>...</th>\n",
       "      <td>...</td>\n",
       "      <td>...</td>\n",
       "      <td>...</td>\n",
       "    </tr>\n",
       "    <tr>\n",
       "      <th>281</th>\n",
       "      <td>30.4096</td>\n",
       "      <td>2</td>\n",
       "      <td>-1</td>\n",
       "    </tr>\n",
       "    <tr>\n",
       "      <th>282</th>\n",
       "      <td>20.4582</td>\n",
       "      <td>3</td>\n",
       "      <td>1</td>\n",
       "    </tr>\n",
       "    <tr>\n",
       "      <th>283</th>\n",
       "      <td>20.4582</td>\n",
       "      <td>1</td>\n",
       "      <td>-1</td>\n",
       "    </tr>\n",
       "    <tr>\n",
       "      <th>284</th>\n",
       "      <td>30.4096</td>\n",
       "      <td>3</td>\n",
       "      <td>-1</td>\n",
       "    </tr>\n",
       "    <tr>\n",
       "      <th>285</th>\n",
       "      <td>30.4096</td>\n",
       "      <td>3</td>\n",
       "      <td>-1</td>\n",
       "    </tr>\n",
       "  </tbody>\n",
       "</table>\n",
       "<p>286 rows × 3 columns</p>\n",
       "</div>"
      ],
      "text/plain": [
       "    tumor-size  deg-malig irradiat\n",
       "0      30.4096          3       -1\n",
       "1      20.4582          2       -1\n",
       "2      20.4582          2       -1\n",
       "3      16.1417          2       -1\n",
       "4      3.49728          2       -1\n",
       "..         ...        ...      ...\n",
       "281    30.4096          2       -1\n",
       "282    20.4582          3        1\n",
       "283    20.4582          1       -1\n",
       "284    30.4096          3       -1\n",
       "285    30.4096          3       -1\n",
       "\n",
       "[286 rows x 3 columns]"
      ]
     },
     "execution_count": 4,
     "metadata": {},
     "output_type": "execute_result"
    }
   ],
   "source": [
    "data.loc[(data['tumor-size']=='0-4'),'tumor-size'] = np.random.uniform(0,4)\n",
    "data.loc[(data['tumor-size']=='5-9'),'tumor-size'] = np.random.uniform(5,9)\n",
    "data.loc[(data['tumor-size']=='10-14'),'tumor-size'] = np.random.uniform(10,14)\n",
    "data.loc[(data['tumor-size']=='15-19'),'tumor-size'] = np.random.uniform(15,19)\n",
    "data.loc[(data['tumor-size']=='20-24'),'tumor-size'] = np.random.uniform(20,24)\n",
    "data.loc[(data['tumor-size']=='25-29'),'tumor-size'] = np.random.uniform(25,29)\n",
    "data.loc[(data['tumor-size']=='30-34'),'tumor-size'] = np.random.uniform(30,34)\n",
    "data.loc[(data['tumor-size']=='35-39'),'tumor-size'] = np.random.uniform(35,39)\n",
    "data.loc[(data['tumor-size']=='40-44'),'tumor-size'] = np.random.uniform(40,44)\n",
    "data.loc[(data['tumor-size']=='45-49'),'tumor-size'] = np.random.uniform(45,49)\n",
    "data.loc[(data['tumor-size']=='50-54'),'tumor-size'] = np.random.uniform(50,54)\n",
    "data.loc[(data['tumor-size']=='55-59'),'tumor-size'] = np.random.uniform(55,59)\n",
    "data.loc[(data['irradiat']=='no'),'irradiat'] = -1\n",
    "data.loc[(data['irradiat']=='yes'),'irradiat'] = 1\n",
    "data"
   ]
  },
  {
   "cell_type": "code",
   "execution_count": 5,
   "id": "equal-sample",
   "metadata": {},
   "outputs": [],
   "source": [
    "test_data = data.values"
   ]
  },
  {
   "cell_type": "code",
   "execution_count": 6,
   "id": "narrative-python",
   "metadata": {},
   "outputs": [
    {
     "data": {
      "image/png": "[encoded data removed]",
      "text/plain": [
       "<Figure size 432x288 with 1 Axes>"
      ]
     },
     "metadata": {
      "needs_background": "light"
     },
     "output_type": "display_data"
    }
   ],
   "source": [
    "for i in range(len(test_data)):\n",
    "    if test_data[i][-1] == -1:\n",
    "        plt.scatter(test_data[i][0],test_data[i][1],c='r')\n",
    "    else:\n",
    "        plt.scatter(test_data[i][0],test_data[i][1],c='b')\n",
    "plt.show()"
   ]
  },
  {
   "cell_type": "code",
   "execution_count": 7,
   "id": "billion-honolulu",
   "metadata": {},
   "outputs": [
    {
     "data": {
      "text/html": [
       "<div>\n",
       "<style scoped>\n",
       "    .dataframe tbody tr th:only-of-type {\n",
       "        vertical-align: middle;\n",
       "    }\n",
       "\n",
       "    .dataframe tbody tr th {\n",
       "        vertical-align: top;\n",
       "    }\n",
       "\n",
       "    .dataframe thead th {\n",
       "        text-align: right;\n",
       "    }\n",
       "</style>\n",
       "<table border=\"1\" class=\"dataframe\">\n",
       "  <thead>\n",
       "    <tr style=\"text-align: right;\">\n",
       "      <th></th>\n",
       "      <th>tumor-size</th>\n",
       "      <th>deg-malig</th>\n",
       "      <th>irradiat</th>\n",
       "    </tr>\n",
       "  </thead>\n",
       "  <tbody>\n",
       "    <tr>\n",
       "      <th>222</th>\n",
       "      <td>26.2177</td>\n",
       "      <td>3</td>\n",
       "      <td>1</td>\n",
       "    </tr>\n",
       "    <tr>\n",
       "      <th>113</th>\n",
       "      <td>10.6693</td>\n",
       "      <td>1</td>\n",
       "      <td>-1</td>\n",
       "    </tr>\n",
       "    <tr>\n",
       "      <th>258</th>\n",
       "      <td>30.4096</td>\n",
       "      <td>2</td>\n",
       "      <td>1</td>\n",
       "    </tr>\n",
       "    <tr>\n",
       "      <th>178</th>\n",
       "      <td>26.2177</td>\n",
       "      <td>2</td>\n",
       "      <td>1</td>\n",
       "    </tr>\n",
       "    <tr>\n",
       "      <th>285</th>\n",
       "      <td>30.4096</td>\n",
       "      <td>3</td>\n",
       "      <td>-1</td>\n",
       "    </tr>\n",
       "    <tr>\n",
       "      <th>...</th>\n",
       "      <td>...</td>\n",
       "      <td>...</td>\n",
       "      <td>...</td>\n",
       "    </tr>\n",
       "    <tr>\n",
       "      <th>278</th>\n",
       "      <td>38.6895</td>\n",
       "      <td>3</td>\n",
       "      <td>-1</td>\n",
       "    </tr>\n",
       "    <tr>\n",
       "      <th>69</th>\n",
       "      <td>52.444</td>\n",
       "      <td>2</td>\n",
       "      <td>-1</td>\n",
       "    </tr>\n",
       "    <tr>\n",
       "      <th>233</th>\n",
       "      <td>16.1417</td>\n",
       "      <td>1</td>\n",
       "      <td>1</td>\n",
       "    </tr>\n",
       "    <tr>\n",
       "      <th>174</th>\n",
       "      <td>26.2177</td>\n",
       "      <td>2</td>\n",
       "      <td>1</td>\n",
       "    </tr>\n",
       "    <tr>\n",
       "      <th>98</th>\n",
       "      <td>30.4096</td>\n",
       "      <td>1</td>\n",
       "      <td>-1</td>\n",
       "    </tr>\n",
       "  </tbody>\n",
       "</table>\n",
       "<p>286 rows × 3 columns</p>\n",
       "</div>"
      ],
      "text/plain": [
       "    tumor-size  deg-malig irradiat\n",
       "222    26.2177          3        1\n",
       "113    10.6693          1       -1\n",
       "258    30.4096          2        1\n",
       "178    26.2177          2        1\n",
       "285    30.4096          3       -1\n",
       "..         ...        ...      ...\n",
       "278    38.6895          3       -1\n",
       "69      52.444          2       -1\n",
       "233    16.1417          1        1\n",
       "174    26.2177          2        1\n",
       "98     30.4096          1       -1\n",
       "\n",
       "[286 rows x 3 columns]"
      ]
     },
     "execution_count": 7,
     "metadata": {},
     "output_type": "execute_result"
    }
   ],
   "source": [
    "# 打乱数据\n",
    "data = data.sample(frac=1)\n",
    "data"
   ]
  },
  {
   "cell_type": "code",
   "execution_count": 8,
   "id": "starting-remainder",
   "metadata": {},
   "outputs": [],
   "source": [
    "# 取特征值\n",
    "tumor_data = data.values\n",
    "# tumor_feature = tumor_data[0:,0:2]\n",
    "# 展示前十行\n",
    "# tumor_feature[0:10]"
   ]
  },
  {
   "cell_type": "code",
   "execution_count": 9,
   "id": "ideal-appraisal",
   "metadata": {},
   "outputs": [
    {
     "data": {
      "text/plain": [
       "array([30.40958806605104, 3, -1], dtype=object)"
      ]
     },
     "execution_count": 9,
     "metadata": {},
     "output_type": "execute_result"
    }
   ],
   "source": [
    "training = tumor_data[0:228]\n",
    "test = tumor_data[229:]\n",
    "test[10]"
   ]
  },
  {
   "cell_type": "code",
   "execution_count": 10,
   "id": "reasonable-guitar",
   "metadata": {},
   "outputs": [
    {
     "data": {
      "image/png": "[encoded data removed]",
      "text/plain": [
       "<Figure size 432x288 with 1 Axes>"
      ]
     },
     "metadata": {
      "needs_background": "light"
     },
     "output_type": "display_data"
    }
   ],
   "source": [
    "for i in range(len(test)):\n",
    "    if test[i][-1:] == -1:\n",
    "        plt.scatter(test[i][0],test[i][1],c='r')\n",
    "    else:\n",
    "        plt.scatter(test[i][0],test[i][1],c='b')\n",
    "plt.show()"
   ]
  },
  {
   "cell_type": "code",
   "execution_count": 11,
   "id": "heard-increase",
   "metadata": {},
   "outputs": [
    {
     "data": {
      "text/plain": [
       "array([26.21765835398525, 2], dtype=object)"
      ]
     },
     "execution_count": 11,
     "metadata": {},
     "output_type": "execute_result"
    }
   ],
   "source": [
    "x = test[0][:-1]\n",
    "x"
   ]
  },
  {
   "cell_type": "code",
   "execution_count": 12,
   "id": "enhanced-caution",
   "metadata": {},
   "outputs": [
    {
     "data": {
      "text/plain": [
       "array([-1], dtype=object)"
      ]
     },
     "execution_count": 12,
     "metadata": {},
     "output_type": "execute_result"
    }
   ],
   "source": [
    "y = test[0][-1:]\n",
    "y"
   ]
  },
  {
   "cell_type": "markdown",
   "id": "referenced-house",
   "metadata": {},
   "source": [
    "## 一些工具函数"
   ]
  },
  {
   "cell_type": "code",
   "execution_count": 13,
   "id": "preceding-massage",
   "metadata": {},
   "outputs": [],
   "source": [
    "def makeArray(I,J):\n",
    "    m = []\n",
    "    for i in range(I):\n",
    "        fill = np.random.random()\n",
    "        m.append([fill]*J)\n",
    "    return m"
   ]
  },
  {
   "cell_type": "code",
   "execution_count": 14,
   "id": "intended-optimum",
   "metadata": {},
   "outputs": [],
   "source": [
    "def step(a):\n",
    "    if a>0:\n",
    "        return 1\n",
    "    else:\n",
    "        return 0"
   ]
  },
  {
   "cell_type": "code",
   "execution_count": 15,
   "id": "suburban-daily",
   "metadata": {},
   "outputs": [],
   "source": [
    "def sign(a):\n",
    "    if a>0:\n",
    "        return 1\n",
    "    else:\n",
    "        return -1"
   ]
  },
  {
   "cell_type": "markdown",
   "id": "usual-condition",
   "metadata": {},
   "source": [
    "## 零、感知机模型"
   ]
  },
  {
   "cell_type": "code",
   "execution_count": 16,
   "id": "caring-benefit",
   "metadata": {},
   "outputs": [],
   "source": [
    "# def feeling():\n",
    "#     w = np.zeros(2)\n",
    "#     lr = 0.01\n",
    "#     c = 1\n",
    "# #     循环遍历计数\n",
    "#     cnt = 0\n",
    "#     while True:\n",
    "#         cnt += 1\n",
    "# #         遍历次数超过1000时跳出循环，学习结束\n",
    "#         if cnt > 1000:\n",
    "#             break\n",
    "#         for i in range(len(training)):\n",
    "#             x = np.array(training[i][:-1])\n",
    "#             y = np.array(training[i][-1])\n",
    "\n",
    "#             s = np.sum(w*x)-c\n",
    "#             z = sign(s)\n",
    "#             e = y-z\n",
    "#             w = w+lr*e*x\n",
    "#             c = np.sum(c+lr*e)\n",
    "            \n",
    "            \n",
    "#     for i in range(len(training)):\n",
    "#         if training[i][-1:] == -1:\n",
    "#             plt.scatter(training[i][0],training[i][1],c='r')\n",
    "#         else:\n",
    "#             plt.scatter(training[i][0],training[i][1],c='b')\n",
    "#     X = np.random.uniform(0,60,100)\n",
    "#     Y = -(w[0]*X-c)/w[1]\n",
    "#     plt.plot(X,Y,'g')\n",
    "#     plt.show()\n",
    "#     return cnt,w,c"
   ]
  },
  {
   "cell_type": "code",
   "execution_count": 17,
   "id": "typical-parish",
   "metadata": {},
   "outputs": [],
   "source": [
    "def feeling():\n",
    "    w = np.zeros(2)\n",
    "    lr = 0.1\n",
    "    c = 1\n",
    "#     循环遍历计数\n",
    "    cnt = 0\n",
    "    while True:\n",
    "        cnt += 1\n",
    "#         遍历次数超过1000时跳出循环，学习结束\n",
    "        if cnt > 1000:\n",
    "            break\n",
    "        for i in range(len(training)):\n",
    "            x = np.array(training[i][:-1])\n",
    "            y = np.array(training[i][-1])\n",
    "\n",
    "            s = np.sum(w*x)-c\n",
    "            z = sign(s)\n",
    "            if y * z <= 0:\n",
    "                e = y-z\n",
    "                w = w+lr*e*x\n",
    "                c = np.sum(c+lr*e)\n",
    "    return cnt,w,c"
   ]
  },
  {
   "cell_type": "code",
   "execution_count": 18,
   "id": "specified-horizon",
   "metadata": {},
   "outputs": [
    {
     "name": "stdout",
     "output_type": "stream",
     "text": [
      "迭代次数： 1001\n",
      "超平面法向量： [-154.7070798603608 -1872.2000000024002]\n",
      "阈值： -6912.999999995904\n"
     ]
    },
    {
     "data": {
      "image/png": "[encoded data removed]",
      "text/plain": [
       "<Figure size 432x288 with 1 Axes>"
      ]
     },
     "metadata": {
      "needs_background": "light"
     },
     "output_type": "display_data"
    },
    {
     "name": "stdout",
     "output_type": "stream",
     "text": [
      "准确率： 0.45614035087719296\n"
     ]
    }
   ],
   "source": [
    "if __name__=='__main__':\n",
    "    cnt,w,c=feeling()\n",
    "    print(\"迭代次数：\",cnt)\n",
    "    print(\"超平面法向量：\",w)\n",
    "    print(\"阈值：\",c)\n",
    "    count = 0\n",
    "    for i in range(len(test)):\n",
    "        target = test[i][-1:]\n",
    "        result = sign(np.sum(w*test[i][:-1])-c)\n",
    "        if test[i][-1:] == -1:\n",
    "            plt.scatter(test[i][0],test[i][1],c='r')\n",
    "        else:\n",
    "            plt.scatter(test[i][0],test[i][1],c='b')\n",
    "        if(target == result):\n",
    "            count += 1\n",
    "    accuracy = float(count/len(test))\n",
    "    X = np.random.uniform(0,60,50)\n",
    "    Y = -(w[0]*X-c)/w[1]\n",
    "    plt.plot(X,Y,'g')\n",
    "    plt.show()\n",
    "    print(\"准确率：\",accuracy)"
   ]
  },
  {
   "cell_type": "markdown",
   "id": "searching-construction",
   "metadata": {},
   "source": [
    "## 一、口袋算法"
   ]
  },
  {
   "cell_type": "code",
   "execution_count": 19,
   "id": "electoral-interest",
   "metadata": {},
   "outputs": [],
   "source": [
    "def checkErrorRate(test,w,c):\n",
    "    count=0\n",
    "    for i in range(len(test)):\n",
    "        x=np.array(test[i][:-1])\n",
    "        y=test[i][-1]\n",
    "        if np.sign(np.sum(w*x)-c)!=np.sign(y):\n",
    "            count+=1\n",
    "    return count/len(test)"
   ]
  },
  {
   "cell_type": "code",
   "execution_count": 20,
   "id": "acquired-rescue",
   "metadata": {},
   "outputs": [],
   "source": [
    "def Pocket():\n",
    "    w = np.zeros(2)\n",
    "    lr = 0.1\n",
    "    c = 1\n",
    "    best_w = w\n",
    "    bestRate = 1\n",
    "    best_c = c\n",
    "#     循环遍历计数\n",
    "    cnt = 0\n",
    "    while True:\n",
    "        cnt += 1\n",
    "#         遍历次数超过1000时跳出循环，学习结束\n",
    "        if cnt > 1000:\n",
    "            break\n",
    "        for i in range(len(training)):\n",
    "            x = np.array(training[i][:-1])\n",
    "            y = training[i][-1]\n",
    "            \n",
    "            s = np.sum(w*x)-c\n",
    "            z = sign(s)\n",
    "            if y*z <= 0:\n",
    "                e = y-z\n",
    "                w = w+lr*e*x\n",
    "                c = np.sum(c+lr*e)\n",
    "                rate = checkErrorRate(training,w,c)\n",
    "                if rate<bestRate:\n",
    "                    bestRate = rate\n",
    "                    best_w = w\n",
    "                    best_c = c\n",
    "    return cnt,best_w,best_c"
   ]
  },
  {
   "cell_type": "code",
   "execution_count": 21,
   "id": "therapeutic-compiler",
   "metadata": {},
   "outputs": [
    {
     "name": "stdout",
     "output_type": "stream",
     "text": [
      "迭代次数： 1001\n",
      "超平面法向量： [-2.972246794593744 -0.2]\n",
      "阈值： 0.8\n"
     ]
    },
    {
     "data": {
      "image/png": "[encoded data removed]",
      "text/plain": [
       "<Figure size 432x288 with 1 Axes>"
      ]
     },
     "metadata": {
      "needs_background": "light"
     },
     "output_type": "display_data"
    },
    {
     "name": "stdout",
     "output_type": "stream",
     "text": [
      "准确率： 0.7894736842105263\n"
     ]
    }
   ],
   "source": [
    "if __name__=='__main__':\n",
    "    cnt,best_w,best_c=Pocket()\n",
    "    print(\"迭代次数：\",cnt)\n",
    "    print(\"超平面法向量：\",best_w)\n",
    "    print(\"阈值：\",best_c)\n",
    "    count = 0\n",
    "    for i in range(len(test)):\n",
    "        target = test[i][-1:]\n",
    "        result = sign(np.sum(best_w*test[i][:-1])-best_c)\n",
    "        if(target == result):\n",
    "            count += 1\n",
    "        if test[i][-1] == -1:\n",
    "            plt.scatter(test[i][0],test[i][1],c='r')\n",
    "        else:\n",
    "            plt.scatter(test[i][0],test[i][1],c='b')\n",
    "    accuracy = float(count/len(test))\n",
    "    X = np.random.uniform(0,60,100)\n",
    "    Y = -(best_w[0]*X-best_c)/best_w[1]\n",
    "    plt.plot(X,Y,'g')\n",
    "    plt.show()\n",
    "    print(\"准确率：\",accuracy)"
   ]
  }
 ],
 "metadata": {
  "kernelspec": {
   "display_name": "Python 3",
   "language": "python",
   "name": "python3"
  },
  "language_info": {
   "codemirror_mode": {
    "name": "ipython",
    "version": 3
   },
   "file_extension": ".py",
   "mimetype": "text/x-python",
   "name": "python",
   "nbconvert_exporter": "python",
   "pygments_lexer": "ipython3",
   "version": "3.6.12"
  }
 },
 "nbformat": 4,
 "nbformat_minor": 5
}
