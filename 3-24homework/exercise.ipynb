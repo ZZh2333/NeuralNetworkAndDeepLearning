{
 "cells": [
  {
   "cell_type": "markdown",
   "id": "appreciated-nevada",
   "metadata": {},
   "source": [
    "# 单层感知机模型"
   ]
  },
  {
   "cell_type": "markdown",
   "id": "macro-technician",
   "metadata": {},
   "source": [
    "## 一、“与”运算"
   ]
  },
  {
   "cell_type": "markdown",
   "id": "smart-agent",
   "metadata": {},
   "source": [
    "### 导包"
   ]
  },
  {
   "cell_type": "code",
   "execution_count": 1,
   "id": "fifteen-niagara",
   "metadata": {},
   "outputs": [],
   "source": [
    "import numpy as np\n",
    "import matplotlib.pyplot as plt"
   ]
  },
  {
   "cell_type": "markdown",
   "id": "derived-bacon",
   "metadata": {},
   "source": [
    "### 定义输入、输出和误差e"
   ]
  },
  {
   "cell_type": "code",
   "execution_count": 2,
   "id": "roman-tunisia",
   "metadata": {},
   "outputs": [],
   "source": [
    "x = np.array([[0,0],[0,1],[1,0],[1,1]])\n",
    "d = [0,0,0,1]\n",
    "e = 0\n",
    "# len(x)"
   ]
  },
  {
   "cell_type": "markdown",
   "id": "mounted-tulsa",
   "metadata": {},
   "source": [
    "### 初始化参数：权值w1，w2、阈值c、学习速率a，b"
   ]
  },
  {
   "cell_type": "code",
   "execution_count": 3,
   "id": "exterior-smart",
   "metadata": {},
   "outputs": [],
   "source": [
    "w = np.array([0.038,0.044])\n",
    "c = 0.042\n",
    "a = 0.015\n",
    "b = 0.006"
   ]
  },
  {
   "cell_type": "markdown",
   "id": "affecting-confidence",
   "metadata": {},
   "source": [
    "### 定义跃阶函数"
   ]
  },
  {
   "cell_type": "code",
   "execution_count": 4,
   "id": "institutional-thirty",
   "metadata": {},
   "outputs": [],
   "source": [
    "def step(a):\n",
    "    if a>0:\n",
    "        return 1\n",
    "    else:\n",
    "        return 0"
   ]
  },
  {
   "cell_type": "markdown",
   "id": "vanilla-sender",
   "metadata": {},
   "source": [
    "### 迭代学习更新权重"
   ]
  },
  {
   "cell_type": "code",
   "execution_count": 5,
   "id": "little-manhattan",
   "metadata": {},
   "outputs": [],
   "source": [
    "# 迭代学习，直到break跳出循环\n",
    "while True:\n",
    "#     标识，用于判断当前轮是否跳出循环\n",
    "    num_error = 0\n",
    "#     循环遍历输入（数据集）\n",
    "    for i in range(len(x)):\n",
    "#         加权求和\n",
    "        s = np.sum(w*x[i])-c\n",
    "#         跃阶函数激活\n",
    "        y = step(s)\n",
    "#         计算误差\n",
    "        e = d[i]-y\n",
    "#         print(e)\n",
    "#         更新权值和阈值\n",
    "        w = w+a*e*x[i]\n",
    "        c = np.sum(c+b*e)\n",
    "#         若期望误差没有达到0，则num_error+1使得代码不跳出循环\n",
    "        if e != 0:\n",
    "            num_error += 1\n",
    "    if num_error == 0:\n",
    "        break"
   ]
  },
  {
   "cell_type": "markdown",
   "id": "relative-replication",
   "metadata": {},
   "source": [
    "### 学习完成，输出权重和阈值"
   ]
  },
  {
   "cell_type": "code",
   "execution_count": 6,
   "id": "lightweight-legislation",
   "metadata": {},
   "outputs": [
    {
     "name": "stdout",
     "output_type": "stream",
     "text": [
      "[0.023 0.029]\n",
      "0.030000000000000006\n"
     ]
    }
   ],
   "source": [
    "print(w)\n",
    "print(c)"
   ]
  },
  {
   "cell_type": "markdown",
   "id": "informational-elevation",
   "metadata": {},
   "source": [
    "### 绘图"
   ]
  },
  {
   "cell_type": "code",
   "execution_count": 7,
   "id": "swedish-composite",
   "metadata": {},
   "outputs": [
    {
     "data": {
      "image/png": "[encoded data removed]",
      "text/plain": [
       "<Figure size 432x288 with 1 Axes>"
      ]
     },
     "metadata": {
      "needs_background": "light"
     },
     "output_type": "display_data"
    }
   ],
   "source": [
    "x = np.random.uniform(-0.1,1.2,100)\n",
    "y = -(w[0]*x-c)/w[1]\n",
    "plt.plot(x,y,'g')\n",
    "plt.scatter(0,0,c='r')\n",
    "plt.scatter(1,0,c='r')\n",
    "plt.scatter(0,1,c='r')\n",
    "plt.scatter(1,1,c='b')\n",
    "plt.show()"
   ]
  }
 ],
 "metadata": {
  "kernelspec": {
   "display_name": "Python 3",
   "language": "python",
   "name": "python3"
  },
  "language_info": {
   "codemirror_mode": {
    "name": "ipython",
    "version": 3
   },
   "file_extension": ".py",
   "mimetype": "text/x-python",
   "name": "python",
   "nbconvert_exporter": "python",
   "pygments_lexer": "ipython3",
   "version": "3.6.12"
  }
 },
 "nbformat": 4,
 "nbformat_minor": 5
}
