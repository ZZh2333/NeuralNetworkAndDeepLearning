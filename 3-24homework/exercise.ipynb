{
 "cells": [
  {
   "cell_type": "markdown",
   "id": "339ca74d",
   "metadata": {},
   "source": [
    "# 单层感知机模型"
   ]
  },
  {
   "cell_type": "markdown",
   "id": "d5594123",
   "metadata": {},
   "source": [
    "## 一、“与”运算"
   ]
  },
  {
   "cell_type": "markdown",
   "id": "4f26b4e4",
   "metadata": {},
   "source": [
    "### 导包"
   ]
  },
  {
   "cell_type": "code",
   "execution_count": 1,
   "id": "a2d4b1b7",
   "metadata": {},
   "outputs": [],
   "source": [
    "import numpy as np\n",
    "import matplotlib.pyplot as plt"
   ]
  },
  {
   "cell_type": "markdown",
   "id": "f39e939d",
   "metadata": {},
   "source": [
    "### 定义输入、输出和误差e"
   ]
  },
  {
   "cell_type": "code",
   "execution_count": 2,
   "id": "740c77f6",
   "metadata": {},
   "outputs": [],
   "source": [
    "x = np.array([[0,0],[0,1],[1,0],[1,1]])\n",
    "d = [0,0,0,1]\n",
    "e = 0\n",
    "# len(x)"
   ]
  },
  {
   "cell_type": "markdown",
   "id": "53625416",
   "metadata": {},
   "source": [
    "### 初始化参数：权值w1，w2、阈值c、学习速率a，b"
   ]
  },
  {
   "cell_type": "code",
   "execution_count": 3,
   "id": "9c769526",
   "metadata": {},
   "outputs": [],
   "source": [
    "w = np.array([0.038,0.044])\n",
    "c = 0.042\n",
    "a = 0.015\n",
    "b = 0.006"
   ]
  },
  {
   "cell_type": "markdown",
   "id": "7c1fdb14",
   "metadata": {},
   "source": [
    "### 定义跃阶函数"
   ]
  },
  {
   "cell_type": "code",
   "execution_count": 4,
   "id": "69291a4d",
   "metadata": {},
   "outputs": [],
   "source": [
    "def step(a):\n",
    "    if a>0:\n",
    "        return 1\n",
    "    else:\n",
    "        return 0"
   ]
  },
  {
   "cell_type": "markdown",
   "id": "7abbc540",
   "metadata": {},
   "source": [
    "### 迭代学习更新权重"
   ]
  },
  {
   "cell_type": "code",
   "execution_count": 5,
   "id": "8e66c962",
   "metadata": {},
   "outputs": [],
   "source": [
    "# 迭代学习，直到break跳出循环\n",
    "while True:\n",
    "#     标识，用于判断当前轮是否跳出循环\n",
    "    num_error = 0\n",
    "#     循环遍历输入（数据集）\n",
    "    for i in range(len(x)):\n",
    "#         加权求和\n",
    "        s = np.sum(w*x[i])-c\n",
    "#         跃阶函数激活\n",
    "        y = step(s)\n",
    "#         计算误差\n",
    "        e = d[i]-y\n",
    "#         print(e)\n",
    "#         更新权值和阈值\n",
    "        w = w+a*e*x[i]\n",
    "        c = np.sum(c+b*e)\n",
    "#         若期望误差没有达到0，则num_error+1使得代码不跳出循环\n",
    "        if e != 0:\n",
    "            num_error += 1\n",
    "    if num_error == 0:\n",
    "        break"
   ]
  },
  {
   "cell_type": "markdown",
   "id": "13e28909",
   "metadata": {},
   "source": [
    "### 学习完成，输出权重和阈值"
   ]
  },
  {
   "cell_type": "code",
   "execution_count": 6,
   "id": "24d6f660",
   "metadata": {},
   "outputs": [
    {
     "name": "stdout",
     "output_type": "stream",
     "text": [
      "[0.023 0.029]\n",
      "0.030000000000000006\n"
     ]
    }
   ],
   "source": [
    "print(w)\n",
    "print(c)"
   ]
  },
  {
   "cell_type": "markdown",
   "id": "ec7c4a2d",
   "metadata": {},
   "source": [
    "### 绘图"
   ]
  },
  {
   "cell_type": "code",
   "execution_count": 7,
   "id": "3ec4c054",
   "metadata": {},
   "outputs": [
    {
     "data": {
      "image/png": "[encoded data removed]",
      "text/plain": [
       "<Figure size 432x288 with 1 Axes>"
      ]
     },
     "metadata": {
      "needs_background": "light"
     },
     "output_type": "display_data"
    }
   ],
   "source": [
    "x = np.random.uniform(-0.1,1.2,100)\n",
    "y = -(w[0]*x-c)/w[1]\n",
    "plt.plot(x,y,'g')\n",
    "plt.scatter(0,0,c='r')\n",
    "plt.scatter(1,0,c='r')\n",
    "plt.scatter(0,1,c='r')\n",
    "plt.scatter(1,1,c='b')\n",
    "plt.show()"
   ]
  }
 ],
 "metadata": {
  "kernelspec": {
   "display_name": "Python 3",
   "language": "python",
   "name": "python3"
  },
  "language_info": {
   "codemirror_mode": {
    "name": "ipython",
    "version": 3
   },
   "file_extension": ".py",
   "mimetype": "text/x-python",
   "name": "python",
   "nbconvert_exporter": "python",
   "pygments_lexer": "ipython3",
   "version": "3.6.13"
  }
 },
 "nbformat": 4,
 "nbformat_minor": 5
}
