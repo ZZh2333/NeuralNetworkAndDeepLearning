{
 "cells": [
  {
   "cell_type": "markdown",
   "id": "collectible-facility",
   "metadata": {},
   "source": [
    "# 感知机改进算法"
   ]
  },
  {
   "cell_type": "markdown",
   "id": "certain-dryer",
   "metadata": {},
   "source": [
    "## 导包"
   ]
  },
  {
   "cell_type": "code",
   "execution_count": 1,
   "id": "robust-spain",
   "metadata": {},
   "outputs": [],
   "source": [
    "import pandas as pd\n",
    "import numpy as np\n",
    "import matplotlib.pyplot as plt\n",
    "# from sklearn import preprocessing\n",
    "\n",
    "font = r'C:\\Windows\\Fonts\\simfang.ttf'"
   ]
  },
  {
   "cell_type": "markdown",
   "id": "imperial-heating",
   "metadata": {},
   "source": [
    "## 导入数据集"
   ]
  },
  {
   "cell_type": "code",
   "execution_count": 2,
   "id": "favorite-scottish",
   "metadata": {},
   "outputs": [
    {
     "data": {
      "text/html": [
       "<div>\n",
       "<style scoped>\n",
       "    .dataframe tbody tr th:only-of-type {\n",
       "        vertical-align: middle;\n",
       "    }\n",
       "\n",
       "    .dataframe tbody tr th {\n",
       "        vertical-align: top;\n",
       "    }\n",
       "\n",
       "    .dataframe thead th {\n",
       "        text-align: right;\n",
       "    }\n",
       "</style>\n",
       "<table border=\"1\" class=\"dataframe\">\n",
       "  <thead>\n",
       "    <tr style=\"text-align: right;\">\n",
       "      <th></th>\n",
       "      <th>sepal length</th>\n",
       "      <th>sepal width</th>\n",
       "      <th>petal length</th>\n",
       "      <th>petal width</th>\n",
       "      <th>class</th>\n",
       "    </tr>\n",
       "  </thead>\n",
       "  <tbody>\n",
       "    <tr>\n",
       "      <th>0</th>\n",
       "      <td>5.1</td>\n",
       "      <td>3.5</td>\n",
       "      <td>1.4</td>\n",
       "      <td>0.2</td>\n",
       "      <td>Iris-setosa</td>\n",
       "    </tr>\n",
       "    <tr>\n",
       "      <th>1</th>\n",
       "      <td>4.9</td>\n",
       "      <td>3.0</td>\n",
       "      <td>1.4</td>\n",
       "      <td>0.2</td>\n",
       "      <td>Iris-setosa</td>\n",
       "    </tr>\n",
       "    <tr>\n",
       "      <th>2</th>\n",
       "      <td>4.7</td>\n",
       "      <td>3.2</td>\n",
       "      <td>1.3</td>\n",
       "      <td>0.2</td>\n",
       "      <td>Iris-setosa</td>\n",
       "    </tr>\n",
       "    <tr>\n",
       "      <th>3</th>\n",
       "      <td>4.6</td>\n",
       "      <td>3.1</td>\n",
       "      <td>1.5</td>\n",
       "      <td>0.2</td>\n",
       "      <td>Iris-setosa</td>\n",
       "    </tr>\n",
       "    <tr>\n",
       "      <th>4</th>\n",
       "      <td>5.0</td>\n",
       "      <td>3.6</td>\n",
       "      <td>1.4</td>\n",
       "      <td>0.2</td>\n",
       "      <td>Iris-setosa</td>\n",
       "    </tr>\n",
       "    <tr>\n",
       "      <th>...</th>\n",
       "      <td>...</td>\n",
       "      <td>...</td>\n",
       "      <td>...</td>\n",
       "      <td>...</td>\n",
       "      <td>...</td>\n",
       "    </tr>\n",
       "    <tr>\n",
       "      <th>145</th>\n",
       "      <td>6.7</td>\n",
       "      <td>3.0</td>\n",
       "      <td>5.2</td>\n",
       "      <td>2.3</td>\n",
       "      <td>Iris-virginica</td>\n",
       "    </tr>\n",
       "    <tr>\n",
       "      <th>146</th>\n",
       "      <td>6.3</td>\n",
       "      <td>2.5</td>\n",
       "      <td>5.0</td>\n",
       "      <td>1.9</td>\n",
       "      <td>Iris-virginica</td>\n",
       "    </tr>\n",
       "    <tr>\n",
       "      <th>147</th>\n",
       "      <td>6.5</td>\n",
       "      <td>3.0</td>\n",
       "      <td>5.2</td>\n",
       "      <td>2.0</td>\n",
       "      <td>Iris-virginica</td>\n",
       "    </tr>\n",
       "    <tr>\n",
       "      <th>148</th>\n",
       "      <td>6.2</td>\n",
       "      <td>3.4</td>\n",
       "      <td>5.4</td>\n",
       "      <td>2.3</td>\n",
       "      <td>Iris-virginica</td>\n",
       "    </tr>\n",
       "    <tr>\n",
       "      <th>149</th>\n",
       "      <td>5.9</td>\n",
       "      <td>3.0</td>\n",
       "      <td>5.1</td>\n",
       "      <td>1.8</td>\n",
       "      <td>Iris-virginica</td>\n",
       "    </tr>\n",
       "  </tbody>\n",
       "</table>\n",
       "<p>150 rows × 5 columns</p>\n",
       "</div>"
      ],
      "text/plain": [
       "     sepal length  sepal width  petal length  petal width           class\n",
       "0             5.1          3.5           1.4          0.2     Iris-setosa\n",
       "1             4.9          3.0           1.4          0.2     Iris-setosa\n",
       "2             4.7          3.2           1.3          0.2     Iris-setosa\n",
       "3             4.6          3.1           1.5          0.2     Iris-setosa\n",
       "4             5.0          3.6           1.4          0.2     Iris-setosa\n",
       "..            ...          ...           ...          ...             ...\n",
       "145           6.7          3.0           5.2          2.3  Iris-virginica\n",
       "146           6.3          2.5           5.0          1.9  Iris-virginica\n",
       "147           6.5          3.0           5.2          2.0  Iris-virginica\n",
       "148           6.2          3.4           5.4          2.3  Iris-virginica\n",
       "149           5.9          3.0           5.1          1.8  Iris-virginica\n",
       "\n",
       "[150 rows x 5 columns]"
      ]
     },
     "execution_count": 2,
     "metadata": {},
     "output_type": "execute_result"
    }
   ],
   "source": [
    "data = pd.read_csv(r\"./dataset/iris.csv\")\n",
    "data"
   ]
  },
  {
   "cell_type": "markdown",
   "id": "proper-emergency",
   "metadata": {},
   "source": [
    "## 数据解释  \n",
    "1.萼片长度（以厘米计）  \n",
    "2.萼片宽度（以厘米计）  \n",
    "3.花瓣长度（以厘米计）  \n",
    "4.花瓣宽度（以厘米计）  \n",
    "5.类别：  "
   ]
  },
  {
   "cell_type": "markdown",
   "id": "pacific-valley",
   "metadata": {},
   "source": [
    "## 数据预处理  "
   ]
  },
  {
   "cell_type": "markdown",
   "id": "first-regulation",
   "metadata": {},
   "source": [
    "### 选择数据集中四列数据  \n",
    "两列作为输入数据，一列作为输出数据"
   ]
  },
  {
   "cell_type": "code",
   "execution_count": 3,
   "id": "korean-charm",
   "metadata": {},
   "outputs": [],
   "source": [
    "col = ['sepal width','petal width','class']\n",
    "data = pd.DataFrame(data,columns = col)"
   ]
  },
  {
   "cell_type": "markdown",
   "id": "owned-bankruptcy",
   "metadata": {},
   "source": [
    "### 取前100行作为本次实验数据"
   ]
  },
  {
   "cell_type": "code",
   "execution_count": 4,
   "id": "fifty-analyst",
   "metadata": {},
   "outputs": [
    {
     "data": {
      "text/plain": [
       "100"
      ]
     },
     "execution_count": 4,
     "metadata": {},
     "output_type": "execute_result"
    }
   ],
   "source": [
    "data = data[:100]\n",
    "len(data)"
   ]
  },
  {
   "cell_type": "markdown",
   "id": "disabled-payroll",
   "metadata": {},
   "source": [
    "### 重写class"
   ]
  },
  {
   "cell_type": "code",
   "execution_count": 5,
   "id": "confused-eugene",
   "metadata": {},
   "outputs": [],
   "source": [
    "data.loc[(data['class']=='Iris-setosa'),'class'] = -1\n",
    "data.loc[(data['class']=='Iris-versicolor'),'class'] = 1"
   ]
  },
  {
   "cell_type": "markdown",
   "id": "necessary-locking",
   "metadata": {},
   "source": [
    "### 打乱数据"
   ]
  },
  {
   "cell_type": "code",
   "execution_count": 6,
   "id": "behind-assistant",
   "metadata": {},
   "outputs": [
    {
     "data": {
      "text/html": [
       "<div>\n",
       "<style scoped>\n",
       "    .dataframe tbody tr th:only-of-type {\n",
       "        vertical-align: middle;\n",
       "    }\n",
       "\n",
       "    .dataframe tbody tr th {\n",
       "        vertical-align: top;\n",
       "    }\n",
       "\n",
       "    .dataframe thead th {\n",
       "        text-align: right;\n",
       "    }\n",
       "</style>\n",
       "<table border=\"1\" class=\"dataframe\">\n",
       "  <thead>\n",
       "    <tr style=\"text-align: right;\">\n",
       "      <th></th>\n",
       "      <th>sepal width</th>\n",
       "      <th>petal width</th>\n",
       "      <th>class</th>\n",
       "    </tr>\n",
       "  </thead>\n",
       "  <tbody>\n",
       "    <tr>\n",
       "      <th>46</th>\n",
       "      <td>3.8</td>\n",
       "      <td>0.2</td>\n",
       "      <td>-1</td>\n",
       "    </tr>\n",
       "    <tr>\n",
       "      <th>3</th>\n",
       "      <td>3.1</td>\n",
       "      <td>0.2</td>\n",
       "      <td>-1</td>\n",
       "    </tr>\n",
       "    <tr>\n",
       "      <th>81</th>\n",
       "      <td>2.4</td>\n",
       "      <td>1.0</td>\n",
       "      <td>1</td>\n",
       "    </tr>\n",
       "    <tr>\n",
       "      <th>44</th>\n",
       "      <td>3.8</td>\n",
       "      <td>0.4</td>\n",
       "      <td>-1</td>\n",
       "    </tr>\n",
       "    <tr>\n",
       "      <th>38</th>\n",
       "      <td>3.0</td>\n",
       "      <td>0.2</td>\n",
       "      <td>-1</td>\n",
       "    </tr>\n",
       "    <tr>\n",
       "      <th>...</th>\n",
       "      <td>...</td>\n",
       "      <td>...</td>\n",
       "      <td>...</td>\n",
       "    </tr>\n",
       "    <tr>\n",
       "      <th>73</th>\n",
       "      <td>2.8</td>\n",
       "      <td>1.2</td>\n",
       "      <td>1</td>\n",
       "    </tr>\n",
       "    <tr>\n",
       "      <th>83</th>\n",
       "      <td>2.7</td>\n",
       "      <td>1.6</td>\n",
       "      <td>1</td>\n",
       "    </tr>\n",
       "    <tr>\n",
       "      <th>55</th>\n",
       "      <td>2.8</td>\n",
       "      <td>1.3</td>\n",
       "      <td>1</td>\n",
       "    </tr>\n",
       "    <tr>\n",
       "      <th>80</th>\n",
       "      <td>2.4</td>\n",
       "      <td>1.1</td>\n",
       "      <td>1</td>\n",
       "    </tr>\n",
       "    <tr>\n",
       "      <th>84</th>\n",
       "      <td>3.0</td>\n",
       "      <td>1.5</td>\n",
       "      <td>1</td>\n",
       "    </tr>\n",
       "  </tbody>\n",
       "</table>\n",
       "<p>100 rows × 3 columns</p>\n",
       "</div>"
      ],
      "text/plain": [
       "    sepal width  petal width class\n",
       "46          3.8          0.2    -1\n",
       "3           3.1          0.2    -1\n",
       "81          2.4          1.0     1\n",
       "44          3.8          0.4    -1\n",
       "38          3.0          0.2    -1\n",
       "..          ...          ...   ...\n",
       "73          2.8          1.2     1\n",
       "83          2.7          1.6     1\n",
       "55          2.8          1.3     1\n",
       "80          2.4          1.1     1\n",
       "84          3.0          1.5     1\n",
       "\n",
       "[100 rows x 3 columns]"
      ]
     },
     "execution_count": 6,
     "metadata": {},
     "output_type": "execute_result"
    }
   ],
   "source": [
    "data = data.sample(frac=1)\n",
    "data"
   ]
  },
  {
   "cell_type": "markdown",
   "id": "twenty-roommate",
   "metadata": {},
   "source": [
    "### 取值"
   ]
  },
  {
   "cell_type": "code",
   "execution_count": 7,
   "id": "recent-conspiracy",
   "metadata": {},
   "outputs": [],
   "source": [
    "data = data.values"
   ]
  },
  {
   "cell_type": "markdown",
   "id": "agricultural-frontier",
   "metadata": {},
   "source": [
    "### 绘图"
   ]
  },
  {
   "cell_type": "code",
   "execution_count": 8,
   "id": "multiple-example",
   "metadata": {},
   "outputs": [
    {
     "data": {
      "image/png": "[encoded data removed]",
      "text/plain": [
       "<Figure size 432x288 with 1 Axes>"
      ]
     },
     "metadata": {
      "needs_background": "light"
     },
     "output_type": "display_data"
    }
   ],
   "source": [
    "for i in range(len(data)):\n",
    "    if data[i][-1] == -1:\n",
    "        plt.scatter(data[i][0],data[i][1],c='r',marker='o')\n",
    "    else:\n",
    "        plt.scatter(data[i][0],data[i][1],c='b',marker='x')\n",
    "plt.show()"
   ]
  },
  {
   "cell_type": "markdown",
   "id": "discrete-class",
   "metadata": {},
   "source": [
    "### 划分训练集与测试集"
   ]
  },
  {
   "cell_type": "code",
   "execution_count": 9,
   "id": "following-prediction",
   "metadata": {},
   "outputs": [
    {
     "data": {
      "text/plain": [
       "30"
      ]
     },
     "execution_count": 9,
     "metadata": {},
     "output_type": "execute_result"
    }
   ],
   "source": [
    "training = data[:70]\n",
    "test = data[70:]\n",
    "len(test)"
   ]
  },
  {
   "cell_type": "code",
   "execution_count": 10,
   "id": "loose-portrait",
   "metadata": {},
   "outputs": [
    {
     "data": {
      "text/plain": [
       "array([2.0, 1.0], dtype=object)"
      ]
     },
     "execution_count": 10,
     "metadata": {},
     "output_type": "execute_result"
    }
   ],
   "source": [
    "x = test[0][:-1]\n",
    "x"
   ]
  },
  {
   "cell_type": "code",
   "execution_count": 11,
   "id": "crucial-demonstration",
   "metadata": {},
   "outputs": [
    {
     "data": {
      "text/plain": [
       "array([1], dtype=object)"
      ]
     },
     "execution_count": 11,
     "metadata": {},
     "output_type": "execute_result"
    }
   ],
   "source": [
    "y = test[0][-1:]\n",
    "y"
   ]
  },
  {
   "cell_type": "markdown",
   "id": "after-clinic",
   "metadata": {},
   "source": [
    "# 一些工具函数"
   ]
  },
  {
   "cell_type": "code",
   "execution_count": 12,
   "id": "adjacent-italy",
   "metadata": {},
   "outputs": [],
   "source": [
    "def makeArray(I,J):\n",
    "    m = []\n",
    "    for i in range(I):\n",
    "        fill = np.random.random()\n",
    "        m.append([fill]*J)\n",
    "    return m"
   ]
  },
  {
   "cell_type": "code",
   "execution_count": 13,
   "id": "affecting-means",
   "metadata": {},
   "outputs": [],
   "source": [
    "def sign(a):\n",
    "    if a>0:\n",
    "        return 1\n",
    "    else:\n",
    "        return -1"
   ]
  },
  {
   "cell_type": "markdown",
   "id": "appointed-indonesia",
   "metadata": {},
   "source": [
    "# 一、感知机模型"
   ]
  },
  {
   "cell_type": "code",
   "execution_count": 14,
   "id": "indian-cradle",
   "metadata": {},
   "outputs": [],
   "source": [
    "def feeling():\n",
    "    w = np.zeros(2)\n",
    "    lr = 0.01\n",
    "    c = 1\n",
    "#     循环遍历计数\n",
    "    cnt = 0\n",
    "    while True:\n",
    "        cnt += 1\n",
    "#         遍历次数超过1000时跳出循环，学习结束\n",
    "        if cnt > 1000:\n",
    "            break\n",
    "        for i in range(len(training)):\n",
    "            x = np.array(training[i][:-1])\n",
    "            y = np.array(training[i][-1])\n",
    "\n",
    "            s = np.sum(w*x)+c\n",
    "            z = sign(s)\n",
    "            if y * z <= 0:\n",
    "#                 e = y-z\n",
    "#                 w = w+lr*e*x\n",
    "#                 c = np.sum(c+lr*e)\n",
    "                w = w+lr*y*x\n",
    "                c = c+lr*y\n",
    "    return cnt,w,c"
   ]
  },
  {
   "cell_type": "code",
   "execution_count": 15,
   "id": "sporting-balance",
   "metadata": {},
   "outputs": [
    {
     "name": "stdout",
     "output_type": "stream",
     "text": [
      "迭代次数： 1001\n",
      "超平面法向量： [-0.39500000000000013 0.36100000000000015]\n",
      "阈值： 0.7699999999999998\n"
     ]
    },
    {
     "data": {
      "image/png": "[encoded data removed]",
      "text/plain": [
       "<Figure size 432x288 with 1 Axes>"
      ]
     },
     "metadata": {
      "needs_background": "light"
     },
     "output_type": "display_data"
    },
    {
     "name": "stdout",
     "output_type": "stream",
     "text": [
      "测试集准确率： 1.0\n"
     ]
    }
   ],
   "source": [
    "if __name__=='__main__':\n",
    "    cnt,w,c=feeling()\n",
    "    print(\"迭代次数：\",cnt)\n",
    "    print(\"超平面法向量：\",w)\n",
    "    print(\"阈值：\",c)\n",
    "    count = 0\n",
    "    for i in range(len(test)):\n",
    "        target = test[i][-1:]\n",
    "        result = sign(np.sum(w*test[i][:-1])+c)\n",
    "        if(target == result):\n",
    "            count += 1\n",
    "    accuracy = float(count/len(test))\n",
    "    for i in range(len(test)):\n",
    "        if test[i][-1] == -1:\n",
    "            plt.scatter(test[i][0],test[i][1],c='r',marker='o')\n",
    "        else:\n",
    "            plt.scatter(test[i][0],test[i][1],c='b',marker='x')\n",
    "#     for i in range(len(data)):\n",
    "#         if training[i][-1] == -1:\n",
    "#             plt.scatter(data[i][0],data[i][1],c='r')\n",
    "#         else:\n",
    "#             plt.scatter(data[i][0],data[i][1],c='b')\n",
    "    X = np.random.uniform(2,4,100)\n",
    "    Y = -(w[0]*X+c)/w[1]\n",
    "    plt.xlabel('sepal width')\n",
    "    plt.ylabel('petal width')\n",
    "    plt.plot(X,Y,'g')\n",
    "    plt.show()\n",
    "    print(\"测试集准确率：\",accuracy)"
   ]
  },
  {
   "cell_type": "code",
   "execution_count": 16,
   "id": "german-practitioner",
   "metadata": {},
   "outputs": [
    {
     "data": {
      "image/png": "[encoded data removed]",
      "text/plain": [
       "<Figure size 432x288 with 1 Axes>"
      ]
     },
     "metadata": {
      "needs_background": "light"
     },
     "output_type": "display_data"
    }
   ],
   "source": [
    "for i in range(len(data)):\n",
    "    if data[i][-1] == -1:\n",
    "        plt.scatter(data[i][0],data[i][1],c='r',marker='o')\n",
    "    else:\n",
    "        plt.scatter(data[i][0],data[i][1],c='b',marker='x')\n",
    "X = np.random.uniform(2,4,100)\n",
    "Y = -(w[0]*X+c)/w[1]\n",
    "plt.xlabel('sepal width')\n",
    "plt.ylabel('petal width')\n",
    "plt.plot(X,Y,'g')\n",
    "plt.show()"
   ]
  },
  {
   "cell_type": "markdown",
   "id": "sapphire-mount",
   "metadata": {},
   "source": [
    "# 二、口袋算法"
   ]
  },
  {
   "cell_type": "code",
   "execution_count": 17,
   "id": "interim-causing",
   "metadata": {},
   "outputs": [],
   "source": [
    "def checkErrorRate(training,w,c):\n",
    "    count=0\n",
    "    for i in range(len(training)):\n",
    "        x=np.array(training[i][:-1])\n",
    "        y=training[i][-1]\n",
    "        if sign(np.sum(w*x)+c)!=sign(y):\n",
    "            count+=1\n",
    "    return count/len(training)"
   ]
  },
  {
   "cell_type": "code",
   "execution_count": 18,
   "id": "pharmaceutical-cheese",
   "metadata": {},
   "outputs": [],
   "source": [
    "def Pocket():\n",
    "    w = np.zeros(2)\n",
    "    lr = 0.01\n",
    "    c = 1\n",
    "    best_w = w\n",
    "    bestRate = 1\n",
    "    best_c = c\n",
    "#     循环遍历计数\n",
    "    cnt = 0\n",
    "    while True:\n",
    "        cnt += 1\n",
    "#         遍历次数超过1000时跳出循环，学习结束\n",
    "        if cnt > 1000:\n",
    "            break\n",
    "        for i in range(len(training)):\n",
    "            x = np.array(training[i][:-1])\n",
    "            y = training[i][-1]\n",
    "            \n",
    "            s = np.sum(w*x)+c\n",
    "            z = sign(s)\n",
    "            if y * z <= 0:\n",
    "#                 e = y-z\n",
    "#                 w = w+lr*e*x\n",
    "#                 c = np.sum(c+lr*e)\n",
    "                w = w+lr*y*x\n",
    "                c = c+lr*y\n",
    "                rate = checkErrorRate(training,w,c)\n",
    "                if rate<bestRate:\n",
    "                    bestRate = rate\n",
    "                    print(\"bestRate update:\",bestRate)\n",
    "                    best_w = w\n",
    "                    best_c = c\n",
    "    return cnt,best_w,best_c"
   ]
  },
  {
   "cell_type": "code",
   "execution_count": 19,
   "id": "above-official",
   "metadata": {},
   "outputs": [
    {
     "name": "stdout",
     "output_type": "stream",
     "text": [
      "bestRate update: 0.5571428571428572\n",
      "bestRate update: 0.45714285714285713\n",
      "bestRate update: 0.24285714285714285\n",
      "bestRate update: 0.18571428571428572\n",
      "bestRate update: 0.14285714285714285\n",
      "bestRate update: 0.1\n",
      "bestRate update: 0.08571428571428572\n",
      "bestRate update: 0.05714285714285714\n",
      "bestRate update: 0.02857142857142857\n",
      "bestRate update: 0.014285714285714285\n",
      "bestRate update: 0.0\n",
      "迭代次数： 1001\n",
      "超平面法向量： [-0.39500000000000013 0.36100000000000015]\n",
      "阈值： 0.7699999999999998\n"
     ]
    },
    {
     "data": {
      "image/png": "[encoded data removed]",
      "text/plain": [
       "<Figure size 432x288 with 1 Axes>"
      ]
     },
     "metadata": {
      "needs_background": "light"
     },
     "output_type": "display_data"
    },
    {
     "name": "stdout",
     "output_type": "stream",
     "text": [
      "准确率： 1.0\n"
     ]
    }
   ],
   "source": [
    "if __name__=='__main__':\n",
    "    cnt,best_w,best_c=Pocket()\n",
    "    print(\"迭代次数：\",cnt)\n",
    "    print(\"超平面法向量：\",best_w)\n",
    "    print(\"阈值：\",best_c)\n",
    "    count = 0\n",
    "    for i in range(len(test)):\n",
    "        target = test[i][-1:]\n",
    "        result = sign(np.sum(best_w*test[i][:-1])+best_c)\n",
    "        if(target == result):\n",
    "            count += 1\n",
    "    accuracy = float(count/len(test))\n",
    "    for i in range(len(test)):\n",
    "        if test[i][-1] == -1:\n",
    "            plt.scatter(test[i][0],test[i][1],c='r',marker='o')\n",
    "        else:\n",
    "            plt.scatter(test[i][0],test[i][1],c='b',marker='x')\n",
    "#     for i in range(len(data)):\n",
    "#         if data[i][-1] == -1:\n",
    "#             plt.scatter(data[i][0],data[i][1],c='r')\n",
    "#         else:\n",
    "#             plt.scatter(data[i][0],data[i][1],c='b')\n",
    "    X = np.random.uniform(2,4,100)\n",
    "    Y = -(best_w[0]*X+best_c)/best_w[1]\n",
    "    plt.plot(X,Y,'g')\n",
    "    plt.xlabel('sepal width')\n",
    "    plt.ylabel('petal width')\n",
    "    plt.show()\n",
    "    print(\"准确率：\",accuracy)"
   ]
  },
  {
   "cell_type": "code",
   "execution_count": 20,
   "id": "typical-barbados",
   "metadata": {},
   "outputs": [
    {
     "data": {
      "image/png": "[encoded data removed]",
      "text/plain": [
       "<Figure size 432x288 with 1 Axes>"
      ]
     },
     "metadata": {
      "needs_background": "light"
     },
     "output_type": "display_data"
    }
   ],
   "source": [
    "for i in range(len(data)):\n",
    "    if data[i][-1] == -1:\n",
    "        plt.scatter(data[i][0],data[i][1],c='r',marker='o')\n",
    "    else:\n",
    "        plt.scatter(data[i][0],data[i][1],c='b',marker='x')\n",
    "X = np.random.uniform(2,4,100)\n",
    "Y = -(best_w[0]*X+best_c)/best_w[1]\n",
    "plt.xlabel('sepal width')\n",
    "plt.ylabel('petal width')\n",
    "plt.plot(X,Y,'g')\n",
    "plt.show()"
   ]
  }
 ],
 "metadata": {
  "kernelspec": {
   "display_name": "Python 3",
   "language": "python",
   "name": "python3"
  },
  "language_info": {
   "codemirror_mode": {
    "name": "ipython",
    "version": 3
   },
   "file_extension": ".py",
   "mimetype": "text/x-python",
   "name": "python",
   "nbconvert_exporter": "python",
   "pygments_lexer": "ipython3",
   "version": "3.6.12"
  }
 },
 "nbformat": 4,
 "nbformat_minor": 5
}
