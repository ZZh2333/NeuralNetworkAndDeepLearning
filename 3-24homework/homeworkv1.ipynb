{
 "cells": [
  {
   "cell_type": "markdown",
   "id": "stopped-spring",
   "metadata": {},
   "source": [
    "# 感知机改进算法"
   ]
  },
  {
   "cell_type": "markdown",
   "id": "compound-perception",
   "metadata": {},
   "source": [
    "## 导包"
   ]
  },
  {
   "cell_type": "code",
   "execution_count": 1,
   "id": "difficult-tragedy",
   "metadata": {},
   "outputs": [],
   "source": [
    "import pandas as pd\n",
    "import numpy as np\n",
    "import matplotlib.pyplot as plt\n",
    "# from sklearn import preprocessing\n",
    "\n",
    "font = r'C:\\Windows\\Fonts\\simfang.ttf'"
   ]
  },
  {
   "cell_type": "markdown",
   "id": "answering-concentration",
   "metadata": {},
   "source": [
    "## 导入数据集"
   ]
  },
  {
   "cell_type": "code",
   "execution_count": 2,
   "id": "banner-swaziland",
   "metadata": {},
   "outputs": [
    {
     "data": {
      "text/html": [
       "<div>\n",
       "<style scoped>\n",
       "    .dataframe tbody tr th:only-of-type {\n",
       "        vertical-align: middle;\n",
       "    }\n",
       "\n",
       "    .dataframe tbody tr th {\n",
       "        vertical-align: top;\n",
       "    }\n",
       "\n",
       "    .dataframe thead th {\n",
       "        text-align: right;\n",
       "    }\n",
       "</style>\n",
       "<table border=\"1\" class=\"dataframe\">\n",
       "  <thead>\n",
       "    <tr style=\"text-align: right;\">\n",
       "      <th></th>\n",
       "      <th>sepal length</th>\n",
       "      <th>sepal width</th>\n",
       "      <th>petal length</th>\n",
       "      <th>petal width</th>\n",
       "      <th>class</th>\n",
       "    </tr>\n",
       "  </thead>\n",
       "  <tbody>\n",
       "    <tr>\n",
       "      <th>0</th>\n",
       "      <td>5.1</td>\n",
       "      <td>3.5</td>\n",
       "      <td>1.4</td>\n",
       "      <td>0.2</td>\n",
       "      <td>Iris-setosa</td>\n",
       "    </tr>\n",
       "    <tr>\n",
       "      <th>1</th>\n",
       "      <td>4.9</td>\n",
       "      <td>3.0</td>\n",
       "      <td>1.4</td>\n",
       "      <td>0.2</td>\n",
       "      <td>Iris-setosa</td>\n",
       "    </tr>\n",
       "    <tr>\n",
       "      <th>2</th>\n",
       "      <td>4.7</td>\n",
       "      <td>3.2</td>\n",
       "      <td>1.3</td>\n",
       "      <td>0.2</td>\n",
       "      <td>Iris-setosa</td>\n",
       "    </tr>\n",
       "    <tr>\n",
       "      <th>3</th>\n",
       "      <td>4.6</td>\n",
       "      <td>3.1</td>\n",
       "      <td>1.5</td>\n",
       "      <td>0.2</td>\n",
       "      <td>Iris-setosa</td>\n",
       "    </tr>\n",
       "    <tr>\n",
       "      <th>4</th>\n",
       "      <td>5.0</td>\n",
       "      <td>3.6</td>\n",
       "      <td>1.4</td>\n",
       "      <td>0.2</td>\n",
       "      <td>Iris-setosa</td>\n",
       "    </tr>\n",
       "    <tr>\n",
       "      <th>...</th>\n",
       "      <td>...</td>\n",
       "      <td>...</td>\n",
       "      <td>...</td>\n",
       "      <td>...</td>\n",
       "      <td>...</td>\n",
       "    </tr>\n",
       "    <tr>\n",
       "      <th>145</th>\n",
       "      <td>6.7</td>\n",
       "      <td>3.0</td>\n",
       "      <td>5.2</td>\n",
       "      <td>2.3</td>\n",
       "      <td>Iris-virginica</td>\n",
       "    </tr>\n",
       "    <tr>\n",
       "      <th>146</th>\n",
       "      <td>6.3</td>\n",
       "      <td>2.5</td>\n",
       "      <td>5.0</td>\n",
       "      <td>1.9</td>\n",
       "      <td>Iris-virginica</td>\n",
       "    </tr>\n",
       "    <tr>\n",
       "      <th>147</th>\n",
       "      <td>6.5</td>\n",
       "      <td>3.0</td>\n",
       "      <td>5.2</td>\n",
       "      <td>2.0</td>\n",
       "      <td>Iris-virginica</td>\n",
       "    </tr>\n",
       "    <tr>\n",
       "      <th>148</th>\n",
       "      <td>6.2</td>\n",
       "      <td>3.4</td>\n",
       "      <td>5.4</td>\n",
       "      <td>2.3</td>\n",
       "      <td>Iris-virginica</td>\n",
       "    </tr>\n",
       "    <tr>\n",
       "      <th>149</th>\n",
       "      <td>5.9</td>\n",
       "      <td>3.0</td>\n",
       "      <td>5.1</td>\n",
       "      <td>1.8</td>\n",
       "      <td>Iris-virginica</td>\n",
       "    </tr>\n",
       "  </tbody>\n",
       "</table>\n",
       "<p>150 rows × 5 columns</p>\n",
       "</div>"
      ],
      "text/plain": [
       "     sepal length  sepal width  petal length  petal width           class\n",
       "0             5.1          3.5           1.4          0.2     Iris-setosa\n",
       "1             4.9          3.0           1.4          0.2     Iris-setosa\n",
       "2             4.7          3.2           1.3          0.2     Iris-setosa\n",
       "3             4.6          3.1           1.5          0.2     Iris-setosa\n",
       "4             5.0          3.6           1.4          0.2     Iris-setosa\n",
       "..            ...          ...           ...          ...             ...\n",
       "145           6.7          3.0           5.2          2.3  Iris-virginica\n",
       "146           6.3          2.5           5.0          1.9  Iris-virginica\n",
       "147           6.5          3.0           5.2          2.0  Iris-virginica\n",
       "148           6.2          3.4           5.4          2.3  Iris-virginica\n",
       "149           5.9          3.0           5.1          1.8  Iris-virginica\n",
       "\n",
       "[150 rows x 5 columns]"
      ]
     },
     "execution_count": 2,
     "metadata": {},
     "output_type": "execute_result"
    }
   ],
   "source": [
    "data = pd.read_csv(r\"./dataset/iris.csv\")\n",
    "data"
   ]
  },
  {
   "cell_type": "markdown",
   "id": "derived-zimbabwe",
   "metadata": {},
   "source": [
    "## 数据解释  \n",
    "1.萼片长度（以厘米计）  \n",
    "2.萼片宽度（以厘米计）  \n",
    "3.花瓣长度（以厘米计）  \n",
    "4.花瓣宽度（以厘米计）  \n",
    "5.类别：  "
   ]
  },
  {
   "cell_type": "markdown",
   "id": "female-aquarium",
   "metadata": {},
   "source": [
    "## 数据预处理  "
   ]
  },
  {
   "cell_type": "markdown",
   "id": "sufficient-unknown",
   "metadata": {},
   "source": [
    "### 选择数据集中四列数据  \n",
    "两列作为输入数据，一列作为输出数据"
   ]
  },
  {
   "cell_type": "code",
   "execution_count": 3,
   "id": "center-punishment",
   "metadata": {},
   "outputs": [],
   "source": [
    "col = ['sepal width','petal width','class']\n",
    "data = pd.DataFrame(data,columns = col)"
   ]
  },
  {
   "cell_type": "markdown",
   "id": "wireless-cholesterol",
   "metadata": {},
   "source": [
    "### 取前100行作为本次实验数据"
   ]
  },
  {
   "cell_type": "code",
   "execution_count": 4,
   "id": "convinced-bradford",
   "metadata": {},
   "outputs": [
    {
     "data": {
      "text/html": [
       "<div>\n",
       "<style scoped>\n",
       "    .dataframe tbody tr th:only-of-type {\n",
       "        vertical-align: middle;\n",
       "    }\n",
       "\n",
       "    .dataframe tbody tr th {\n",
       "        vertical-align: top;\n",
       "    }\n",
       "\n",
       "    .dataframe thead th {\n",
       "        text-align: right;\n",
       "    }\n",
       "</style>\n",
       "<table border=\"1\" class=\"dataframe\">\n",
       "  <thead>\n",
       "    <tr style=\"text-align: right;\">\n",
       "      <th></th>\n",
       "      <th>sepal width</th>\n",
       "      <th>petal width</th>\n",
       "      <th>class</th>\n",
       "    </tr>\n",
       "  </thead>\n",
       "  <tbody>\n",
       "    <tr>\n",
       "      <th>50</th>\n",
       "      <td>3.2</td>\n",
       "      <td>1.4</td>\n",
       "      <td>Iris-versicolor</td>\n",
       "    </tr>\n",
       "    <tr>\n",
       "      <th>51</th>\n",
       "      <td>3.2</td>\n",
       "      <td>1.5</td>\n",
       "      <td>Iris-versicolor</td>\n",
       "    </tr>\n",
       "    <tr>\n",
       "      <th>52</th>\n",
       "      <td>3.1</td>\n",
       "      <td>1.5</td>\n",
       "      <td>Iris-versicolor</td>\n",
       "    </tr>\n",
       "    <tr>\n",
       "      <th>53</th>\n",
       "      <td>2.3</td>\n",
       "      <td>1.3</td>\n",
       "      <td>Iris-versicolor</td>\n",
       "    </tr>\n",
       "    <tr>\n",
       "      <th>54</th>\n",
       "      <td>2.8</td>\n",
       "      <td>1.5</td>\n",
       "      <td>Iris-versicolor</td>\n",
       "    </tr>\n",
       "    <tr>\n",
       "      <th>...</th>\n",
       "      <td>...</td>\n",
       "      <td>...</td>\n",
       "      <td>...</td>\n",
       "    </tr>\n",
       "    <tr>\n",
       "      <th>145</th>\n",
       "      <td>3.0</td>\n",
       "      <td>2.3</td>\n",
       "      <td>Iris-virginica</td>\n",
       "    </tr>\n",
       "    <tr>\n",
       "      <th>146</th>\n",
       "      <td>2.5</td>\n",
       "      <td>1.9</td>\n",
       "      <td>Iris-virginica</td>\n",
       "    </tr>\n",
       "    <tr>\n",
       "      <th>147</th>\n",
       "      <td>3.0</td>\n",
       "      <td>2.0</td>\n",
       "      <td>Iris-virginica</td>\n",
       "    </tr>\n",
       "    <tr>\n",
       "      <th>148</th>\n",
       "      <td>3.4</td>\n",
       "      <td>2.3</td>\n",
       "      <td>Iris-virginica</td>\n",
       "    </tr>\n",
       "    <tr>\n",
       "      <th>149</th>\n",
       "      <td>3.0</td>\n",
       "      <td>1.8</td>\n",
       "      <td>Iris-virginica</td>\n",
       "    </tr>\n",
       "  </tbody>\n",
       "</table>\n",
       "<p>100 rows × 3 columns</p>\n",
       "</div>"
      ],
      "text/plain": [
       "     sepal width  petal width            class\n",
       "50           3.2          1.4  Iris-versicolor\n",
       "51           3.2          1.5  Iris-versicolor\n",
       "52           3.1          1.5  Iris-versicolor\n",
       "53           2.3          1.3  Iris-versicolor\n",
       "54           2.8          1.5  Iris-versicolor\n",
       "..           ...          ...              ...\n",
       "145          3.0          2.3   Iris-virginica\n",
       "146          2.5          1.9   Iris-virginica\n",
       "147          3.0          2.0   Iris-virginica\n",
       "148          3.4          2.3   Iris-virginica\n",
       "149          3.0          1.8   Iris-virginica\n",
       "\n",
       "[100 rows x 3 columns]"
      ]
     },
     "execution_count": 4,
     "metadata": {},
     "output_type": "execute_result"
    }
   ],
   "source": [
    "data = data[50:]\n",
    "data"
   ]
  },
  {
   "cell_type": "markdown",
   "id": "abroad-browse",
   "metadata": {},
   "source": [
    "### 重写class"
   ]
  },
  {
   "cell_type": "code",
   "execution_count": 5,
   "id": "documentary-style",
   "metadata": {},
   "outputs": [],
   "source": [
    "data.loc[(data['class']=='Iris-virginica'),'class'] = 1\n",
    "data.loc[(data['class']=='Iris-versicolor'),'class'] = -1"
   ]
  },
  {
   "cell_type": "markdown",
   "id": "sudden-repeat",
   "metadata": {},
   "source": [
    "### 打乱数据"
   ]
  },
  {
   "cell_type": "code",
   "execution_count": 6,
   "id": "tired-player",
   "metadata": {},
   "outputs": [
    {
     "data": {
      "text/html": [
       "<div>\n",
       "<style scoped>\n",
       "    .dataframe tbody tr th:only-of-type {\n",
       "        vertical-align: middle;\n",
       "    }\n",
       "\n",
       "    .dataframe tbody tr th {\n",
       "        vertical-align: top;\n",
       "    }\n",
       "\n",
       "    .dataframe thead th {\n",
       "        text-align: right;\n",
       "    }\n",
       "</style>\n",
       "<table border=\"1\" class=\"dataframe\">\n",
       "  <thead>\n",
       "    <tr style=\"text-align: right;\">\n",
       "      <th></th>\n",
       "      <th>sepal width</th>\n",
       "      <th>petal width</th>\n",
       "      <th>class</th>\n",
       "    </tr>\n",
       "  </thead>\n",
       "  <tbody>\n",
       "    <tr>\n",
       "      <th>121</th>\n",
       "      <td>2.8</td>\n",
       "      <td>2.0</td>\n",
       "      <td>1</td>\n",
       "    </tr>\n",
       "    <tr>\n",
       "      <th>118</th>\n",
       "      <td>2.6</td>\n",
       "      <td>2.3</td>\n",
       "      <td>1</td>\n",
       "    </tr>\n",
       "    <tr>\n",
       "      <th>80</th>\n",
       "      <td>2.4</td>\n",
       "      <td>1.1</td>\n",
       "      <td>-1</td>\n",
       "    </tr>\n",
       "    <tr>\n",
       "      <th>128</th>\n",
       "      <td>2.8</td>\n",
       "      <td>2.1</td>\n",
       "      <td>1</td>\n",
       "    </tr>\n",
       "    <tr>\n",
       "      <th>69</th>\n",
       "      <td>2.5</td>\n",
       "      <td>1.1</td>\n",
       "      <td>-1</td>\n",
       "    </tr>\n",
       "    <tr>\n",
       "      <th>...</th>\n",
       "      <td>...</td>\n",
       "      <td>...</td>\n",
       "      <td>...</td>\n",
       "    </tr>\n",
       "    <tr>\n",
       "      <th>120</th>\n",
       "      <td>3.2</td>\n",
       "      <td>2.3</td>\n",
       "      <td>1</td>\n",
       "    </tr>\n",
       "    <tr>\n",
       "      <th>64</th>\n",
       "      <td>2.9</td>\n",
       "      <td>1.3</td>\n",
       "      <td>-1</td>\n",
       "    </tr>\n",
       "    <tr>\n",
       "      <th>75</th>\n",
       "      <td>3.0</td>\n",
       "      <td>1.4</td>\n",
       "      <td>-1</td>\n",
       "    </tr>\n",
       "    <tr>\n",
       "      <th>74</th>\n",
       "      <td>2.9</td>\n",
       "      <td>1.3</td>\n",
       "      <td>-1</td>\n",
       "    </tr>\n",
       "    <tr>\n",
       "      <th>91</th>\n",
       "      <td>3.0</td>\n",
       "      <td>1.4</td>\n",
       "      <td>-1</td>\n",
       "    </tr>\n",
       "  </tbody>\n",
       "</table>\n",
       "<p>100 rows × 3 columns</p>\n",
       "</div>"
      ],
      "text/plain": [
       "     sepal width  petal width class\n",
       "121          2.8          2.0     1\n",
       "118          2.6          2.3     1\n",
       "80           2.4          1.1    -1\n",
       "128          2.8          2.1     1\n",
       "69           2.5          1.1    -1\n",
       "..           ...          ...   ...\n",
       "120          3.2          2.3     1\n",
       "64           2.9          1.3    -1\n",
       "75           3.0          1.4    -1\n",
       "74           2.9          1.3    -1\n",
       "91           3.0          1.4    -1\n",
       "\n",
       "[100 rows x 3 columns]"
      ]
     },
     "execution_count": 6,
     "metadata": {},
     "output_type": "execute_result"
    }
   ],
   "source": [
    "data = data.sample(frac=1)\n",
    "data"
   ]
  },
  {
   "cell_type": "markdown",
   "id": "valuable-keeping",
   "metadata": {},
   "source": [
    "### 取值"
   ]
  },
  {
   "cell_type": "code",
   "execution_count": 7,
   "id": "minus-frame",
   "metadata": {},
   "outputs": [],
   "source": [
    "data = data.values"
   ]
  },
  {
   "cell_type": "markdown",
   "id": "bacterial-flexibility",
   "metadata": {},
   "source": [
    "### 绘图"
   ]
  },
  {
   "cell_type": "code",
   "execution_count": 8,
   "id": "agreed-thread",
   "metadata": {},
   "outputs": [
    {
     "data": {
      "image/png": "[encoded data removed]",
      "text/plain": [
       "<Figure size 432x288 with 1 Axes>"
      ]
     },
     "metadata": {
      "needs_background": "light"
     },
     "output_type": "display_data"
    }
   ],
   "source": [
    "for i in range(len(data)):\n",
    "    if data[i][-1] == -1:\n",
    "        plt.scatter(data[i][0],data[i][1],c='r',marker='o')\n",
    "    else:\n",
    "        plt.scatter(data[i][0],data[i][1],c='b',marker='x')\n",
    "plt.show()"
   ]
  },
  {
   "cell_type": "markdown",
   "id": "contained-incident",
   "metadata": {},
   "source": [
    "### 划分训练集与测试集"
   ]
  },
  {
   "cell_type": "code",
   "execution_count": 9,
   "id": "incredible-defensive",
   "metadata": {},
   "outputs": [
    {
     "data": {
      "text/plain": [
       "30"
      ]
     },
     "execution_count": 9,
     "metadata": {},
     "output_type": "execute_result"
    }
   ],
   "source": [
    "training = data[:70]\n",
    "test = data[70:]\n",
    "len(test)"
   ]
  },
  {
   "cell_type": "code",
   "execution_count": 10,
   "id": "enabling-father",
   "metadata": {},
   "outputs": [
    {
     "data": {
      "text/plain": [
       "array([2.8, 1.8], dtype=object)"
      ]
     },
     "execution_count": 10,
     "metadata": {},
     "output_type": "execute_result"
    }
   ],
   "source": [
    "x = test[0][:-1]\n",
    "x"
   ]
  },
  {
   "cell_type": "code",
   "execution_count": 11,
   "id": "established-queen",
   "metadata": {},
   "outputs": [
    {
     "data": {
      "text/plain": [
       "array([1], dtype=object)"
      ]
     },
     "execution_count": 11,
     "metadata": {},
     "output_type": "execute_result"
    }
   ],
   "source": [
    "y = test[0][-1:]\n",
    "y"
   ]
  },
  {
   "cell_type": "markdown",
   "id": "complex-month",
   "metadata": {},
   "source": [
    "# 一些工具函数"
   ]
  },
  {
   "cell_type": "code",
   "execution_count": 12,
   "id": "fiscal-contrary",
   "metadata": {},
   "outputs": [],
   "source": [
    "def makeArray(I,J):\n",
    "    m = []\n",
    "    for i in range(I):\n",
    "        fill = np.random.random()\n",
    "        m.append([fill]*J)\n",
    "    return m"
   ]
  },
  {
   "cell_type": "code",
   "execution_count": 13,
   "id": "entertaining-expression",
   "metadata": {},
   "outputs": [],
   "source": [
    "def sign(a):\n",
    "    if a>0:\n",
    "        return 1\n",
    "    else:\n",
    "        return -1"
   ]
  },
  {
   "cell_type": "markdown",
   "id": "functional-effectiveness",
   "metadata": {},
   "source": [
    "# 一、感知机模型"
   ]
  },
  {
   "cell_type": "code",
   "execution_count": 14,
   "id": "quick-rally",
   "metadata": {},
   "outputs": [],
   "source": [
    "def feeling():\n",
    "    w = np.zeros(2)\n",
    "    lr = 0.01\n",
    "    c = 1\n",
    "#     循环遍历计数\n",
    "    cnt = 0\n",
    "    while True:\n",
    "        cnt += 1\n",
    "#         遍历次数超过1000时跳出循环，学习结束\n",
    "        if cnt > 1000:\n",
    "            break\n",
    "        for i in range(len(training)):\n",
    "            x = np.array(training[i][:-1])\n",
    "            y = np.array(training[i][-1])\n",
    "\n",
    "            s = np.sum(w*x)-c\n",
    "            z = sign(s)\n",
    "            if y * z <= 0:\n",
    "#                 e = y-z\n",
    "#                 w = w+lr*e*x\n",
    "#                 c = np.sum(c+lr*e)\n",
    "                w = w+lr*y*x\n",
    "                c = c+lr*y\n",
    "    return cnt,w,c"
   ]
  },
  {
   "cell_type": "code",
   "execution_count": 15,
   "id": "aware-gather",
   "metadata": {},
   "outputs": [
    {
     "name": "stdout",
     "output_type": "stream",
     "text": [
      "迭代次数： 1001\n",
      "超平面法向量： [0.5549999999999993 2.6989999999999794]\n",
      "阈值： 5.689999999999922\n"
     ]
    },
    {
     "data": {
      "image/png": "[encoded data removed]",
      "text/plain": [
       "<Figure size 432x288 with 1 Axes>"
      ]
     },
     "metadata": {
      "needs_background": "light"
     },
     "output_type": "display_data"
    },
    {
     "name": "stdout",
     "output_type": "stream",
     "text": [
      "测试集准确率： 0.8666666666666667\n"
     ]
    }
   ],
   "source": [
    "if __name__=='__main__':\n",
    "    cnt,w,c=feeling()\n",
    "    print(\"迭代次数：\",cnt)\n",
    "    print(\"超平面法向量：\",w)\n",
    "    print(\"阈值：\",c)\n",
    "    count = 0\n",
    "    for i in range(len(test)):\n",
    "        target = test[i][-1:]\n",
    "        result = sign(np.sum(w*test[i][:-1])-c)\n",
    "        if(target == result):\n",
    "            count += 1\n",
    "    accuracy = float(count/len(test))\n",
    "    for i in range(len(test)):\n",
    "        if test[i][-1] == -1:\n",
    "            plt.scatter(test[i][0],test[i][1],c='r',marker='o')\n",
    "        else:\n",
    "            plt.scatter(test[i][0],test[i][1],c='b',marker='x')\n",
    "#     for i in range(len(data)):\n",
    "#         if training[i][-1] == -1:\n",
    "#             plt.scatter(data[i][0],data[i][1],c='r')\n",
    "#         else:\n",
    "#             plt.scatter(data[i][0],data[i][1],c='b')\n",
    "    X = np.random.uniform(2,4,50)\n",
    "    Y = -(w[0]*X-c)/w[1]\n",
    "    plt.xlabel('sepal width')\n",
    "    plt.ylabel('petal width')\n",
    "    plt.plot(X,Y,'g')\n",
    "    plt.show()\n",
    "    print(\"测试集准确率：\",accuracy)"
   ]
  },
  {
   "cell_type": "code",
   "execution_count": 16,
   "id": "forced-washington",
   "metadata": {},
   "outputs": [
    {
     "data": {
      "image/png": "[encoded data removed]",
      "text/plain": [
       "<Figure size 432x288 with 1 Axes>"
      ]
     },
     "metadata": {
      "needs_background": "light"
     },
     "output_type": "display_data"
    }
   ],
   "source": [
    "for i in range(len(data)):\n",
    "    if data[i][-1] == -1:\n",
    "        plt.scatter(data[i][0],data[i][1],c='r',marker='o')\n",
    "    else:\n",
    "        plt.scatter(data[i][0],data[i][1],c='b',marker='x')\n",
    "X = np.random.uniform(2,4,50)\n",
    "Y = -(w[0]*X-c)/w[1]\n",
    "plt.xlabel('sepal width')\n",
    "plt.ylabel('petal width')\n",
    "plt.plot(X,Y,'g')\n",
    "plt.show()"
   ]
  },
  {
   "cell_type": "markdown",
   "id": "finnish-concord",
   "metadata": {},
   "source": [
    "# 二、口袋算法"
   ]
  },
  {
   "cell_type": "code",
   "execution_count": 17,
   "id": "greatest-respect",
   "metadata": {},
   "outputs": [],
   "source": [
    "def checkErrorRate(training,w,c):\n",
    "    count=0\n",
    "    for i in range(len(training)):\n",
    "        x=np.array(training[i][:-1])\n",
    "        y=training[i][-1]\n",
    "        if np.sign(np.sum(w*x)-c)!=np.sign(y):\n",
    "            count+=1\n",
    "    return count/len(training)"
   ]
  },
  {
   "cell_type": "code",
   "execution_count": 18,
   "id": "ideal-confidentiality",
   "metadata": {},
   "outputs": [],
   "source": [
    "def Pocket():\n",
    "    w = np.zeros(2)\n",
    "    lr = 0.01\n",
    "    c = 1\n",
    "    best_w = w\n",
    "    bestRate = 1\n",
    "    best_c = c\n",
    "#     循环遍历计数\n",
    "    cnt = 0\n",
    "    while True:\n",
    "        cnt += 1\n",
    "#         遍历次数超过1000时跳出循环，学习结束\n",
    "        if cnt > 1000:\n",
    "            break\n",
    "        for i in range(len(training)):\n",
    "            x = np.array(training[i][:-1])\n",
    "            y = training[i][-1]\n",
    "            \n",
    "            s = np.sum(w*x)-c\n",
    "            z = sign(s)\n",
    "            if y*z <= 0:\n",
    "#                 e = y-z\n",
    "#                 w = w+lr*e*x\n",
    "#                 c = np.sum(c+lr*e)\n",
    "                w = w+lr*y*x\n",
    "                c = c+lr*y\n",
    "                rate = checkErrorRate(data,w,c)\n",
    "                if rate<bestRate:\n",
    "                    bestRate = rate\n",
    "                    print(\"bestRate update:\",bestRate)\n",
    "                    best_w = w\n",
    "                    best_c = c\n",
    "    return cnt,best_w,best_c"
   ]
  },
  {
   "cell_type": "code",
   "execution_count": 19,
   "id": "protective-intranet",
   "metadata": {},
   "outputs": [
    {
     "name": "stdout",
     "output_type": "stream",
     "text": [
      "bestRate update: 0.5\n",
      "bestRate update: 0.48\n",
      "bestRate update: 0.35\n",
      "bestRate update: 0.21\n",
      "bestRate update: 0.19\n",
      "bestRate update: 0.18\n",
      "bestRate update: 0.17\n",
      "bestRate update: 0.16\n",
      "bestRate update: 0.14\n",
      "bestRate update: 0.13\n",
      "bestRate update: 0.11\n",
      "bestRate update: 0.1\n",
      "bestRate update: 0.09\n",
      "bestRate update: 0.08\n",
      "bestRate update: 0.07\n",
      "bestRate update: 0.06\n",
      "迭代次数： 1001\n",
      "超平面法向量： [0.10599999999999951 0.5650000000000003]\n",
      "阈值： 1.2800000000000002\n"
     ]
    },
    {
     "data": {
      "image/png": "[encoded data removed]",
      "text/plain": [
       "<Figure size 432x288 with 1 Axes>"
      ]
     },
     "metadata": {
      "needs_background": "light"
     },
     "output_type": "display_data"
    },
    {
     "name": "stdout",
     "output_type": "stream",
     "text": [
      "准确率： 1.0\n"
     ]
    }
   ],
   "source": [
    "if __name__=='__main__':\n",
    "    cnt,best_w,best_c=Pocket()\n",
    "    print(\"迭代次数：\",cnt)\n",
    "    print(\"超平面法向量：\",best_w)\n",
    "    print(\"阈值：\",best_c)\n",
    "    count = 0\n",
    "    for i in range(len(test)):\n",
    "        target = test[i][-1:]\n",
    "        result = sign(np.sum(best_w*test[i][:-1])-best_c)\n",
    "        if(target == result):\n",
    "            count += 1\n",
    "    accuracy = float(count/len(test))\n",
    "    for i in range(len(test)):\n",
    "        if test[i][-1] == -1:\n",
    "            plt.scatter(test[i][0],test[i][1],c='r',marker='o')\n",
    "        else:\n",
    "            plt.scatter(test[i][0],test[i][1],c='b',marker='x')\n",
    "#     for i in range(len(data)):\n",
    "#         if data[i][-1] == -1:\n",
    "#             plt.scatter(data[i][0],data[i][1],c='r')\n",
    "#         else:\n",
    "#             plt.scatter(data[i][0],data[i][1],c='b')\n",
    "    X = np.random.uniform(2,4,50)\n",
    "    Y = -(best_w[0]*X-best_c)/best_w[1]\n",
    "    plt.plot(X,Y,'g')\n",
    "    plt.xlabel('sepal width')\n",
    "    plt.ylabel('petal width')\n",
    "    plt.show()\n",
    "    print(\"准确率：\",accuracy)"
   ]
  },
  {
   "cell_type": "code",
   "execution_count": 20,
   "id": "powerful-consequence",
   "metadata": {},
   "outputs": [
    {
     "data": {
      "image/png": "[encoded data removed]",
      "text/plain": [
       "<Figure size 432x288 with 1 Axes>"
      ]
     },
     "metadata": {
      "needs_background": "light"
     },
     "output_type": "display_data"
    }
   ],
   "source": [
    "for i in range(len(data)):\n",
    "    if data[i][-1] == -1:\n",
    "        plt.scatter(data[i][0],data[i][1],c='r',marker='o')\n",
    "    else:\n",
    "        plt.scatter(data[i][0],data[i][1],c='b',marker='x')\n",
    "X = np.random.uniform(2,4,50)\n",
    "Y = -(best_w[0]*X-best_c)/best_w[1]\n",
    "plt.xlabel('sepal width')\n",
    "plt.ylabel('petal width')\n",
    "plt.plot(X,Y,'g')\n",
    "plt.show()"
   ]
  }
 ],
 "metadata": {
  "kernelspec": {
   "display_name": "Python 3",
   "language": "python",
   "name": "python3"
  },
  "language_info": {
   "codemirror_mode": {
    "name": "ipython",
    "version": 3
   },
   "file_extension": ".py",
   "mimetype": "text/x-python",
   "name": "python",
   "nbconvert_exporter": "python",
   "pygments_lexer": "ipython3",
   "version": "3.6.12"
  }
 },
 "nbformat": 4,
 "nbformat_minor": 5
}
