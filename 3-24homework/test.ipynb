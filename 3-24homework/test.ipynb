{
 "cells": [
  {
   "cell_type": "code",
   "execution_count": 1,
   "id": "biological-prevention",
   "metadata": {},
   "outputs": [],
   "source": [
    "from matplotlib import pyplot as plt\n",
    "import numpy as np\n",
    "\n",
    "#生成训练数据\n",
    "def generate_data(u1,o1,u2,o2):\n",
    "    #此产生两组正态分布数据（产出为元组数据）\n",
    "    t1=np.random.normal(u1,o1,size=(10,2))\n",
    "    t2=np.random.normal(u2,o2,size=(10,2))\n",
    "    a_x=np.array(t1)\n",
    "    b_x=np.array(t2)\n",
    "    #给两组正态数据打标签\n",
    "    a_y=np.ones(10)\n",
    "    b_y=np.negative(np.ones(10))\n",
    "    class1=np.c_[a_x,a_y]\n",
    "    class2=np.c_[b_x,b_y]\n",
    "    return class1,class2"
   ]
  },
  {
   "cell_type": "code",
   "execution_count": 2,
   "id": "noble-department",
   "metadata": {},
   "outputs": [
    {
     "data": {
      "text/plain": [
       "array([[ 0.48788309, -0.37278085,  1.        ],\n",
       "       [ 1.91286873,  3.80347307,  1.        ],\n",
       "       [-0.11759303,  1.56252767,  1.        ],\n",
       "       [ 1.76363094,  0.09217368,  1.        ],\n",
       "       [-0.51246144,  3.7810059 ,  1.        ],\n",
       "       [ 1.95098995,  2.10492962,  1.        ],\n",
       "       [-1.41692274,  1.99894034,  1.        ],\n",
       "       [-0.16791051,  1.78429289,  1.        ],\n",
       "       [ 1.73847789,  0.67817043,  1.        ],\n",
       "       [ 1.81605943,  2.03457399,  1.        ],\n",
       "       [-0.64406596, -1.9165114 , -1.        ],\n",
       "       [-2.59397263,  0.06554309, -1.        ],\n",
       "       [ 0.92973331,  0.46818267, -1.        ],\n",
       "       [-2.04022019,  1.0746481 , -1.        ],\n",
       "       [-1.62631071, -0.78990068, -1.        ],\n",
       "       [-1.62877671, -1.01608693, -1.        ],\n",
       "       [-1.89934351, -1.07088972, -1.        ],\n",
       "       [-0.19119596, -2.45705216, -1.        ],\n",
       "       [-0.26885276, -2.17076032, -1.        ],\n",
       "       [-0.78377553, -0.35785092, -1.        ]])"
      ]
     },
     "execution_count": 2,
     "metadata": {},
     "output_type": "execute_result"
    }
   ],
   "source": [
    "c1,c2 = generate_data(1,1,-1,1)\n",
    "test=np.vstack((c1,c2))#合并两类数据\n",
    "test"
   ]
  },
  {
   "cell_type": "code",
   "execution_count": 3,
   "id": "certain-scope",
   "metadata": {},
   "outputs": [
    {
     "data": {
      "text/plain": [
       "array([1., 1., 1., 1., 1., 1., 1., 1., 1., 1., 1., 1., 1., 1., 1., 1., 1.,\n",
       "       1., 1., 1.])"
      ]
     },
     "execution_count": 3,
     "metadata": {},
     "output_type": "execute_result"
    }
   ],
   "source": [
    "x0 = np.ones(20)\n",
    "x0"
   ]
  },
  {
   "cell_type": "code",
   "execution_count": 4,
   "id": "marked-woman",
   "metadata": {},
   "outputs": [
    {
     "data": {
      "text/plain": [
       "array([[ 1.        ,  0.48788309, -0.37278085,  1.        ],\n",
       "       [ 1.        ,  1.91286873,  3.80347307,  1.        ],\n",
       "       [ 1.        , -0.11759303,  1.56252767,  1.        ],\n",
       "       [ 1.        ,  1.76363094,  0.09217368,  1.        ],\n",
       "       [ 1.        , -0.51246144,  3.7810059 ,  1.        ],\n",
       "       [ 1.        ,  1.95098995,  2.10492962,  1.        ],\n",
       "       [ 1.        , -1.41692274,  1.99894034,  1.        ],\n",
       "       [ 1.        , -0.16791051,  1.78429289,  1.        ],\n",
       "       [ 1.        ,  1.73847789,  0.67817043,  1.        ],\n",
       "       [ 1.        ,  1.81605943,  2.03457399,  1.        ],\n",
       "       [ 1.        , -0.64406596, -1.9165114 , -1.        ],\n",
       "       [ 1.        , -2.59397263,  0.06554309, -1.        ],\n",
       "       [ 1.        ,  0.92973331,  0.46818267, -1.        ],\n",
       "       [ 1.        , -2.04022019,  1.0746481 , -1.        ],\n",
       "       [ 1.        , -1.62631071, -0.78990068, -1.        ],\n",
       "       [ 1.        , -1.62877671, -1.01608693, -1.        ],\n",
       "       [ 1.        , -1.89934351, -1.07088972, -1.        ],\n",
       "       [ 1.        , -0.19119596, -2.45705216, -1.        ],\n",
       "       [ 1.        , -0.26885276, -2.17076032, -1.        ],\n",
       "       [ 1.        , -0.78377553, -0.35785092, -1.        ]])"
      ]
     },
     "execution_count": 4,
     "metadata": {},
     "output_type": "execute_result"
    }
   ],
   "source": [
    "test = np.c_[x0, test]  # 插入列向量x0=[0,0,...0]\n",
    "test"
   ]
  }
 ],
 "metadata": {
  "kernelspec": {
   "display_name": "Python 3",
   "language": "python",
   "name": "python3"
  },
  "language_info": {
   "codemirror_mode": {
    "name": "ipython",
    "version": 3
   },
   "file_extension": ".py",
   "mimetype": "text/x-python",
   "name": "python",
   "nbconvert_exporter": "python",
   "pygments_lexer": "ipython3",
   "version": "3.6.12"
  }
 },
 "nbformat": 4,
 "nbformat_minor": 5
}
