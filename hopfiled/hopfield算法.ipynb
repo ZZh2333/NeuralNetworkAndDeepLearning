{
 "cells": [
  {
   "cell_type": "markdown",
   "metadata": {},
   "source": [
    "首先，说明自己使用的库名、库类型与模块等，本代码所使用的主要如下："
   ]
  },
  {
   "cell_type": "code",
   "execution_count": 1,
   "metadata": {},
   "outputs": [],
   "source": [
    "import numpy as np\n",
    "import random\n",
    "from PIL import Image\n",
    "import os\n",
    "import re\n",
    "import matplotlib.pyplot as plt\n",
    "from IPython.core.interactiveshell import InteractiveShell\n",
    "InteractiveShell.ast_node_interactivity = \"all\"\n"
   ]
  },
  {
   "cell_type": "markdown",
   "metadata": {},
   "source": [
    "之后，开始按照自己的习惯把算法分解成为可理解的若干分块。在这个过程中，发现有许多步骤需要将图片转换为二值矩阵或者其逆操作等，故先写几个函数便于调用。\n",
    "下面这个函数用于将jpg格式或者jpeg格式的图片转换为二值矩阵。先生成x这个全零矩阵，从而将imgArray中的色度值分类，获得最终的二值矩阵。这个函数在全文中将多次调用。\n"
   ]
  },
  {
   "cell_type": "code",
   "execution_count": 2,
   "metadata": {},
   "outputs": [],
   "source": [
    "def readImg2array(file,size, threshold= 100):\n",
    "    #file is jpg or jpeg pictures\n",
    "    #size is a 1*2 vector,eg (40,40)\n",
    "    pilIN = Image.open(file).convert(mode=\"L\")\n",
    "    pilIN= pilIN.resize(size)\n",
    "    #pilIN.thumbnail(size,Image.ANTIALIAS)\n",
    "    imgArray = np.asarray(pilIN,dtype=np.uint8)\n",
    "    x = np.zeros(imgArray.shape,dtype=np.float)\n",
    "    x[imgArray > threshold] = 1\n",
    "    x[x==0] = -1\n",
    "    return x\n"
   ]
  },
  {
   "cell_type": "markdown",
   "metadata": {},
   "source": [
    "下面在定义的便是其逆变换，由于Python中已经有该逆变换的函数，故只是稍作加工便可使用。"
   ]
  },
  {
   "cell_type": "code",
   "execution_count": 3,
   "metadata": {},
   "outputs": [],
   "source": [
    "def array2img(data, outFile = None):\n",
    "\n",
    "    #data is 1 or -1 matrix\n",
    "    y = np.zeros(data.shape,dtype=np.uint8)\n",
    "    y[data==1] = 255\n",
    "    y[data==-1] = 0\n",
    "    img = Image.fromarray(y,mode=\"L\")\n",
    "    if outFile is not None:\n",
    "        img.save(outFile)\n",
    "    return img\n",
    "\n"
   ]
  },
  {
   "cell_type": "markdown",
   "metadata": {},
   "source": [
    "写到这一步，已经可以输入原始图片获得该二值矩阵了。这里需要注意，选取图片时尽量选取黑白分明的图片以获得好的display, 可以调整size与threshold改变最后图片的对比度以及图片大小。"
   ]
  },
  {
   "cell_type": "markdown",
   "metadata": {},
   "source": [
    "下面是另一个为了方便计算而编写的程序，利用x.shape得到矩阵x的每一维个数，从而得到m个元素的全零向量。将x按i\\j顺序赋值给向量tmp1. 最后得到从矩阵转换的向量。"
   ]
  },
  {
   "cell_type": "code",
   "execution_count": 4,
   "metadata": {},
   "outputs": [],
   "source": [
    "def mat2vec(x):\n",
    "    #x is a matrix\n",
    "    m = x.shape[0]*x.shape[1]\n",
    "    tmp1 = np.zeros(m)\n",
    "\n",
    "    c = 0\n",
    "    for i in range(x.shape[0]):\n",
    "        for j in range(x.shape[1]):\n",
    "            tmp1[c] = x[i,j]\n",
    "            c +=1\n",
    "    return tmp1\n"
   ]
  },
  {
   "cell_type": "markdown",
   "metadata": {},
   "source": [
    "接下来便是非常重要的一步，创建H ij​,即权重矩阵，根据权重矩阵的定义J i j = 1 N ∑ μ = 1 p ξ i μ ξ j μ J{_{ij}}=\\frac{1}{N}\\sum_{\\mu=1}^{p}\\xi{^\\mu_i}\\xi{^\\mu_j}J ij​= N1​∑μ=1p​ξ iμ​ξ jμ​\t根据权重矩阵的对称特性，可以很好地减少计算量。\n",
    " \n",
    "\n"
   ]
  },
  {
   "cell_type": "code",
   "execution_count": 5,
   "metadata": {},
   "outputs": [],
   "source": [
    "#use Hebbian rule create weight matrix\n",
    "def create_W_single_pattern(x):\n",
    "    # x is a vector\n",
    "    if len(x.shape) != 1:\n",
    "        print (\"The input is not vector\")\n",
    "        return\n",
    "    else:\n",
    "        w = np.zeros([len(x),len(x)])\n",
    "        for i in range(len(x)):\n",
    "            for j in range(i,len(x)):\n",
    "                if i == j:\n",
    "                    w[i,j] = 0\n",
    "                else:\n",
    "                    w[i,j] = x[i]*x[j]\n",
    "                    w[j,i] = w[i,j]\n",
    "    return w\n"
   ]
  },
  {
   "cell_type": "markdown",
   "metadata": {},
   "source": [
    "下一个需要建立的函数便是输入test picture之后对神经元的随机升级。利用异步更新，以及前面提到的迭代公式，从而获取更新后的神经元向量以及系统能量。"
   ]
  },
  {
   "cell_type": "code",
   "execution_count": 6,
   "metadata": {},
   "outputs": [],
   "source": [
    "#randomly update\n",
    "def update_asynch(weight,vector,theta=0.5,times=145):\n",
    "    energy_ = []\n",
    "    times_ = []\n",
    "    energy_.append(energy(weight,vector))\n",
    "    times_.append(0)\n",
    "    for i in range(times):\n",
    "        length = len(vector)\n",
    "        update_num = random.randint(0,length-1)\n",
    "        next_time_value = np.dot(weight[update_num][:],vector) - theta\n",
    "        if next_time_value>=0:\n",
    "            vector[update_num] = 1\n",
    "        if next_time_value<0:\n",
    "            vector[update_num] = -1\n",
    "        times_.append(i)\n",
    "        energy_.append(energy(weight,vector))\n",
    "    \n",
    "    return (vector,times_,energy_)\n",
    "                \n"
   ]
  },
  {
   "cell_type": "markdown",
   "metadata": {},
   "source": [
    "为了更好地看到迭代对系统的影响，我们按照定义计算每一次迭代后的系统能量，最后画出E的图像，便可验证前文的观点。"
   ]
  },
  {
   "cell_type": "code",
   "execution_count": 7,
   "metadata": {},
   "outputs": [],
   "source": [
    "def energy(weight,x,bias=0):\n",
    "#weight: m*m weight matrix\n",
    "#x: 1*m data vector\n",
    "#bias: outer field\n",
    "    energy = -x.dot(weight).dot(x.T)+sum(bias*x)\n",
    "    # E is a scalar\n",
    "    return energy\n"
   ]
  },
  {
   "cell_type": "markdown",
   "metadata": {},
   "source": [
    "定义完主要的函数之后，我们来到main body部分，调用前文定义的函数，便可简洁地把主函数表达清楚。可以调整size和threshod获得更好的输入效果，但是也有可能会增大计算机的计算量而增加运行时间。为了增加泛化能力，我们正则化之后打开训练图片，并且通过该程序获取权重矩阵。"
   ]
  },
  {
   "cell_type": "code",
   "execution_count": 8,
   "metadata": {},
   "outputs": [
    {
     "ename": "FileNotFoundError",
     "evalue": "[WinError 3] 系统找不到指定的路径。: './women_train/'",
     "output_type": "error",
     "traceback": [
      "\u001b[1;31m---------------------------------------------------------------------------\u001b[0m",
      "\u001b[1;31mFileNotFoundError\u001b[0m                         Traceback (most recent call last)",
      "\u001b[1;32m<ipython-input-8-6ae3bdd74d61>\u001b[0m in \u001b[0;36m<module>\u001b[1;34m\u001b[0m\n\u001b[0;32m      6\u001b[0m \u001b[0mtrain_paths\u001b[0m \u001b[1;33m=\u001b[0m \u001b[1;33m[\u001b[0m\u001b[1;33m]\u001b[0m\u001b[1;33m\u001b[0m\u001b[1;33m\u001b[0m\u001b[0m\n\u001b[0;32m      7\u001b[0m \u001b[0mtrain_path\u001b[0m \u001b[1;33m=\u001b[0m \u001b[1;34m\"./women_train/\"\u001b[0m\u001b[1;33m\u001b[0m\u001b[1;33m\u001b[0m\u001b[0m\n\u001b[1;32m----> 8\u001b[1;33m \u001b[1;32mfor\u001b[0m \u001b[0mi\u001b[0m \u001b[1;32min\u001b[0m \u001b[0mos\u001b[0m\u001b[1;33m.\u001b[0m\u001b[0mlistdir\u001b[0m\u001b[1;33m(\u001b[0m\u001b[0mtrain_path\u001b[0m\u001b[1;33m)\u001b[0m\u001b[1;33m:\u001b[0m\u001b[1;33m\u001b[0m\u001b[1;33m\u001b[0m\u001b[0m\n\u001b[0m\u001b[0;32m      9\u001b[0m     \u001b[1;32mif\u001b[0m \u001b[0mre\u001b[0m\u001b[1;33m.\u001b[0m\u001b[0mmatch\u001b[0m\u001b[1;33m(\u001b[0m\u001b[1;34mr'[0-9 a-z A-Z-_]*.jp[e]*g'\u001b[0m\u001b[1;33m,\u001b[0m\u001b[0mi\u001b[0m\u001b[1;33m)\u001b[0m\u001b[1;33m:\u001b[0m\u001b[1;33m\u001b[0m\u001b[1;33m\u001b[0m\u001b[0m\n\u001b[0;32m     10\u001b[0m         \u001b[0mtrain_paths\u001b[0m\u001b[1;33m.\u001b[0m\u001b[0mappend\u001b[0m\u001b[1;33m(\u001b[0m\u001b[0mtrain_path\u001b[0m\u001b[1;33m+\u001b[0m\u001b[0mi\u001b[0m\u001b[1;33m)\u001b[0m\u001b[1;33m\u001b[0m\u001b[1;33m\u001b[0m\u001b[0m\n",
      "\u001b[1;31mFileNotFoundError\u001b[0m: [WinError 3] 系统找不到指定的路径。: './women_train/'"
     ]
    }
   ],
   "source": [
    "#main \n",
    "#import training picture\n",
    "size_global =(80,80)\n",
    "threshold_global = 120\n",
    "\n",
    "train_paths = []\n",
    "train_path = \"./women_train/\"\n",
    "for i in os.listdir(train_path):\n",
    "    if re.match(r'[0-9 a-z A-Z-_]*.jp[e]*g',i):\n",
    "        train_paths.append(train_path+i)\n",
    "flag = 0\n",
    "for path in train_paths:\n",
    "    matrix_train = readImg2array(path,size = size_global,threshold=threshold_global)\n",
    "    vector_train = mat2vec(matrix_train)\n",
    "    plt.imshow(array2img(matrix_train))\n",
    "    plt.title(\"train picture\"+str(flag+1))\n",
    "    plt.show()\n",
    "    if flag == 0:\n",
    "        w_ = create_W_single_pattern(vector_train)\n",
    "        flag = flag +1\n",
    "    else:\n",
    "        w_ = w_ +create_W_single_pattern(vector_train)\n",
    "        flag = flag +1\n",
    "\n",
    "w_ = w_/flag\n",
    "print(\"weight matrix is prepared!!!!!\")\n",
    "    \n"
   ]
  },
  {
   "cell_type": "markdown",
   "metadata": {},
   "source": [
    "得到权重矩阵之后的第一步自然是输入测试图片，依然正则化之后，根据图片-矩阵-图片的方式，将测试图片转换为二值图像如下图所示。"
   ]
  },
  {
   "cell_type": "code",
   "execution_count": 9,
   "metadata": {},
   "outputs": [
    {
     "data": {
      "text/plain": [
       "<AxesSubplot:>"
      ]
     },
     "execution_count": 9,
     "metadata": {},
     "output_type": "execute_result"
    },
    {
     "data": {
      "text/plain": [
       "<matplotlib.image.AxesImage at 0x26eda808f70>"
      ]
     },
     "execution_count": 9,
     "metadata": {},
     "output_type": "execute_result"
    },
    {
     "data": {
      "text/plain": [
       "Text(0.5, 1.0, 'test picture1')"
      ]
     },
     "execution_count": 9,
     "metadata": {},
     "output_type": "execute_result"
    },
    {
     "data": {
      "image/png": "[encoded data removed]",
      "text/plain": [
       "<Figure size 432x288 with 1 Axes>"
      ]
     },
     "metadata": {
      "needs_background": "light"
     },
     "output_type": "display_data"
    }
   ],
   "source": [
    "## import test data\n",
    "test_paths = []\n",
    "test_path = \"./women_test/\"\n",
    "for i in os.listdir(test_path):\n",
    "    if re.match(r'[0-9 a-z A-Z-_]*.jp[e]*g',i):\n",
    "        test_paths.append(test_path+i)\n",
    "num = 0\n",
    "for path in test_paths:\n",
    "    num = num+1\n",
    "    matrix_test = readImg2array(path,size = size_global,threshold=threshold_global)\n",
    "    vector_test = mat2vec(matrix_test)\n",
    "    plt.subplot(221)\n",
    "    plt.imshow(array2img(matrix_test))\n",
    "    plt.title(\"test picture\"+str(num))\n"
   ]
  },
  {
   "cell_type": "markdown",
   "metadata": {},
   "source": [
    "最后一步，我们利用对测试图片的矩阵（神经元状态矩阵）进行更新迭代，直到满足我们定义的迭代次数。最后将迭代末尾的矩阵转换为二值图片输出。运用之前定义的函数，这一步可谓是一气呵成。"
   ]
  },
  {
   "cell_type": "code",
   "execution_count": 10,
   "metadata": {},
   "outputs": [
    {
     "data": {
      "text/plain": [
       "<AxesSubplot:>"
      ]
     },
     "execution_count": 10,
     "metadata": {},
     "output_type": "execute_result"
    },
    {
     "data": {
      "text/plain": [
       "<matplotlib.image.AxesImage at 0x26ed8313e80>"
      ]
     },
     "execution_count": 10,
     "metadata": {},
     "output_type": "execute_result"
    },
    {
     "data": {
      "text/plain": [
       "Text(0.5, 1.0, 'recall1')"
      ]
     },
     "execution_count": 10,
     "metadata": {},
     "output_type": "execute_result"
    },
    {
     "data": {
      "text/plain": [
       "<AxesSubplot:>"
      ]
     },
     "execution_count": 10,
     "metadata": {},
     "output_type": "execute_result"
    },
    {
     "data": {
      "text/plain": [
       "[<matplotlib.lines.Line2D at 0x26eda9190a0>]"
      ]
     },
     "execution_count": 10,
     "metadata": {},
     "output_type": "execute_result"
    },
    {
     "data": {
      "text/plain": [
       "Text(0, 0.5, 'energy')"
      ]
     },
     "execution_count": 10,
     "metadata": {},
     "output_type": "execute_result"
    },
    {
     "data": {
      "text/plain": [
       "Text(0.5, 0, 'update times')"
      ]
     },
     "execution_count": 10,
     "metadata": {},
     "output_type": "execute_result"
    },
    {
     "data": {
      "image/png": "[encoded data removed]",
      "text/plain": [
       "<Figure size 432x288 with 2 Axes>"
      ]
     },
     "metadata": {
      "needs_background": "light"
     },
     "output_type": "display_data"
    }
   ],
   "source": [
    "  #plt.show()\n",
    "shape = matrix_test.shape\n",
    "aa = update_asynch(weight=w_,vector=vector_test,theta = 0.5 ,times=8000)\n",
    "vector_test_update = aa[0]\n",
    "matrix_test_update = vector_test_update.reshape(shape)\n",
    "    #matrix_test_update.shape\n",
    "    #print(matrix_test_update)\n",
    "plt.subplot(222)\n",
    "plt.imshow(array2img(matrix_test_update))\n",
    "plt.title(\"recall\"+str(num))\n",
    "\n",
    "    #plt.show()\n",
    "plt.subplot(212)\n",
    "plt.plot(aa[1],aa[2])\n",
    "plt.ylabel(\"energy\")\n",
    "plt.xlabel(\"update times\")\n",
    "    \n",
    "plt.show()\n",
    "\n"
   ]
  },
  {
   "cell_type": "code",
   "execution_count": null,
   "metadata": {},
   "outputs": [],
   "source": []
  }
 ],
 "metadata": {
  "kernelspec": {
   "display_name": "Python 3",
   "language": "python",
   "name": "python3"
  },
  "language_info": {
   "codemirror_mode": {
    "name": "ipython",
    "version": 3
   },
   "file_extension": ".py",
   "mimetype": "text/x-python",
   "name": "python",
   "nbconvert_exporter": "python",
   "pygments_lexer": "ipython3",
   "version": "3.6.13"
  }
 },
 "nbformat": 4,
 "nbformat_minor": 4
}
