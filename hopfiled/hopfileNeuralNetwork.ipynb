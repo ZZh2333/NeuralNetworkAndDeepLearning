{
 "cells": [
  {
   "cell_type": "markdown",
   "id": "ec29ce25",
   "metadata": {},
   "source": [
    "# hopfiled神经网络及其实现  \n",
    "小组成员：沈旭阳、谭力仁、温紫珺、邹子涵  \n",
    "汇报成员：沈旭阳"
   ]
  },
  {
   "cell_type": "markdown",
   "id": "f3ad5bd2",
   "metadata": {},
   "source": [
    "## 实验介绍  \n",
    "实验类别：hopfile神经网络；离散型；异步更新  \n",
    "Hopfield神经网络是一种非常典型的反馈型神经网络，除了与前馈神经系统相同的神经元之间的前馈连接，很明显还存在一种反馈连接。  \n",
    "Hopfield网络结构可以用以下示意图描述："
   ]
  },
  {
   "attachments": {
    "88eaada9-2029-4b47-82f8-a167e7569f94.png": {
     "image/png": "[encoded data removed]"
    }
   },
   "cell_type": "markdown",
   "id": "c03890c8",
   "metadata": {},
   "source": [
    "![image.png](attachment:88eaada9-2029-4b47-82f8-a167e7569f94.png)"
   ]
  },
  {
   "cell_type": "markdown",
   "id": "229f6f2d",
   "metadata": {},
   "source": [
    "从示意图中可知，该神经网络结构具有以下三个特点：  \n",
    "  \n",
    "1、神经元之间全连接，并且为单层神经网络。  \n",
    "2、每个神经元既是输入又是输出，导致得到的权重矩阵相对称，故可节约计算量。  \n",
    "3、在输入的激励下，其输出会产生不断的状态变化，这个反馈过程会一直反复进行。假如Hopfield神经网络是一个收敛的稳定网络，则这个反馈与迭代的计算过程所产生的变化越来越小，一旦达到了稳定的平衡状态，Hopfield网络就会输出一个稳定的恒值。  \n",
    "4、Hopfield网络可以储存一组平衡点，使得当给定网络一组初始状态时，网络通过自行运行而最终收敛于这个设计的平衡点上。当然，根据热力学上，平衡状态分为stable state和metastable state, 这两种状态在网络的收敛过程中都是非常可能的。  \n",
    "5、为递归型网络，t时刻的状态与t-1时刻的输出状态有关。之后的神经元更新过程也采用的是异步更新法（Asynchronous)。  "
   ]
  },
  {
   "cell_type": "markdown",
   "id": "0d70b64e",
   "metadata": {},
   "source": [
    "## python实现"
   ]
  },
  {
   "cell_type": "markdown",
   "id": "4b27a91e",
   "metadata": {},
   "source": [
    "### 导包"
   ]
  },
  {
   "cell_type": "code",
   "execution_count": 1,
   "id": "661a9eee",
   "metadata": {},
   "outputs": [],
   "source": [
    "import numpy as np\n",
    "import random\n",
    "from PIL import Image\n",
    "import os\n",
    "import re\n",
    "import matplotlib.pyplot as plt\n",
    "from IPython.core.interactiveshell import InteractiveShell\n",
    "InteractiveShell.ast_node_interactivity = \"all\""
   ]
  },
  {
   "cell_type": "markdown",
   "id": "48303ddd",
   "metadata": {},
   "source": [
    "### 将图片转换为二值矩阵  \n",
    "函数参数为（file、size、threshold）  \n",
    "分别代表（图片文件、图片大小、2值化阈值）"
   ]
  },
  {
   "cell_type": "code",
   "execution_count": 2,
   "id": "5adf55eb",
   "metadata": {},
   "outputs": [],
   "source": [
    "def readImg2array(file,size, threshold= 145):\n",
    "    pilIN = Image.open(file).convert(mode=\"L\")\n",
    "    pilIN= pilIN.resize(size)\n",
    "    imgArray = np.asarray(pilIN,dtype=np.uint8)\n",
    "    x = np.zeros(imgArray.shape,dtype=np.float)\n",
    "    x[imgArray > threshold] = 1\n",
    "    x[x==0] = -1\n",
    "    return x"
   ]
  },
  {
   "cell_type": "markdown",
   "id": "4717ea0e",
   "metadata": {},
   "source": [
    "### 二值矩阵转化为图片  \n",
    "函数参数为（矩阵、输出文件）  \n",
    "输出文件默认为空"
   ]
  },
  {
   "cell_type": "code",
   "execution_count": 3,
   "id": "d4992f98",
   "metadata": {},
   "outputs": [],
   "source": [
    "def array2img(data, outFile = None):\n",
    "    y = np.zeros(data.shape,dtype=np.uint8)\n",
    "    y[data==1] = 255\n",
    "    y[data==-1] = 0\n",
    "    img = Image.fromarray(y,mode=\"L\")\n",
    "    if outFile is not None:\n",
    "        img.save(outFile)\n",
    "    return img"
   ]
  },
  {
   "cell_type": "markdown",
   "id": "7d9853be",
   "metadata": {},
   "source": [
    "### 将矩阵转换为向量形式"
   ]
  },
  {
   "cell_type": "code",
   "execution_count": 4,
   "id": "3ca2984e",
   "metadata": {},
   "outputs": [],
   "source": [
    "def mat2vec(x):\n",
    "    m = x.shape[0]*x.shape[1]\n",
    "    tmp1 = np.zeros(m)\n",
    "\n",
    "    c = 0\n",
    "    for i in range(x.shape[0]):\n",
    "        for j in range(x.shape[1]):\n",
    "            tmp1[c] = x[i,j]\n",
    "            c +=1\n",
    "    return tmp1"
   ]
  },
  {
   "cell_type": "markdown",
   "id": "1ca92afa",
   "metadata": {},
   "source": [
    "### 创建Hij即权重矩阵，依据hopfile特性，该矩阵为对称矩阵"
   ]
  },
  {
   "cell_type": "code",
   "execution_count": 5,
   "id": "5e087924",
   "metadata": {},
   "outputs": [],
   "source": [
    "def create_W_single_pattern(x):\n",
    "    if len(x.shape) != 1:\n",
    "        print (\"该输入不是一个向量！\")\n",
    "        return\n",
    "    else:\n",
    "        w = np.zeros([len(x),len(x)])\n",
    "        for i in range(len(x)):\n",
    "            for j in range(i,len(x)):\n",
    "                if i == j:\n",
    "                    w[i,j] = 0\n",
    "                else:\n",
    "                    w[i,j] = x[i]*x[j]\n",
    "#                     对称矩阵性质\n",
    "                    w[j,i] = w[i,j]\n",
    "    return w"
   ]
  },
  {
   "cell_type": "markdown",
   "id": "bfebd17f",
   "metadata": {},
   "source": [
    "### 建立hopfiled升级函数对神经元随机升级，采用异步更新，获取更新后的神经元向量以及系统能量。"
   ]
  },
  {
   "cell_type": "code",
   "execution_count": 6,
   "id": "38102b5c",
   "metadata": {},
   "outputs": [],
   "source": [
    "def update_asynch(weight,vector,theta=0.5,times=100):\n",
    "#     初始化参数\n",
    "    energy_ = []\n",
    "    times_ = []\n",
    "#     记录系统能量更新过程\n",
    "    energy_.append(energy(weight,vector))\n",
    "#     记录迭代次数\n",
    "    times_.append(0)\n",
    "#     遍历迭代次数\n",
    "    for i in range(times):\n",
    "#         获取随机数，对随机神经元进行更新\n",
    "        length = len(vector)\n",
    "        update_num = random.randint(0,length-1)\n",
    "#         对神经元更新\n",
    "        next_time_value = np.dot(weight[update_num][:],vector) - theta\n",
    "#         sign激活函数，对更新值取符号\n",
    "        if next_time_value>=0:\n",
    "            vector[update_num] = 1\n",
    "        if next_time_value<0:\n",
    "            vector[update_num] = -1\n",
    "#         记录迭代次数和系统能量变化\n",
    "        times_.append(i)\n",
    "        energy_.append(energy(weight,vector))\n",
    "    \n",
    "    return (vector,times_,energy_)"
   ]
  },
  {
   "cell_type": "markdown",
   "id": "64fb20b9",
   "metadata": {},
   "source": [
    "### 计算系统能量"
   ]
  },
  {
   "cell_type": "code",
   "execution_count": 7,
   "id": "459d6fe4",
   "metadata": {},
   "outputs": [],
   "source": [
    "def energy(weight,x,bias=0):\n",
    "    energy = -x.dot(weight).dot(x.T)+sum(bias*x)\n",
    "    return energy"
   ]
  },
  {
   "cell_type": "markdown",
   "id": "ec6a67ec",
   "metadata": {},
   "source": [
    "## hopfiled主体实现"
   ]
  },
  {
   "cell_type": "code",
   "execution_count": 8,
   "id": "8c0ed087",
   "metadata": {},
   "outputs": [
    {
     "data": {
      "text/plain": [
       "<matplotlib.image.AxesImage at 0x1c649d4a5c0>"
      ]
     },
     "execution_count": 8,
     "metadata": {},
     "output_type": "execute_result"
    },
    {
     "data": {
      "text/plain": [
       "Text(0.5,1,'training picture')"
      ]
     },
     "execution_count": 8,
     "metadata": {},
     "output_type": "execute_result"
    },
    {
     "data": {
      "image/png": "[encoded data removed]",
      "text/plain": [
       "<Figure size 432x288 with 1 Axes>"
      ]
     },
     "metadata": {
      "needs_background": "light"
     },
     "output_type": "display_data"
    },
    {
     "name": "stdout",
     "output_type": "stream",
     "text": [
      "(6400, 6400)\n",
      "[[0. 1. 1. ... 1. 1. 1.]\n",
      " [1. 0. 1. ... 1. 1. 1.]\n",
      " [1. 1. 0. ... 1. 1. 1.]\n",
      " ...\n",
      " [1. 1. 1. ... 0. 1. 1.]\n",
      " [1. 1. 1. ... 1. 0. 1.]\n",
      " [1. 1. 1. ... 1. 1. 0.]]\n"
     ]
    }
   ],
   "source": [
    "size_global =(80,80)\n",
    "threshold_global = 220\n",
    "\n",
    "train_paths = []\n",
    "train_path = \"./training/\"\n",
    "for i in os.listdir(train_path):\n",
    "    if re.match(r'[0-9 a-z A-Z-_]*.jp[e]*g',i):\n",
    "        train_paths.append(train_path+i)\n",
    "flag = 0\n",
    "for path in train_paths:\n",
    "    matrix_train = readImg2array(path,size = size_global,threshold=threshold_global)\n",
    "    vector_train = mat2vec(matrix_train)\n",
    "    plt.imshow(array2img(matrix_train))\n",
    "    plt.title(\"training picture\")\n",
    "    plt.show()\n",
    "    if flag == 0:\n",
    "        w_ = create_W_single_pattern(vector_train)\n",
    "        flag = flag +1\n",
    "    else:\n",
    "        w_ = w_ +create_W_single_pattern(vector_train)\n",
    "        flag = flag +1\n",
    "\n",
    "# 建立权值矩阵\n",
    "w_ = w_/flag\n",
    "print(w_.shape)\n",
    "print(w_)"
   ]
  },
  {
   "cell_type": "code",
   "execution_count": 9,
   "id": "0629991c",
   "metadata": {},
   "outputs": [
    {
     "data": {
      "text/plain": [
       "<matplotlib.axes._subplots.AxesSubplot at 0x1c649cedc50>"
      ]
     },
     "execution_count": 9,
     "metadata": {},
     "output_type": "execute_result"
    },
    {
     "data": {
      "text/plain": [
       "<matplotlib.image.AxesImage at 0x1c649deec18>"
      ]
     },
     "execution_count": 9,
     "metadata": {},
     "output_type": "execute_result"
    },
    {
     "data": {
      "text/plain": [
       "Text(0.5,1,'test picture')"
      ]
     },
     "execution_count": 9,
     "metadata": {},
     "output_type": "execute_result"
    },
    {
     "data": {
      "image/png": "[encoded data removed]",
      "text/plain": [
       "<Figure size 432x288 with 1 Axes>"
      ]
     },
     "metadata": {
      "needs_background": "light"
     },
     "output_type": "display_data"
    }
   ],
   "source": [
    "test_paths = []\n",
    "test_path = \"./test/\"\n",
    "for i in os.listdir(test_path):\n",
    "    if re.match(r'[0-9 a-z A-Z-_]*.jp[e]*g',i):\n",
    "        test_paths.append(test_path+i)\n",
    "num = 0\n",
    "for path in test_paths:\n",
    "    num = num+1\n",
    "    matrix_test = readImg2array(path,size = size_global,threshold=threshold_global)\n",
    "    vector_test = mat2vec(matrix_test)\n",
    "    plt.subplot(221)\n",
    "    plt.imshow(array2img(matrix_test))\n",
    "    plt.title(\"test picture\")"
   ]
  },
  {
   "cell_type": "code",
   "execution_count": 10,
   "id": "65145180",
   "metadata": {},
   "outputs": [
    {
     "data": {
      "text/plain": [
       "<matplotlib.axes._subplots.AxesSubplot at 0x1c64a0f9198>"
      ]
     },
     "execution_count": 10,
     "metadata": {},
     "output_type": "execute_result"
    },
    {
     "data": {
      "text/plain": [
       "<matplotlib.image.AxesImage at 0x1c64a118978>"
      ]
     },
     "execution_count": 10,
     "metadata": {},
     "output_type": "execute_result"
    },
    {
     "data": {
      "text/plain": [
       "Text(0.5,1,'recall1')"
      ]
     },
     "execution_count": 10,
     "metadata": {},
     "output_type": "execute_result"
    },
    {
     "data": {
      "text/plain": [
       "<matplotlib.axes._subplots.AxesSubplot at 0x1c64a118cc0>"
      ]
     },
     "execution_count": 10,
     "metadata": {},
     "output_type": "execute_result"
    },
    {
     "data": {
      "text/plain": [
       "[<matplotlib.lines.Line2D at 0x1c64a118860>]"
      ]
     },
     "execution_count": 10,
     "metadata": {},
     "output_type": "execute_result"
    },
    {
     "data": {
      "text/plain": [
       "Text(0,0.5,'energy')"
      ]
     },
     "execution_count": 10,
     "metadata": {},
     "output_type": "execute_result"
    },
    {
     "data": {
      "text/plain": [
       "Text(0.5,0,'update times')"
      ]
     },
     "execution_count": 10,
     "metadata": {},
     "output_type": "execute_result"
    },
    {
     "data": {
      "image/png": "[encoded data removed]",
      "text/plain": [
       "<Figure size 432x288 with 2 Axes>"
      ]
     },
     "metadata": {
      "needs_background": "light"
     },
     "output_type": "display_data"
    }
   ],
   "source": [
    "oshape = matrix_test.shape\n",
    "aa = update_asynch(weight=w_,vector=vector_test,theta = 0.5 ,times=10000)\n",
    "vector_test_update = aa[0]\n",
    "matrix_test_update = vector_test_update.reshape(oshape)\n",
    "plt.subplot(222)\n",
    "plt.imshow(array2img(matrix_test_update))\n",
    "plt.title(\"recall\"+str(num))\n",
    "\n",
    "#plt.show()\n",
    "plt.subplot(212)\n",
    "plt.plot(aa[1],aa[2])\n",
    "plt.ylabel(\"energy\")\n",
    "plt.xlabel(\"update times\")\n",
    "\n",
    "plt.show()"
   ]
  }
 ],
 "metadata": {
  "kernelspec": {
   "display_name": "Python 3",
   "language": "python",
   "name": "python3"
  },
  "language_info": {
   "codemirror_mode": {
    "name": "ipython",
    "version": 3
   },
   "file_extension": ".py",
   "mimetype": "text/x-python",
   "name": "python",
   "nbconvert_exporter": "python",
   "pygments_lexer": "ipython3",
   "version": "3.6.13"
  }
 },
 "nbformat": 4,
 "nbformat_minor": 5
}
