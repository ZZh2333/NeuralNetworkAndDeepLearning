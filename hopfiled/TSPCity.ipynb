{
 "cells": [
  {
   "cell_type": "markdown",
   "id": "2509dece",
   "metadata": {},
   "source": [
    "# Hopflied神经网络解决TSP问题  \n",
    "TSP问题（Traveling Salesman Problem）即旅行商问题，又译为旅行推销员问题、货郎担问题，是数学领域中著名问题之一。  \n",
    "假设有一个旅行商人要拜访n个城市，他必须选择所要走的路径，路径的限制是每个城市只能拜访一次，而且最后要回到原来出发的城市。路径的选择目标是要求得的路径路程为所有路径之中的最小值。"
   ]
  },
  {
   "cell_type": "markdown",
   "id": "4ff31ec4",
   "metadata": {},
   "source": [
    "# python实现"
   ]
  },
  {
   "cell_type": "code",
   "execution_count": 1,
   "id": "d33604d4",
   "metadata": {},
   "outputs": [],
   "source": [
    "import numpy as np\n",
    "import matplotlib.pyplot as plt\n",
    "import math"
   ]
  },
  {
   "cell_type": "code",
   "execution_count": 2,
   "id": "4717bfdc",
   "metadata": {},
   "outputs": [],
   "source": [
    "# 给定城市位置\n",
    "citys = np.array([[2, 6], [2, 4], [1, 3], [4, 6], [5, 5], [4, 4], [6, 4], [3, 2]])"
   ]
  },
  {
   "cell_type": "markdown",
   "id": "16960f16",
   "metadata": {},
   "source": [
    "## 绘制八座城市地理图"
   ]
  },
  {
   "cell_type": "code",
   "execution_count": 3,
   "id": "ca0f179a",
   "metadata": {},
   "outputs": [
    {
     "data": {
      "image/png": "[encoded data removed]",
      "text/plain": [
       "<Figure size 432x288 with 1 Axes>"
      ]
     },
     "metadata": {
      "needs_background": "light"
     },
     "output_type": "display_data"
    }
   ],
   "source": [
    "for i in range(len(citys)):\n",
    "    plt.scatter(citys[i][0],citys[i][1])\n",
    "plt.grid()"
   ]
  },
  {
   "cell_type": "markdown",
   "id": "1db09cb0",
   "metadata": {},
   "source": [
    "## 构建八座城市之间的距离矩阵Dxy"
   ]
  },
  {
   "cell_type": "markdown",
   "id": "92edde36",
   "metadata": {},
   "source": [
    "### 计算两点之间距离"
   ]
  },
  {
   "cell_type": "code",
   "execution_count": 4,
   "id": "43875bb1",
   "metadata": {},
   "outputs": [],
   "source": [
    "def price_cn(curr_point,other_point):\n",
    "    point = curr_point - other_point\n",
    "    return math.hypot(point[0],point[1])"
   ]
  },
  {
   "cell_type": "markdown",
   "id": "891fbbb8",
   "metadata": {},
   "source": [
    "### 得到城市之间的距离矩阵 "
   ]
  },
  {
   "cell_type": "code",
   "execution_count": 5,
   "id": "3f00bf97",
   "metadata": {},
   "outputs": [],
   "source": [
    "def get_distance(citys):\n",
    "    N = len(citys)\n",
    "    distance = np.zeros((N,N))\n",
    "    for i,curr_point in enumerate(citys):\n",
    "        line = []\n",
    "#         [line.append(price_cn(current_point,other_point)) if i!=j else line.append(0,0) for j,others_point in enumerate(citys)]\n",
    "        [line.append(price_cn(curr_point, other_point)) if i != j else line.append(0.0) for j, other_point in enumerate(citys)]\n",
    "        distance[i] = line\n",
    "    return distance"
   ]
  },
  {
   "cell_type": "markdown",
   "id": "c328d87a",
   "metadata": {},
   "source": [
    "### 利用CHNN动态方程计算输入状态的增量"
   ]
  },
  {
   "cell_type": "code",
   "execution_count": 6,
   "id": "24d6c861",
   "metadata": {},
   "outputs": [],
   "source": [
    "# 动态方程计算微分方程du  \n",
    "def calc_du(V, distance):  \n",
    "    a = np.sum(V, axis=0) - 1  # 按列相加  \n",
    "    b = np.sum(V, axis=1) - 1  # 按行相加  \n",
    "    t1 = np.zeros((N, N))  \n",
    "    t2 = np.zeros((N, N))  \n",
    "    for i in range(N):  \n",
    "        for j in range(N):  \n",
    "            t1[i, j] = a[j]  \n",
    "    for i in range(N):  \n",
    "        for j in range(N):  \n",
    "            t2[j, i] = b[j]  \n",
    "    # 将第一列移动到最后一列  \n",
    "    c_1 = V[:, 1:N]  \n",
    "    c_0 = np.zeros((N, 1))  \n",
    "    c_0[:, 0] = V[:, 0]  \n",
    "    c = np.concatenate((c_1, c_0), axis=1)  \n",
    "    c = np.dot(distance, c)  \n",
    "    return -A * (t1 + t2) - D * c  "
   ]
  },
  {
   "cell_type": "markdown",
   "id": "67cf01c6",
   "metadata": {},
   "source": [
    "### 分别由一阶欧拉方法和sigmoid函数更新神经网络下个时刻的输入和输出状态"
   ]
  },
  {
   "cell_type": "code",
   "execution_count": 7,
   "id": "78edc5cb",
   "metadata": {},
   "outputs": [],
   "source": [
    "# 更新神经网络的输入电压U\n",
    "def calc_U(U, du, step):\n",
    "    return U + du * step\n",
    "# 更新神经网络的输出电压V\n",
    "def calc_V(U, U0):\n",
    "    return 1 / 2 * (1 + np.tanh(U / U0))"
   ]
  },
  {
   "cell_type": "markdown",
   "id": "934c900c",
   "metadata": {},
   "source": [
    "### 计算当前的能量函数E"
   ]
  },
  {
   "cell_type": "code",
   "execution_count": 8,
   "id": "51a65ef2",
   "metadata": {},
   "outputs": [],
   "source": [
    "def calc_energy(V, distance):\n",
    "    t1 = np.sum(np.power(np.sum(V, axis=0) - 1, 2))\n",
    "    t2 = np.sum(np.power(np.sum(V, axis=1) - 1, 2))\n",
    "    idx = [i for i in range(1, N)]\n",
    "    idx = idx + [0]\n",
    "    Vt = V[:, idx]\n",
    "    t3 = distance * Vt\n",
    "    t3 = np.sum(np.sum(np.multiply(V, t3)))\n",
    "    e = 0.5 * (A * (t1 + t2) + D * t3)\n",
    "    return e"
   ]
  },
  {
   "cell_type": "markdown",
   "id": "a106c9ab",
   "metadata": {},
   "source": [
    "### 检查当前神经网络的输出状态集合，是否满足TSP置换矩阵的规则"
   ]
  },
  {
   "cell_type": "code",
   "execution_count": 9,
   "id": "dda81717",
   "metadata": {},
   "outputs": [],
   "source": [
    "# 检查路径的正确性\n",
    "def check_path(V):\n",
    "    newV = np.zeros([N, N])\n",
    "    route = []\n",
    "    for i in range(N):\n",
    "        mm = np.max(V[:, i])\n",
    "        for j in range(N):\n",
    "            if V[j, i] == mm:\n",
    "                newV[j, i] = 1\n",
    "                route += [j]\n",
    "                break\n",
    "    return route, newV"
   ]
  },
  {
   "cell_type": "markdown",
   "id": "4f09f9ab",
   "metadata": {},
   "source": [
    "### 网络代码实现"
   ]
  },
  {
   "cell_type": "code",
   "execution_count": 12,
   "id": "8fbcbf52",
   "metadata": {},
   "outputs": [
    {
     "name": "stdout",
     "output_type": "stream",
     "text": [
      "1\n",
      "8\n"
     ]
    },
    {
     "ename": "NameError",
     "evalue": "name 'calc_distance' is not defined",
     "output_type": "error",
     "traceback": [
      "\u001b[1;31m---------------------------------------------------------------------------\u001b[0m",
      "\u001b[1;31mNameError\u001b[0m                                 Traceback (most recent call last)",
      "\u001b[1;32m<ipython-input-12-b02c84ffb7c8>\u001b[0m in \u001b[0;36m<module>\u001b[1;34m\u001b[0m\n\u001b[0;32m     29\u001b[0m     \u001b[1;32mif\u001b[0m \u001b[0mlen\u001b[0m\u001b[1;33m(\u001b[0m\u001b[0mnp\u001b[0m\u001b[1;33m.\u001b[0m\u001b[0munique\u001b[0m\u001b[1;33m(\u001b[0m\u001b[0mroute\u001b[0m\u001b[1;33m)\u001b[0m\u001b[1;33m)\u001b[0m \u001b[1;33m==\u001b[0m \u001b[1;36m1\u001b[0m\u001b[1;33m:\u001b[0m\u001b[1;33m\u001b[0m\u001b[1;33m\u001b[0m\u001b[0m\n\u001b[0;32m     30\u001b[0m         \u001b[0mroute\u001b[0m\u001b[1;33m.\u001b[0m\u001b[0mappend\u001b[0m\u001b[1;33m(\u001b[0m\u001b[0mroute\u001b[0m\u001b[1;33m[\u001b[0m\u001b[1;36m0\u001b[0m\u001b[1;33m]\u001b[0m\u001b[1;33m)\u001b[0m\u001b[1;33m\u001b[0m\u001b[1;33m\u001b[0m\u001b[0m\n\u001b[1;32m---> 31\u001b[1;33m         \u001b[0mdis\u001b[0m \u001b[1;33m=\u001b[0m \u001b[0mcalc_distance\u001b[0m\u001b[1;33m(\u001b[0m\u001b[0mroute\u001b[0m\u001b[1;33m)\u001b[0m\u001b[1;33m\u001b[0m\u001b[1;33m\u001b[0m\u001b[0m\n\u001b[0m\u001b[0;32m     32\u001b[0m         \u001b[1;32mif\u001b[0m \u001b[0mdis\u001b[0m \u001b[1;33m<\u001b[0m \u001b[0mbest_distance\u001b[0m\u001b[1;33m:\u001b[0m\u001b[1;33m\u001b[0m\u001b[1;33m\u001b[0m\u001b[0m\n\u001b[0;32m     33\u001b[0m             \u001b[0mH_path\u001b[0m \u001b[1;33m=\u001b[0m \u001b[1;33m[\u001b[0m\u001b[1;33m]\u001b[0m\u001b[1;33m\u001b[0m\u001b[1;33m\u001b[0m\u001b[0m\n",
      "\u001b[1;31mNameError\u001b[0m: name 'calc_distance' is not defined"
     ]
    }
   ],
   "source": [
    "n = 0\n",
    "N = len(citys)\n",
    "# 设置初始值\n",
    "A = N * N\n",
    "D = N / 2\n",
    "U0 = 0.0009  # 初始电压\n",
    "step = 0.0001  # 步长\n",
    "num_iter = 10000  # 迭代次数\n",
    "\n",
    "U = np.zeros((N,N))\n",
    "V = np.zeros((N,N))\n",
    "energys = np.zeros(num_iter)\n",
    "\n",
    "distance = get_distance(citys)\n",
    "# 开始迭代训练网络\n",
    "while n < num_iter:\n",
    "#     利用动态方程计算du\n",
    "    du = calc_du(V, distance)\n",
    "    #更新下个时间的输入状态（电路的输入电压U）\n",
    "    U = calc_U(U, du, step)\n",
    "    #更新下个时间的输出状态（电路的输出电压V）\n",
    "    V = calc_V(U, U0)\n",
    "    # 计算当前网络的能量E\n",
    "    energys[n] = calc_energy(V, distance)\n",
    "    # 检查路径的合法性\n",
    "    route, newV = check_path(V)\n",
    "    if len(np.unique(route)) == N:\n",
    "        route.append(route[0])\n",
    "        dis = calc_distance(route)\n",
    "        if dis < best_distance:\n",
    "            H_path = []\n",
    "            best_distance = dis\n",
    "            best_route = route\n",
    "            [H_path.append((route[i], route[i + 1])) for i in range(len(route) - 1)]\n",
    "            print('第{}次迭代找到的次优解距离为：{}，能量为：{}，路径为：'.format(n, best_distance, energys[n]))\n",
    "            [print(chr(97 + v), end=',' if i < len(best_route) - 1 else '\\n') for i, v in enumerate(best_route)]\n",
    "    n = n + 1"
   ]
  },
  {
   "cell_type": "code",
   "execution_count": null,
   "id": "a163b42b",
   "metadata": {},
   "outputs": [],
   "source": []
  }
 ],
 "metadata": {
  "kernelspec": {
   "display_name": "Python 3",
   "language": "python",
   "name": "python3"
  },
  "language_info": {
   "codemirror_mode": {
    "name": "ipython",
    "version": 3
   },
   "file_extension": ".py",
   "mimetype": "text/x-python",
   "name": "python",
   "nbconvert_exporter": "python",
   "pygments_lexer": "ipython3",
   "version": "3.6.13"
  }
 },
 "nbformat": 4,
 "nbformat_minor": 5
}
