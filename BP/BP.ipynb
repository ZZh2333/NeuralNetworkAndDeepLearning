{
 "cells": [
  {
   "cell_type": "markdown",
   "id": "9909c3c7",
   "metadata": {},
   "source": [
    "# 三层BP神经网络实现鲍鱼年龄预测"
   ]
  },
  {
   "cell_type": "markdown",
   "id": "a7296200",
   "metadata": {},
   "source": [
    "### 小组成员：温紫珺、谭力仁、沈旭阳、邹子涵"
   ]
  },
  {
   "cell_type": "markdown",
   "id": "7742a44e",
   "metadata": {},
   "source": [
    "## 导包"
   ]
  },
  {
   "cell_type": "code",
   "execution_count": 1,
   "id": "985f29e5",
   "metadata": {},
   "outputs": [],
   "source": [
    "import pandas as pd\n",
    "import matplotlib.pyplot as plt\n",
    "from sklearn.model_selection import train_test_split\n",
    "import numpy as np\n",
    "import math"
   ]
  },
  {
   "cell_type": "markdown",
   "id": "1c7e12bc",
   "metadata": {},
   "source": [
    "### 数据集解释以及读取"
   ]
  },
  {
   "cell_type": "markdown",
   "id": "5a729a1e",
   "metadata": {},
   "source": [
    "数据集来源：UCI数据集库：https://archive.ics.uci.edu/ml/index.php  \n",
    "\n",
    "名称/数据类型/度量单位/描述  \n",
    "-----------------------------  \n",
    "性别/名义/-/ M，F和I（婴儿）  \n",
    "长度/连续/毫米/最长的外壳尺寸  \n",
    "直径/连续/毫米/垂直于长度  \n",
    "高度/连续/毫米/带有外壳的肉总  \n",
    "重/连续/克/整个鲍鱼  \n",
    "剥皮重量/连续/克/重量肉  \n",
    "内脏重量/连续/克/肠重量（出血后）  \n",
    "蛋壳重量/连续/克/干后  \n",
    "环/整数/-/ +1.5给出年龄（以年为单位）  "
   ]
  },
  {
   "cell_type": "code",
   "execution_count": 2,
   "id": "25fb2332",
   "metadata": {},
   "outputs": [],
   "source": [
    "data = pd.read_csv('abalone.data',header=None,names=['sex','length','diameter','height','wholeweight','shuckedweight','visceraweight','shellweight','rings'])"
   ]
  },
  {
   "cell_type": "code",
   "execution_count": 3,
   "id": "daa66bca",
   "metadata": {},
   "outputs": [
    {
     "data": {
      "text/html": [
       "<div>\n",
       "<style scoped>\n",
       "    .dataframe tbody tr th:only-of-type {\n",
       "        vertical-align: middle;\n",
       "    }\n",
       "\n",
       "    .dataframe tbody tr th {\n",
       "        vertical-align: top;\n",
       "    }\n",
       "\n",
       "    .dataframe thead th {\n",
       "        text-align: right;\n",
       "    }\n",
       "</style>\n",
       "<table border=\"1\" class=\"dataframe\">\n",
       "  <thead>\n",
       "    <tr style=\"text-align: right;\">\n",
       "      <th></th>\n",
       "      <th>sex</th>\n",
       "      <th>length</th>\n",
       "      <th>diameter</th>\n",
       "      <th>height</th>\n",
       "      <th>wholeweight</th>\n",
       "      <th>shuckedweight</th>\n",
       "      <th>visceraweight</th>\n",
       "      <th>shellweight</th>\n",
       "      <th>rings</th>\n",
       "    </tr>\n",
       "  </thead>\n",
       "  <tbody>\n",
       "    <tr>\n",
       "      <th>0</th>\n",
       "      <td>M</td>\n",
       "      <td>0.455</td>\n",
       "      <td>0.365</td>\n",
       "      <td>0.095</td>\n",
       "      <td>0.5140</td>\n",
       "      <td>0.2245</td>\n",
       "      <td>0.1010</td>\n",
       "      <td>0.1500</td>\n",
       "      <td>15</td>\n",
       "    </tr>\n",
       "    <tr>\n",
       "      <th>1</th>\n",
       "      <td>M</td>\n",
       "      <td>0.350</td>\n",
       "      <td>0.265</td>\n",
       "      <td>0.090</td>\n",
       "      <td>0.2255</td>\n",
       "      <td>0.0995</td>\n",
       "      <td>0.0485</td>\n",
       "      <td>0.0700</td>\n",
       "      <td>7</td>\n",
       "    </tr>\n",
       "    <tr>\n",
       "      <th>2</th>\n",
       "      <td>F</td>\n",
       "      <td>0.530</td>\n",
       "      <td>0.420</td>\n",
       "      <td>0.135</td>\n",
       "      <td>0.6770</td>\n",
       "      <td>0.2565</td>\n",
       "      <td>0.1415</td>\n",
       "      <td>0.2100</td>\n",
       "      <td>9</td>\n",
       "    </tr>\n",
       "    <tr>\n",
       "      <th>3</th>\n",
       "      <td>M</td>\n",
       "      <td>0.440</td>\n",
       "      <td>0.365</td>\n",
       "      <td>0.125</td>\n",
       "      <td>0.5160</td>\n",
       "      <td>0.2155</td>\n",
       "      <td>0.1140</td>\n",
       "      <td>0.1550</td>\n",
       "      <td>10</td>\n",
       "    </tr>\n",
       "    <tr>\n",
       "      <th>4</th>\n",
       "      <td>I</td>\n",
       "      <td>0.330</td>\n",
       "      <td>0.255</td>\n",
       "      <td>0.080</td>\n",
       "      <td>0.2050</td>\n",
       "      <td>0.0895</td>\n",
       "      <td>0.0395</td>\n",
       "      <td>0.0550</td>\n",
       "      <td>7</td>\n",
       "    </tr>\n",
       "    <tr>\n",
       "      <th>...</th>\n",
       "      <td>...</td>\n",
       "      <td>...</td>\n",
       "      <td>...</td>\n",
       "      <td>...</td>\n",
       "      <td>...</td>\n",
       "      <td>...</td>\n",
       "      <td>...</td>\n",
       "      <td>...</td>\n",
       "      <td>...</td>\n",
       "    </tr>\n",
       "    <tr>\n",
       "      <th>4172</th>\n",
       "      <td>F</td>\n",
       "      <td>0.565</td>\n",
       "      <td>0.450</td>\n",
       "      <td>0.165</td>\n",
       "      <td>0.8870</td>\n",
       "      <td>0.3700</td>\n",
       "      <td>0.2390</td>\n",
       "      <td>0.2490</td>\n",
       "      <td>11</td>\n",
       "    </tr>\n",
       "    <tr>\n",
       "      <th>4173</th>\n",
       "      <td>M</td>\n",
       "      <td>0.590</td>\n",
       "      <td>0.440</td>\n",
       "      <td>0.135</td>\n",
       "      <td>0.9660</td>\n",
       "      <td>0.4390</td>\n",
       "      <td>0.2145</td>\n",
       "      <td>0.2605</td>\n",
       "      <td>10</td>\n",
       "    </tr>\n",
       "    <tr>\n",
       "      <th>4174</th>\n",
       "      <td>M</td>\n",
       "      <td>0.600</td>\n",
       "      <td>0.475</td>\n",
       "      <td>0.205</td>\n",
       "      <td>1.1760</td>\n",
       "      <td>0.5255</td>\n",
       "      <td>0.2875</td>\n",
       "      <td>0.3080</td>\n",
       "      <td>9</td>\n",
       "    </tr>\n",
       "    <tr>\n",
       "      <th>4175</th>\n",
       "      <td>F</td>\n",
       "      <td>0.625</td>\n",
       "      <td>0.485</td>\n",
       "      <td>0.150</td>\n",
       "      <td>1.0945</td>\n",
       "      <td>0.5310</td>\n",
       "      <td>0.2610</td>\n",
       "      <td>0.2960</td>\n",
       "      <td>10</td>\n",
       "    </tr>\n",
       "    <tr>\n",
       "      <th>4176</th>\n",
       "      <td>M</td>\n",
       "      <td>0.710</td>\n",
       "      <td>0.555</td>\n",
       "      <td>0.195</td>\n",
       "      <td>1.9485</td>\n",
       "      <td>0.9455</td>\n",
       "      <td>0.3765</td>\n",
       "      <td>0.4950</td>\n",
       "      <td>12</td>\n",
       "    </tr>\n",
       "  </tbody>\n",
       "</table>\n",
       "<p>4177 rows × 9 columns</p>\n",
       "</div>"
      ],
      "text/plain": [
       "     sex  length  diameter  height  wholeweight  shuckedweight  visceraweight  \\\n",
       "0      M   0.455     0.365   0.095       0.5140         0.2245         0.1010   \n",
       "1      M   0.350     0.265   0.090       0.2255         0.0995         0.0485   \n",
       "2      F   0.530     0.420   0.135       0.6770         0.2565         0.1415   \n",
       "3      M   0.440     0.365   0.125       0.5160         0.2155         0.1140   \n",
       "4      I   0.330     0.255   0.080       0.2050         0.0895         0.0395   \n",
       "...   ..     ...       ...     ...          ...            ...            ...   \n",
       "4172   F   0.565     0.450   0.165       0.8870         0.3700         0.2390   \n",
       "4173   M   0.590     0.440   0.135       0.9660         0.4390         0.2145   \n",
       "4174   M   0.600     0.475   0.205       1.1760         0.5255         0.2875   \n",
       "4175   F   0.625     0.485   0.150       1.0945         0.5310         0.2610   \n",
       "4176   M   0.710     0.555   0.195       1.9485         0.9455         0.3765   \n",
       "\n",
       "      shellweight  rings  \n",
       "0          0.1500     15  \n",
       "1          0.0700      7  \n",
       "2          0.2100      9  \n",
       "3          0.1550     10  \n",
       "4          0.0550      7  \n",
       "...           ...    ...  \n",
       "4172       0.2490     11  \n",
       "4173       0.2605     10  \n",
       "4174       0.3080      9  \n",
       "4175       0.2960     10  \n",
       "4176       0.4950     12  \n",
       "\n",
       "[4177 rows x 9 columns]"
      ]
     },
     "execution_count": 3,
     "metadata": {},
     "output_type": "execute_result"
    }
   ],
   "source": [
    "data"
   ]
  },
  {
   "cell_type": "code",
   "execution_count": 4,
   "id": "ee32d69e",
   "metadata": {},
   "outputs": [
    {
     "data": {
      "text/plain": [
       "M    1528\n",
       "I    1342\n",
       "F    1307\n",
       "Name: sex, dtype: int64"
      ]
     },
     "execution_count": 4,
     "metadata": {},
     "output_type": "execute_result"
    }
   ],
   "source": [
    "data.iloc[:,0].value_counts()"
   ]
  },
  {
   "cell_type": "code",
   "execution_count": 5,
   "id": "3bca55f6",
   "metadata": {},
   "outputs": [],
   "source": [
    "data.loc[(data['sex']=='F'),'sex'] = 0\n",
    "data.loc[(data['sex']=='M'),'sex'] = 1\n",
    "data.loc[(data['sex']=='I'),'sex'] = 2"
   ]
  },
  {
   "cell_type": "code",
   "execution_count": 6,
   "id": "c17d63d3",
   "metadata": {},
   "outputs": [],
   "source": [
    "data = data.astype('float64')"
   ]
  },
  {
   "cell_type": "code",
   "execution_count": 7,
   "id": "14422df9",
   "metadata": {},
   "outputs": [
    {
     "data": {
      "text/plain": [
       "<matplotlib.collections.PathCollection at 0x1e48d305860>"
      ]
     },
     "execution_count": 7,
     "metadata": {},
     "output_type": "execute_result"
    },
    {
     "data": {
      "image/png": "[encoded data removed]",
      "text/plain": [
       "<Figure size 750x750 with 7 Axes>"
      ]
     },
     "metadata": {
      "needs_background": "light"
     },
     "output_type": "display_data"
    }
   ],
   "source": [
    "p = plt.figure(figsize=(10,10),dpi=75)\n",
    "p.add_subplot(3,3,1)\n",
    "plt.scatter(data.length,data.rings)\n",
    "p.add_subplot(3,3,2)\n",
    "plt.scatter(data.diameter,data.rings)\n",
    "p.add_subplot(3,3,3)\n",
    "plt.scatter(data.height,data.rings)\n",
    "p.add_subplot(3,3,4)\n",
    "plt.scatter(data.wholeweight,data.rings)\n",
    "p.add_subplot(3,3,5)\n",
    "plt.scatter(data.shuckedweight,data.rings)\n",
    "p.add_subplot(3,3,6)\n",
    "plt.scatter(data.visceraweight,data.rings)\n",
    "p.add_subplot(3,3,7)\n",
    "plt.scatter(data.shellweight,data.rings)"
   ]
  },
  {
   "cell_type": "code",
   "execution_count": 8,
   "id": "ccf19a73",
   "metadata": {},
   "outputs": [],
   "source": [
    "data_feature = data.iloc[:,:-1]\n",
    "data_label = data.iloc[:,-1]"
   ]
  },
  {
   "cell_type": "code",
   "execution_count": 9,
   "id": "ff26697f",
   "metadata": {},
   "outputs": [],
   "source": [
    "train_feature,test_feature,train_label,test_label = train_test_split(data_feature,data_label,test_size=0.2,random_state=0)"
   ]
  },
  {
   "cell_type": "code",
   "execution_count": 10,
   "id": "908196bc",
   "metadata": {},
   "outputs": [
    {
     "data": {
      "text/html": [
       "<div>\n",
       "<style scoped>\n",
       "    .dataframe tbody tr th:only-of-type {\n",
       "        vertical-align: middle;\n",
       "    }\n",
       "\n",
       "    .dataframe tbody tr th {\n",
       "        vertical-align: top;\n",
       "    }\n",
       "\n",
       "    .dataframe thead th {\n",
       "        text-align: right;\n",
       "    }\n",
       "</style>\n",
       "<table border=\"1\" class=\"dataframe\">\n",
       "  <thead>\n",
       "    <tr style=\"text-align: right;\">\n",
       "      <th></th>\n",
       "      <th>sex</th>\n",
       "      <th>length</th>\n",
       "      <th>diameter</th>\n",
       "      <th>height</th>\n",
       "      <th>wholeweight</th>\n",
       "      <th>shuckedweight</th>\n",
       "      <th>visceraweight</th>\n",
       "      <th>shellweight</th>\n",
       "    </tr>\n",
       "  </thead>\n",
       "  <tbody>\n",
       "    <tr>\n",
       "      <th>3141</th>\n",
       "      <td>2.0</td>\n",
       "      <td>0.180</td>\n",
       "      <td>0.135</td>\n",
       "      <td>0.080</td>\n",
       "      <td>0.0330</td>\n",
       "      <td>0.0145</td>\n",
       "      <td>0.0070</td>\n",
       "      <td>0.0100</td>\n",
       "    </tr>\n",
       "    <tr>\n",
       "      <th>3521</th>\n",
       "      <td>2.0</td>\n",
       "      <td>0.215</td>\n",
       "      <td>0.150</td>\n",
       "      <td>0.055</td>\n",
       "      <td>0.0410</td>\n",
       "      <td>0.0150</td>\n",
       "      <td>0.0090</td>\n",
       "      <td>0.0125</td>\n",
       "    </tr>\n",
       "    <tr>\n",
       "      <th>883</th>\n",
       "      <td>1.0</td>\n",
       "      <td>0.660</td>\n",
       "      <td>0.530</td>\n",
       "      <td>0.170</td>\n",
       "      <td>1.3905</td>\n",
       "      <td>0.5905</td>\n",
       "      <td>0.2120</td>\n",
       "      <td>0.4530</td>\n",
       "    </tr>\n",
       "    <tr>\n",
       "      <th>3627</th>\n",
       "      <td>1.0</td>\n",
       "      <td>0.715</td>\n",
       "      <td>0.525</td>\n",
       "      <td>0.200</td>\n",
       "      <td>1.8900</td>\n",
       "      <td>0.9500</td>\n",
       "      <td>0.4360</td>\n",
       "      <td>0.4305</td>\n",
       "    </tr>\n",
       "    <tr>\n",
       "      <th>2106</th>\n",
       "      <td>1.0</td>\n",
       "      <td>0.595</td>\n",
       "      <td>0.455</td>\n",
       "      <td>0.155</td>\n",
       "      <td>1.0410</td>\n",
       "      <td>0.4160</td>\n",
       "      <td>0.2105</td>\n",
       "      <td>0.3650</td>\n",
       "    </tr>\n",
       "  </tbody>\n",
       "</table>\n",
       "</div>"
      ],
      "text/plain": [
       "      sex  length  diameter  height  wholeweight  shuckedweight  \\\n",
       "3141  2.0   0.180     0.135   0.080       0.0330         0.0145   \n",
       "3521  2.0   0.215     0.150   0.055       0.0410         0.0150   \n",
       "883   1.0   0.660     0.530   0.170       1.3905         0.5905   \n",
       "3627  1.0   0.715     0.525   0.200       1.8900         0.9500   \n",
       "2106  1.0   0.595     0.455   0.155       1.0410         0.4160   \n",
       "\n",
       "      visceraweight  shellweight  \n",
       "3141         0.0070       0.0100  \n",
       "3521         0.0090       0.0125  \n",
       "883          0.2120       0.4530  \n",
       "3627         0.4360       0.4305  \n",
       "2106         0.2105       0.3650  "
      ]
     },
     "execution_count": 10,
     "metadata": {},
     "output_type": "execute_result"
    }
   ],
   "source": [
    "train_feature.head()"
   ]
  },
  {
   "cell_type": "code",
   "execution_count": 11,
   "id": "3f0905d0",
   "metadata": {},
   "outputs": [
    {
     "data": {
      "text/plain": [
       "3141     5.0\n",
       "3521     3.0\n",
       "883     15.0\n",
       "3627    10.0\n",
       "2106    14.0\n",
       "Name: rings, dtype: float64"
      ]
     },
     "execution_count": 11,
     "metadata": {},
     "output_type": "execute_result"
    }
   ],
   "source": [
    "train_label.head()"
   ]
  },
  {
   "cell_type": "code",
   "execution_count": 12,
   "id": "ecde819a",
   "metadata": {},
   "outputs": [],
   "source": [
    "train_feature = train_feature.values\n",
    "train_label = train_label.values\n",
    "test_feature = test_feature.values\n",
    "test_label = test_label.values"
   ]
  },
  {
   "cell_type": "code",
   "execution_count": 13,
   "id": "0c8795a7",
   "metadata": {},
   "outputs": [
    {
     "data": {
      "text/plain": [
       "array([[2.    , 0.18  , 0.135 , ..., 0.0145, 0.007 , 0.01  ],\n",
       "       [2.    , 0.215 , 0.15  , ..., 0.015 , 0.009 , 0.0125],\n",
       "       [1.    , 0.66  , 0.53  , ..., 0.5905, 0.212 , 0.453 ],\n",
       "       ...,\n",
       "       [1.    , 0.595 , 0.45  , ..., 0.463 , 0.2065, 0.2535],\n",
       "       [0.    , 0.625 , 0.49  , ..., 0.477 , 0.2365, 0.3185],\n",
       "       [2.    , 0.41  , 0.325 , ..., 0.1325, 0.075 , 0.101 ]])"
      ]
     },
     "execution_count": 13,
     "metadata": {},
     "output_type": "execute_result"
    }
   ],
   "source": [
    "train_feature"
   ]
  },
  {
   "cell_type": "code",
   "execution_count": 14,
   "id": "720ba62f",
   "metadata": {},
   "outputs": [
    {
     "data": {
      "text/plain": [
       "3.0"
      ]
     },
     "execution_count": 14,
     "metadata": {},
     "output_type": "execute_result"
    }
   ],
   "source": [
    "train_label[1]"
   ]
  },
  {
   "cell_type": "markdown",
   "id": "f28af496",
   "metadata": {},
   "source": [
    "## 三层BP神经网络"
   ]
  },
  {
   "cell_type": "code",
   "execution_count": 15,
   "id": "1f363ef2",
   "metadata": {},
   "outputs": [],
   "source": [
    "# 生成大小为I*J的随机数矩阵，用于构建权重\n",
    "def makeArray(I,J):\n",
    "    m = []\n",
    "    for i in range(I):\n",
    "        fill = np.random.uniform(0,1,J).tolist()\n",
    "        m.append(fill)\n",
    "    return m"
   ]
  },
  {
   "cell_type": "code",
   "execution_count": 16,
   "id": "a71b1799",
   "metadata": {},
   "outputs": [],
   "source": [
    "# 结点的激活函数sigmoid\n",
    "def sigmoid(x):\n",
    "    return 1.0 / (1.0 + math.exp(-x))"
   ]
  },
  {
   "cell_type": "code",
   "execution_count": 17,
   "id": "09135ae3",
   "metadata": {},
   "outputs": [],
   "source": [
    "# sigmoid的导函数\n",
    "def dsigmoid(x):\n",
    "    return x * (1-x)"
   ]
  },
  {
   "cell_type": "code",
   "execution_count": 18,
   "id": "f8c28ec6",
   "metadata": {},
   "outputs": [],
   "source": [
    "class BPNN:\n",
    "#     三层反向传播神经网络\n",
    "\n",
    "    def  __init__(self,ni,nh,no):\n",
    "#         定义神经网络结点个数，输入层和隐藏层增加偏置结点\n",
    "        self.ni = ni + 1\n",
    "        self.nh = nh + 1\n",
    "        self.no = no\n",
    "        \n",
    "#         激活神经网络的所有结点（向量）\n",
    "        self.ai = [1.0] * self.ni\n",
    "        self.ah = [1.0] * self.nh\n",
    "        self.ao = [1.0] * self.no\n",
    "        \n",
    "#         建立权重\n",
    "        self.wi = makeArray(self.ni,self.nh)\n",
    "        self.wo = makeArray(self.nh,self.no)\n",
    "        \n",
    "        \n",
    "#     正向传播\n",
    "    def update(self,inputs):\n",
    "            \n",
    "#         激活输入层\n",
    "        for i in range(self.ni - 1):\n",
    "            self.ai[i] = inputs[i]\n",
    "        \n",
    "#         激活隐藏层\n",
    "        for j in range(self.nh):\n",
    "            sum = 0.0\n",
    "            for i in range(self.ni):\n",
    "                sum = sum + self.ai[i] * self.wi[i][j]\n",
    "            self.ah[j] = sigmoid(sum)\n",
    "            \n",
    "#         激活输出层\n",
    "        for k in range(self.no):\n",
    "            sum = 0.0\n",
    "            for j in range(self.nh):\n",
    "                sum = sum + self.ah[j] * self.wo[j][k]\n",
    "            self.ao[k] = sum\n",
    "            \n",
    "        return self.ao[:]\n",
    "    \n",
    "#     反向传播\n",
    "    def backPropagate(self,targets,lr):\n",
    "#         计算输出层的误差\n",
    "        output_deltas = [0.0] * self.no\n",
    "        for k in range(self.no):\n",
    "            error = targets - self.ao\n",
    "            output_deltas[k] = dsigmoid(self.ao[k]) * error\n",
    "            \n",
    "#         计算隐藏层的误差\n",
    "        hidden_deltas = [0.0] * self.nh\n",
    "        for j in range(self.nh):\n",
    "            error = 0.0\n",
    "            for k in range(self.no):\n",
    "                error = error + output_deltas[k] * self.wo[j][k]\n",
    "            hidden_deltas[j] = dsigmoid(self.ah[j]) * error\n",
    "            \n",
    "#         更新输出层权重\n",
    "        for j in range(self.nh):\n",
    "            for k in range(self.no):\n",
    "                change = output_deltas[k] * self.ah[j]\n",
    "                self.wo[j][k] = self.wo[j][k] + lr * change\n",
    "                \n",
    "#         更新输入层权重\n",
    "        for i in range(self.ni):\n",
    "            for j in range(self.nh):\n",
    "                change = hidden_deltas[j] * self.ai[i]\n",
    "                self.wi[i][j] = self.wi[i][j] + lr * change\n",
    "                \n",
    "#         计算误差\n",
    "        error = 0.0\n",
    "        error += 0.5 * (targets - self.ao) ** 2\n",
    "        return error\n",
    "    \n",
    "    def test(self,feature,label):\n",
    "        count = 0\n",
    "        for p in range(len(feature)):\n",
    "            target = label[p]\n",
    "            result = self.update(feature[p])\n",
    "            print('真实值',target,'->预测值',index)\n",
    "        \n",
    "    def weights(self):\n",
    "        print('输入层权重：')\n",
    "        for i in range(self.ni):\n",
    "            print(self.wi[i])\n",
    "        print()\n",
    "        print('隐藏层权重：')\n",
    "        for j in range(self.nh):\n",
    "            print(self.wo[j])\n",
    "            \n",
    "    def train(self,feature,label,iterations = 1000,lr = 0.1):\n",
    "        for i in range(iterations):\n",
    "            error = 0.0\n",
    "            for p in range(len(feature)):\n",
    "                inputs = feature[p]\n",
    "                targets = label[p]\n",
    "                self.update(inputs)\n",
    "                error = error + self.backPropagate(targets,lr)\n",
    "            if i % 10 == 0:\n",
    "                print('error: %-.9f' % error)"
   ]
  },
  {
   "cell_type": "code",
   "execution_count": 19,
   "id": "e54d2bab",
   "metadata": {},
   "outputs": [
    {
     "name": "stderr",
     "output_type": "stream",
     "text": [
      "E:\\anaconda\\anaconda\\envs\\class_NetWork\\lib\\site-packages\\ipykernel_launcher.py:3: RuntimeWarning: overflow encountered in multiply\n",
      "  This is separate from the ipykernel package so we can avoid doing imports until\n",
      "E:\\anaconda\\anaconda\\envs\\class_NetWork\\lib\\site-packages\\ipykernel_launcher.py:57: RuntimeWarning: invalid value encountered in multiply\n",
      "E:\\anaconda\\anaconda\\envs\\class_NetWork\\lib\\site-packages\\ipykernel_launcher.py:73: RuntimeWarning: overflow encountered in square\n"
     ]
    },
    {
     "name": "stdout",
     "output_type": "stream",
     "text": [
      "error: nan\n"
     ]
    },
    {
     "ename": "KeyboardInterrupt",
     "evalue": "",
     "output_type": "error",
     "traceback": [
      "\u001b[1;31m---------------------------------------------------------------------------\u001b[0m",
      "\u001b[1;31mKeyboardInterrupt\u001b[0m                         Traceback (most recent call last)",
      "\u001b[1;32m<ipython-input-19-c6132fb5a67e>\u001b[0m in \u001b[0;36m<module>\u001b[1;34m\u001b[0m\n\u001b[0;32m      1\u001b[0m \u001b[0mnn\u001b[0m \u001b[1;33m=\u001b[0m \u001b[0mBPNN\u001b[0m\u001b[1;33m(\u001b[0m\u001b[1;36m8\u001b[0m\u001b[1;33m,\u001b[0m\u001b[1;36m10\u001b[0m\u001b[1;33m,\u001b[0m\u001b[1;36m1\u001b[0m\u001b[1;33m)\u001b[0m\u001b[1;33m\u001b[0m\u001b[1;33m\u001b[0m\u001b[0m\n\u001b[1;32m----> 2\u001b[1;33m \u001b[0mnn\u001b[0m\u001b[1;33m.\u001b[0m\u001b[0mtrain\u001b[0m\u001b[1;33m(\u001b[0m\u001b[0mtrain_feature\u001b[0m\u001b[1;33m,\u001b[0m\u001b[0mtrain_label\u001b[0m\u001b[1;33m,\u001b[0m\u001b[0miterations\u001b[0m\u001b[1;33m=\u001b[0m\u001b[1;36m500\u001b[0m\u001b[1;33m)\u001b[0m\u001b[1;33m\u001b[0m\u001b[1;33m\u001b[0m\u001b[0m\n\u001b[0m\u001b[0;32m      3\u001b[0m \u001b[0mnn\u001b[0m\u001b[1;33m.\u001b[0m\u001b[0mtest\u001b[0m\u001b[1;33m(\u001b[0m\u001b[0mtest_feature\u001b[0m\u001b[1;33m,\u001b[0m\u001b[0mtest_label\u001b[0m\u001b[1;33m)\u001b[0m\u001b[1;33m\u001b[0m\u001b[1;33m\u001b[0m\u001b[0m\n",
      "\u001b[1;32m<ipython-input-18-735f9bda6c61>\u001b[0m in \u001b[0;36mtrain\u001b[1;34m(self, feature, label, iterations, lr)\u001b[0m\n\u001b[0;32m     97\u001b[0m                 \u001b[0mtargets\u001b[0m \u001b[1;33m=\u001b[0m \u001b[0mlabel\u001b[0m\u001b[1;33m[\u001b[0m\u001b[0mp\u001b[0m\u001b[1;33m]\u001b[0m\u001b[1;33m\u001b[0m\u001b[1;33m\u001b[0m\u001b[0m\n\u001b[0;32m     98\u001b[0m                 \u001b[0mself\u001b[0m\u001b[1;33m.\u001b[0m\u001b[0mupdate\u001b[0m\u001b[1;33m(\u001b[0m\u001b[0minputs\u001b[0m\u001b[1;33m)\u001b[0m\u001b[1;33m\u001b[0m\u001b[1;33m\u001b[0m\u001b[0m\n\u001b[1;32m---> 99\u001b[1;33m                 \u001b[0merror\u001b[0m \u001b[1;33m=\u001b[0m \u001b[0merror\u001b[0m \u001b[1;33m+\u001b[0m \u001b[0mself\u001b[0m\u001b[1;33m.\u001b[0m\u001b[0mbackPropagate\u001b[0m\u001b[1;33m(\u001b[0m\u001b[0mtargets\u001b[0m\u001b[1;33m,\u001b[0m\u001b[0mlr\u001b[0m\u001b[1;33m)\u001b[0m\u001b[1;33m\u001b[0m\u001b[1;33m\u001b[0m\u001b[0m\n\u001b[0m\u001b[0;32m    100\u001b[0m             \u001b[1;32mif\u001b[0m \u001b[0mi\u001b[0m \u001b[1;33m%\u001b[0m \u001b[1;36m10\u001b[0m \u001b[1;33m==\u001b[0m \u001b[1;36m0\u001b[0m\u001b[1;33m:\u001b[0m\u001b[1;33m\u001b[0m\u001b[1;33m\u001b[0m\u001b[0m\n\u001b[0;32m    101\u001b[0m                 \u001b[0mprint\u001b[0m\u001b[1;33m(\u001b[0m\u001b[1;34m'error: %-.9f'\u001b[0m \u001b[1;33m%\u001b[0m \u001b[0merror\u001b[0m\u001b[1;33m)\u001b[0m\u001b[1;33m\u001b[0m\u001b[1;33m\u001b[0m\u001b[0m\n",
      "\u001b[1;32m<ipython-input-18-735f9bda6c61>\u001b[0m in \u001b[0;36mbackPropagate\u001b[1;34m(self, targets, lr)\u001b[0m\n\u001b[0;32m     71\u001b[0m \u001b[1;31m#         计算误差\u001b[0m\u001b[1;33m\u001b[0m\u001b[1;33m\u001b[0m\u001b[1;33m\u001b[0m\u001b[0m\n\u001b[0;32m     72\u001b[0m         \u001b[0merror\u001b[0m \u001b[1;33m=\u001b[0m \u001b[1;36m0.0\u001b[0m\u001b[1;33m\u001b[0m\u001b[1;33m\u001b[0m\u001b[0m\n\u001b[1;32m---> 73\u001b[1;33m         \u001b[0merror\u001b[0m \u001b[1;33m+=\u001b[0m \u001b[1;36m0.5\u001b[0m \u001b[1;33m*\u001b[0m \u001b[1;33m(\u001b[0m\u001b[0mtargets\u001b[0m \u001b[1;33m-\u001b[0m \u001b[0mself\u001b[0m\u001b[1;33m.\u001b[0m\u001b[0mao\u001b[0m\u001b[1;33m)\u001b[0m \u001b[1;33m**\u001b[0m \u001b[1;36m2\u001b[0m\u001b[1;33m\u001b[0m\u001b[1;33m\u001b[0m\u001b[0m\n\u001b[0m\u001b[0;32m     74\u001b[0m         \u001b[1;32mreturn\u001b[0m \u001b[0merror\u001b[0m\u001b[1;33m\u001b[0m\u001b[1;33m\u001b[0m\u001b[0m\n\u001b[0;32m     75\u001b[0m \u001b[1;33m\u001b[0m\u001b[0m\n",
      "\u001b[1;31mKeyboardInterrupt\u001b[0m: "
     ]
    }
   ],
   "source": [
    "nn = BPNN(8,10,1)\n",
    "nn.train(train_feature,train_label,iterations=500)\n",
    "nn.test(test_feature,test_label)"
   ]
  }
 ],
 "metadata": {
  "kernelspec": {
   "display_name": "Python 3",
   "language": "python",
   "name": "python3"
  },
  "language_info": {
   "codemirror_mode": {
    "name": "ipython",
    "version": 3
   },
   "file_extension": ".py",
   "mimetype": "text/x-python",
   "name": "python",
   "nbconvert_exporter": "python",
   "pygments_lexer": "ipython3",
   "version": "3.6.13"
  }
 },
 "nbformat": 4,
 "nbformat_minor": 5
}
