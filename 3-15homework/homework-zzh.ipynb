{
 "cells": [
  {
   "cell_type": "markdown",
   "id": "2c77c9ed",
   "metadata": {},
   "source": [
    "# M-P模型"
   ]
  },
  {
   "cell_type": "markdown",
   "id": "7eb6773d",
   "metadata": {},
   "source": [
    "组员：温紫珺、谭力仁、沈旭阳、邹子涵  \n",
    "汇报人：温紫珺"
   ]
  },
  {
   "cell_type": "markdown",
   "id": "de453dda",
   "metadata": {},
   "source": [
    "## 1、M-P实现与门"
   ]
  },
  {
   "cell_type": "markdown",
   "id": "1f8dcf95",
   "metadata": {},
   "source": [
    "导包"
   ]
  },
  {
   "cell_type": "code",
   "execution_count": 1,
   "id": "5397c2d8",
   "metadata": {},
   "outputs": [],
   "source": [
    "import numpy as np\n",
    "import matplotlib.pyplot as plt"
   ]
  },
  {
   "cell_type": "markdown",
   "id": "0a8cba03",
   "metadata": {},
   "source": [
    "定义输入数据及指定参数"
   ]
  },
  {
   "cell_type": "code",
   "execution_count": 2,
   "id": "9df658b9",
   "metadata": {},
   "outputs": [],
   "source": [
    "# 输入数据，四种情况\n",
    "x = np.array([[0,0],[0,1],[1,0],[1,1]])\n",
    "# 输出期望值\n",
    "d = np.array([0,0,0,1])\n",
    "# 指定参数权值w、阈值h，w1=1，w2=1，h=1.5\n",
    "w = np.array([[1,1]])\n",
    "h = 1.5"
   ]
  },
  {
   "cell_type": "markdown",
   "id": "133b1a5e",
   "metadata": {},
   "source": [
    "定义跃阶函数"
   ]
  },
  {
   "cell_type": "code",
   "execution_count": 3,
   "id": "b4b8fc45",
   "metadata": {},
   "outputs": [],
   "source": [
    "def step(a):\n",
    "    if a>0:\n",
    "        return 1\n",
    "    else:\n",
    "        return 0"
   ]
  },
  {
   "cell_type": "code",
   "execution_count": 4,
   "id": "4ff57be7",
   "metadata": {},
   "outputs": [
    {
     "name": "stdout",
     "output_type": "stream",
     "text": [
      "输入：[0 0]实际输出：0期望输出：0\n",
      "输入：[0 1]实际输出：0期望输出：0\n",
      "输入：[1 0]实际输出：0期望输出：0\n",
      "输入：[1 1]实际输出：1期望输出：1\n"
     ]
    }
   ],
   "source": [
    "k = 0\n",
    "for index in range(len(x)):\n",
    "    y = step(np.dot(w,np.array(x[index]).T)-h)\n",
    "    if y == d[index]:\n",
    "        k = k+1\n",
    "    print(\"输入：\"+str(x[index])+\"实际输出：\"+str(y)+\"期望输出：\"+str(d[index]))"
   ]
  },
  {
   "cell_type": "markdown",
   "id": "b435f2b6",
   "metadata": {},
   "source": [
    "绘制图像"
   ]
  },
  {
   "cell_type": "code",
   "execution_count": 5,
   "id": "21217dea",
   "metadata": {},
   "outputs": [],
   "source": [
    "def draw(p,q,a):\n",
    "    x1 = np.arange(0,2,0.1)\n",
    "    x2 = (a-p*x1)/(q)\n",
    "#     绘制散点\n",
    "    plt.scatter(1,1,color='red')\n",
    "    plt.scatter(0,0,color='blue')\n",
    "    plt.scatter(0,1,color='blue')\n",
    "    plt.scatter(1,0,color='blue')\n",
    "#     绘制直线\n",
    "    plt.plot(x1,x2)\n",
    "    plt.xlabel(\"x1\")\n",
    "    plt.ylabel(\"x2\")\n",
    "    plt.show()"
   ]
  },
  {
   "cell_type": "code",
   "execution_count": 6,
   "id": "8f0b3072",
   "metadata": {},
   "outputs": [
    {
     "name": "stdout",
     "output_type": "stream",
     "text": [
      "权值w=[[1 1]]阈值h=1.5\n",
      "与门：y = f(1.0*x1+1.0*x2-1.5)\n"
     ]
    },
    {
     "data": {
      "image/png": "[encoded data removed]",
      "text/plain": [
       "<Figure size 432x288 with 1 Axes>"
      ]
     },
     "metadata": {
      "needs_background": "light"
     },
     "output_type": "display_data"
    }
   ],
   "source": [
    "if k == 4:\n",
    "    print(\"权值w=\"+str(w)+\"阈值h=\"+str(h))\n",
    "    w1 = float(str(w).split(' ')[0][2:])\n",
    "    w2 = float(str(w).split(' ')[1][0])\n",
    "    print(\"与门：y = f(\"+str(w1)+\"*x1+\"+str(w2)+\"*x2-\"+str(h)+\")\")\n",
    "#     绘图\n",
    "    draw(w1,w2,h)\n",
    "else:\n",
    "    print(\"error\")"
   ]
  },
  {
   "cell_type": "markdown",
   "id": "b3a216c7",
   "metadata": {},
   "source": [
    "## 2、M-P实现或门"
   ]
  },
  {
   "cell_type": "markdown",
   "id": "577f6cf3",
   "metadata": {},
   "source": [
    "导包"
   ]
  },
  {
   "cell_type": "code",
   "execution_count": 7,
   "id": "030442a3",
   "metadata": {},
   "outputs": [],
   "source": [
    "import numpy as np\n",
    "import matplotlib.pyplot as plt"
   ]
  },
  {
   "cell_type": "markdown",
   "id": "fb395c60",
   "metadata": {},
   "source": [
    "定义输入数据及指定参数"
   ]
  },
  {
   "cell_type": "code",
   "execution_count": 8,
   "id": "b4440571",
   "metadata": {},
   "outputs": [],
   "source": [
    "# 输入数据，四种情况\n",
    "x = np.array([[0,0],[0,1],[1,0],[1,1]])\n",
    "# 输出期望值\n",
    "d = np.array([0,1,1,1])\n",
    "# 指定参数权值w、阈值h，w1=1，w2=1，h=0.5\n",
    "w = np.array([[1,1]])\n",
    "h = 0.5"
   ]
  },
  {
   "cell_type": "markdown",
   "id": "ca70f59b",
   "metadata": {},
   "source": [
    "定义跃阶函数"
   ]
  },
  {
   "cell_type": "code",
   "execution_count": 9,
   "id": "6f26497b",
   "metadata": {},
   "outputs": [],
   "source": [
    "def step(a):\n",
    "    if a>0:\n",
    "        return 1\n",
    "    else:\n",
    "        return 0"
   ]
  },
  {
   "cell_type": "code",
   "execution_count": 10,
   "id": "b21fe18a",
   "metadata": {},
   "outputs": [
    {
     "name": "stdout",
     "output_type": "stream",
     "text": [
      "输入：[0 0]实际输出：0期望输出：0\n",
      "输入：[0 1]实际输出：1期望输出：1\n",
      "输入：[1 0]实际输出：1期望输出：1\n",
      "输入：[1 1]实际输出：1期望输出：1\n"
     ]
    }
   ],
   "source": [
    "k = 0\n",
    "for index in range(len(x)):\n",
    "    y = step(np.dot(w,np.array(x[index]).T)-h)\n",
    "    if y == d[index]:\n",
    "        k = k+1\n",
    "    print(\"输入：\"+str(x[index])+\"实际输出：\"+str(y)+\"期望输出：\"+str(d[index]))"
   ]
  },
  {
   "cell_type": "markdown",
   "id": "56be1565",
   "metadata": {},
   "source": [
    "绘制图像"
   ]
  },
  {
   "cell_type": "code",
   "execution_count": 11,
   "id": "376368e2",
   "metadata": {},
   "outputs": [],
   "source": [
    "def draw(p,q,a):\n",
    "    x1 = np.arange(0,2,0.1)\n",
    "    x2 = (a-p*x1)/(q)\n",
    "#     x2 = np.arange(0,2,0.1)\n",
    "#     绘制散点\n",
    "    plt.scatter(1,1,color='red')\n",
    "    plt.scatter(0,0,color='blue')\n",
    "    plt.scatter(0,1,color='red')\n",
    "    plt.scatter(1,0,color='red')\n",
    "#     绘制直线\n",
    "    plt.plot(x1,x2)\n",
    "    plt.xlabel(\"x1\")\n",
    "    plt.ylabel(\"x2\")\n",
    "    plt.show()"
   ]
  },
  {
   "cell_type": "code",
   "execution_count": 12,
   "id": "bfb75a7c",
   "metadata": {},
   "outputs": [
    {
     "name": "stdout",
     "output_type": "stream",
     "text": [
      "权值w=[[1 1]]阈值h=0.5\n",
      "或门：y = f(1.0*x1+1.0*x2-0.5)\n"
     ]
    },
    {
     "data": {
      "image/png": "[encoded data removed]",
      "text/plain": [
       "<Figure size 432x288 with 1 Axes>"
      ]
     },
     "metadata": {
      "needs_background": "light"
     },
     "output_type": "display_data"
    }
   ],
   "source": [
    "if k == 4:\n",
    "    print(\"权值w=\"+str(w)+\"阈值h=\"+str(h))\n",
    "    w1 = float(str(w).split(' ')[0][2:])\n",
    "    w2 = float(str(w).split(' ')[1][0])\n",
    "    print(\"或门：y = f(\"+str(w1)+\"*x1+\"+str(w2)+\"*x2-\"+str(h)+\")\")\n",
    "#     绘图\n",
    "    draw(w1,w2,h)\n",
    "else:\n",
    "    print(\"error\")"
   ]
  },
  {
   "cell_type": "markdown",
   "id": "74c1338c",
   "metadata": {},
   "source": [
    "## 3、M-P实现非门"
   ]
  },
  {
   "cell_type": "markdown",
   "id": "a1ea6582",
   "metadata": {},
   "source": [
    "导包"
   ]
  },
  {
   "cell_type": "markdown",
   "id": "87531692",
   "metadata": {},
   "source": [
    "定义输入数据及指定参数"
   ]
  },
  {
   "cell_type": "code",
   "execution_count": 13,
   "id": "b56e012d",
   "metadata": {},
   "outputs": [],
   "source": [
    "# 输入数据，两种情况\n",
    "x = np.array([0,1])\n",
    "# 输出期望值\n",
    "d = np.array([1,0])\n",
    "# 指定参数权值w、阈值h，w=-2，h=-1\n",
    "w = -2\n",
    "h = -1"
   ]
  },
  {
   "cell_type": "code",
   "execution_count": 14,
   "id": "bf5f5868",
   "metadata": {},
   "outputs": [],
   "source": [
    "# def step()"
   ]
  },
  {
   "cell_type": "code",
   "execution_count": 15,
   "id": "9e04b9a9",
   "metadata": {},
   "outputs": [
    {
     "name": "stdout",
     "output_type": "stream",
     "text": [
      "输入：0实际输出：1期望输出：1\n",
      "输入：1实际输出：0期望输出：0\n"
     ]
    }
   ],
   "source": [
    "k = 0\n",
    "for index in range(len(x)):\n",
    "    y = step(np.dot(w,np.array(x[index]).T)-h)\n",
    "    if y == d[index]:\n",
    "        k = k+1\n",
    "    print(\"输入：\"+str(x[index])+\"实际输出：\"+str(y)+\"期望输出：\"+str(d[index]))"
   ]
  },
  {
   "cell_type": "markdown",
   "id": "04cf0e85",
   "metadata": {},
   "source": [
    "绘制图像"
   ]
  },
  {
   "cell_type": "code",
   "execution_count": 16,
   "id": "a8257efd",
   "metadata": {},
   "outputs": [],
   "source": [
    "def draw2():\n",
    "    plt.scatter(0,1,color='black')\n",
    "    plt.scatter(1,0,color='black')\n",
    "    plt.xlabel(\"x\")\n",
    "    plt.ylabel(\"y\")"
   ]
  },
  {
   "cell_type": "code",
   "execution_count": 17,
   "id": "592a0aff",
   "metadata": {},
   "outputs": [
    {
     "name": "stdout",
     "output_type": "stream",
     "text": [
      "权值w=-2阈值h=-1\n",
      "非门：y = f(-2*x--1)\n"
     ]
    },
    {
     "data": {
      "image/png": "[encoded data removed]",
      "text/plain": [
       "<Figure size 432x288 with 1 Axes>"
      ]
     },
     "metadata": {
      "needs_background": "light"
     },
     "output_type": "display_data"
    }
   ],
   "source": [
    "if k==2:\n",
    "    print(\"权值w=\"+str(w)+\"阈值h=\"+str(h))\n",
    "    draw2()\n",
    "    print(\"非门：y = f(\"+str(w)+\"*x-\"+str(h)+\")\")\n",
    "else:\n",
    "    print(\"error\")"
   ]
  },
  {
   "cell_type": "markdown",
   "id": "e956be8d",
   "metadata": {},
   "source": [
    "## 4、延时M-P实现与门"
   ]
  },
  {
   "cell_type": "markdown",
   "id": "c09d7c98",
   "metadata": {},
   "source": [
    "导包"
   ]
  },
  {
   "cell_type": "markdown",
   "id": "392bedbd",
   "metadata": {},
   "source": [
    "定义输入数据"
   ]
  },
  {
   "cell_type": "code",
   "execution_count": 18,
   "id": "11ad6b7f",
   "metadata": {},
   "outputs": [],
   "source": [
    "# 输入数据，四种情况\n",
    "x = np.array([[0,0],[0,1],[1,0],[1,1]])\n",
    "# 输出期望值\n",
    "d = np.array([0,0,0,1])\n",
    "# 指定参数权阈值h，突触时延t，h=1.5，t=1\n",
    "h = 1.5\n",
    "t = 1\n",
    "T = 2"
   ]
  },
  {
   "cell_type": "code",
   "execution_count": 19,
   "id": "b4e6e49e",
   "metadata": {},
   "outputs": [],
   "source": [
    "# 定义跃阶函数"
   ]
  },
  {
   "cell_type": "code",
   "execution_count": 20,
   "id": "57e2cb39",
   "metadata": {},
   "outputs": [
    {
     "name": "stdout",
     "output_type": "stream",
     "text": [
      "输入：[0 0]实际输出：0期望输出：0\n",
      "输入：[0 1]实际输出：0期望输出：0\n",
      "输入：[1 0]实际输出：0期望输出：0\n",
      "输入：[1 1]实际输出：1期望输出：1\n"
     ]
    }
   ],
   "source": [
    "k = 0\n",
    "for index in range(len(x)):\n",
    "    y = step(np.dot(np.array(x[index]).T,np.array(x[index]).T)*(T-t)-h)\n",
    "    if y == d[index]:\n",
    "        k = k+1\n",
    "    print(\"输入：\"+str(x[index])+\"实际输出：\"+str(y)+\"期望输出：\"+str(d[index]))"
   ]
  }
 ],
 "metadata": {
  "kernelspec": {
   "display_name": "Python 3",
   "language": "python",
   "name": "python3"
  },
  "language_info": {
   "codemirror_mode": {
    "name": "ipython",
    "version": 3
   },
   "file_extension": ".py",
   "mimetype": "text/x-python",
   "name": "python",
   "nbconvert_exporter": "python",
   "pygments_lexer": "ipython3",
   "version": "3.6.13"
  }
 },
 "nbformat": 4,
 "nbformat_minor": 5
}
