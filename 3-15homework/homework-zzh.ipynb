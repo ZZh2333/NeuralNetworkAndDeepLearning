{
 "cells": [
  {
   "cell_type": "markdown",
   "id": "published-highland",
   "metadata": {},
   "source": [
    "# M-P模型"
   ]
  },
  {
   "cell_type": "markdown",
   "id": "disciplinary-rebel",
   "metadata": {},
   "source": [
    "## 1、M-P实现与门"
   ]
  },
  {
   "cell_type": "markdown",
   "id": "classical-cinema",
   "metadata": {},
   "source": [
    "导包"
   ]
  },
  {
   "cell_type": "code",
   "execution_count": 1,
   "id": "upper-month",
   "metadata": {},
   "outputs": [],
   "source": [
    "import numpy as np\n",
    "import matplotlib.pyplot as plt"
   ]
  },
  {
   "cell_type": "markdown",
   "id": "decent-administrator",
   "metadata": {},
   "source": [
    "定义输入数据及指定参数"
   ]
  },
  {
   "cell_type": "code",
   "execution_count": 2,
   "id": "surface-hampton",
   "metadata": {},
   "outputs": [],
   "source": [
    "# 输入数据，四种情况\n",
    "x = np.array([[0,0],[0,1],[1,0],[1,1]])\n",
    "# 输出期望值\n",
    "d = np.array([0,0,0,1])\n",
    "# 指定参数权值w、阈值h，w1=1，w2=1，h=1.5\n",
    "w = np.array([[1,1]])\n",
    "h = 1.5"
   ]
  },
  {
   "cell_type": "markdown",
   "id": "automated-friend",
   "metadata": {},
   "source": [
    "定义跃阶函数"
   ]
  },
  {
   "cell_type": "code",
   "execution_count": 3,
   "id": "turkish-citizenship",
   "metadata": {},
   "outputs": [],
   "source": [
    "def step(a):\n",
    "    if a>0:\n",
    "        return 1\n",
    "    else:\n",
    "        return 0"
   ]
  },
  {
   "cell_type": "code",
   "execution_count": 4,
   "id": "willing-parcel",
   "metadata": {},
   "outputs": [
    {
     "name": "stdout",
     "output_type": "stream",
     "text": [
      "输入：[0 0]实际输出：0期望输出：0\n",
      "输入：[0 1]实际输出：0期望输出：0\n",
      "输入：[1 0]实际输出：0期望输出：0\n",
      "输入：[1 1]实际输出：1期望输出：1\n"
     ]
    }
   ],
   "source": [
    "k = 0\n",
    "for index in range(len(x)):\n",
    "    y = step(np.dot(w,np.array(x[index]).T)-h)\n",
    "    if y == d[index]:\n",
    "        k = k+1\n",
    "    print(\"输入：\"+str(x[index])+\"实际输出：\"+str(y)+\"期望输出：\"+str(d[index]))"
   ]
  },
  {
   "cell_type": "markdown",
   "id": "cooperative-shelf",
   "metadata": {},
   "source": [
    "绘制图像"
   ]
  },
  {
   "cell_type": "code",
   "execution_count": 5,
   "id": "arbitrary-income",
   "metadata": {},
   "outputs": [],
   "source": [
    "def draw(p,q,a):\n",
    "    x1 = np.arange(0,2,0.1)\n",
    "    x2 = (a-p*x1)/(q)\n",
    "#     绘制散点\n",
    "    plt.scatter(1,1,color='red')\n",
    "    plt.scatter(0,0,color='blue')\n",
    "    plt.scatter(0,1,color='blue')\n",
    "    plt.scatter(1,0,color='blue')\n",
    "#     绘制直线\n",
    "    plt.plot(x1,x2)\n",
    "    plt.xlabel(\"x1\")\n",
    "    plt.ylabel(\"x2\")\n",
    "    plt.show()"
   ]
  },
  {
   "cell_type": "code",
   "execution_count": 6,
   "id": "behind-spelling",
   "metadata": {},
   "outputs": [
    {
     "name": "stdout",
     "output_type": "stream",
     "text": [
      "权值w=[[1 1]]阈值h=1.5\n",
      "与门：y = f(1.0*x1+1.0*x2-1.5)\n"
     ]
    },
    {
     "data": {
      "image/png": "[encoded data removed]",
      "text/plain": [
       "<Figure size 432x288 with 1 Axes>"
      ]
     },
     "metadata": {
      "needs_background": "light"
     },
     "output_type": "display_data"
    }
   ],
   "source": [
    "if k == 4:\n",
    "    print(\"权值w=\"+str(w)+\"阈值h=\"+str(h))\n",
    "    w1 = float(str(w).split(' ')[0][2:])\n",
    "    w2 = float(str(w).split(' ')[1][0])\n",
    "    print(\"与门：y = f(\"+str(w1)+\"*x1+\"+str(w2)+\"*x2-\"+str(h)+\")\")\n",
    "#     绘图\n",
    "    draw(w1,w2,h)\n",
    "else:\n",
    "    print(\"error\")"
   ]
  },
  {
   "cell_type": "markdown",
   "id": "diagnostic-tobago",
   "metadata": {},
   "source": [
    "## 2、M-P实现或门"
   ]
  },
  {
   "cell_type": "markdown",
   "id": "tracked-calvin",
   "metadata": {},
   "source": [
    "导包"
   ]
  },
  {
   "cell_type": "code",
   "execution_count": 7,
   "id": "shaped-economy",
   "metadata": {},
   "outputs": [],
   "source": [
    "import numpy as np\n",
    "import matplotlib.pyplot as plt"
   ]
  },
  {
   "cell_type": "markdown",
   "id": "adequate-merit",
   "metadata": {},
   "source": [
    "定义输入数据及指定参数"
   ]
  },
  {
   "cell_type": "code",
   "execution_count": 8,
   "id": "following-moderator",
   "metadata": {},
   "outputs": [],
   "source": [
    "# 输入数据，四种情况\n",
    "x = np.array([[0,0],[0,1],[1,0],[1,1]])\n",
    "# 输出期望值\n",
    "d = np.array([0,1,1,1])\n",
    "# 指定参数权值w、阈值h，w1=1，w2=1，h=0.5\n",
    "w = np.array([[1,1]])\n",
    "h = 0.5"
   ]
  },
  {
   "cell_type": "markdown",
   "id": "directed-accommodation",
   "metadata": {},
   "source": [
    "定义跃阶函数"
   ]
  },
  {
   "cell_type": "code",
   "execution_count": 9,
   "id": "cloudy-kingston",
   "metadata": {},
   "outputs": [],
   "source": [
    "def step(a):\n",
    "    if a>0:\n",
    "        return 1\n",
    "    else:\n",
    "        return 0"
   ]
  },
  {
   "cell_type": "code",
   "execution_count": 10,
   "id": "behavioral-polymer",
   "metadata": {},
   "outputs": [
    {
     "name": "stdout",
     "output_type": "stream",
     "text": [
      "输入：[0 0]实际输出：0期望输出：0\n",
      "输入：[0 1]实际输出：1期望输出：1\n",
      "输入：[1 0]实际输出：1期望输出：1\n",
      "输入：[1 1]实际输出：1期望输出：1\n"
     ]
    }
   ],
   "source": [
    "k = 0\n",
    "for index in range(len(x)):\n",
    "    y = step(np.dot(w,np.array(x[index]).T)-h)\n",
    "    if y == d[index]:\n",
    "        k = k+1\n",
    "    print(\"输入：\"+str(x[index])+\"实际输出：\"+str(y)+\"期望输出：\"+str(d[index]))"
   ]
  },
  {
   "cell_type": "markdown",
   "id": "boring-caution",
   "metadata": {},
   "source": [
    "绘制图像"
   ]
  },
  {
   "cell_type": "code",
   "execution_count": 11,
   "id": "final-driving",
   "metadata": {},
   "outputs": [],
   "source": [
    "def draw(p,q,a):\n",
    "    x1 = np.arange(0,2,0.1)\n",
    "    x2 = (a-p*x1)/(q)\n",
    "#     x2 = np.arange(0,2,0.1)\n",
    "#     绘制散点\n",
    "    plt.scatter(1,1,color='red')\n",
    "    plt.scatter(0,0,color='blue')\n",
    "    plt.scatter(0,1,color='red')\n",
    "    plt.scatter(1,0,color='red')\n",
    "#     绘制直线\n",
    "    plt.plot(x1,x2)\n",
    "    plt.xlabel(\"x1\")\n",
    "    plt.ylabel(\"x2\")\n",
    "    plt.show()"
   ]
  },
  {
   "cell_type": "code",
   "execution_count": 12,
   "id": "superior-mixer",
   "metadata": {},
   "outputs": [
    {
     "name": "stdout",
     "output_type": "stream",
     "text": [
      "权值w=[[1 1]]阈值h=0.5\n",
      "或门：y = f(1.0*x1+1.0*x2-0.5)\n"
     ]
    },
    {
     "data": {
      "image/png": "[encoded data removed]",
      "text/plain": [
       "<Figure size 432x288 with 1 Axes>"
      ]
     },
     "metadata": {
      "needs_background": "light"
     },
     "output_type": "display_data"
    }
   ],
   "source": [
    "if k == 4:\n",
    "    print(\"权值w=\"+str(w)+\"阈值h=\"+str(h))\n",
    "    w1 = float(str(w).split(' ')[0][2:])\n",
    "    w2 = float(str(w).split(' ')[1][0])\n",
    "    print(\"或门：y = f(\"+str(w1)+\"*x1+\"+str(w2)+\"*x2-\"+str(h)+\")\")\n",
    "#     绘图\n",
    "    draw(w1,w2,h)\n",
    "else:\n",
    "    print(\"error\")"
   ]
  },
  {
   "cell_type": "markdown",
   "id": "coordinated-attachment",
   "metadata": {},
   "source": [
    "## 3、M-P实现非门"
   ]
  },
  {
   "cell_type": "markdown",
   "id": "dominant-secret",
   "metadata": {},
   "source": [
    "导包"
   ]
  },
  {
   "cell_type": "markdown",
   "id": "smart-ecology",
   "metadata": {},
   "source": [
    "定义输入数据及指定参数"
   ]
  },
  {
   "cell_type": "code",
   "execution_count": 13,
   "id": "ordinary-conclusion",
   "metadata": {},
   "outputs": [],
   "source": [
    "# 输入数据，两种情况\n",
    "x = np.array([0,1])\n",
    "# 输出期望值\n",
    "d = np.array([1,0])\n",
    "# 指定参数权值w、阈值h，w=-2，h=-1\n",
    "w = -2\n",
    "h = -1"
   ]
  },
  {
   "cell_type": "code",
   "execution_count": 14,
   "id": "endless-guatemala",
   "metadata": {},
   "outputs": [],
   "source": [
    "# def step()"
   ]
  },
  {
   "cell_type": "code",
   "execution_count": 15,
   "id": "photographic-command",
   "metadata": {},
   "outputs": [
    {
     "name": "stdout",
     "output_type": "stream",
     "text": [
      "输入：0实际输出：1期望输出：1\n",
      "输入：1实际输出：0期望输出：0\n"
     ]
    }
   ],
   "source": [
    "k = 0\n",
    "for index in range(len(x)):\n",
    "    y = step(np.dot(w,np.array(x[index]).T)-h)\n",
    "    if y == d[index]:\n",
    "        k = k+1\n",
    "    print(\"输入：\"+str(x[index])+\"实际输出：\"+str(y)+\"期望输出：\"+str(d[index]))"
   ]
  },
  {
   "cell_type": "markdown",
   "id": "impressive-service",
   "metadata": {},
   "source": [
    "绘制图像"
   ]
  },
  {
   "cell_type": "code",
   "execution_count": 16,
   "id": "broke-remains",
   "metadata": {},
   "outputs": [],
   "source": [
    "def draw2():\n",
    "    plt.scatter(0,1,color='black')\n",
    "    plt.scatter(1,0,color='black')\n",
    "    plt.xlabel(\"x\")\n",
    "    plt.ylabel(\"y\")"
   ]
  },
  {
   "cell_type": "code",
   "execution_count": 17,
   "id": "complimentary-feelings",
   "metadata": {},
   "outputs": [
    {
     "name": "stdout",
     "output_type": "stream",
     "text": [
      "权值w=-2阈值h=-1\n",
      "非门：y = f(-2*x--1)\n"
     ]
    },
    {
     "data": {
      "image/png": "[encoded data removed]",
      "text/plain": [
       "<Figure size 432x288 with 1 Axes>"
      ]
     },
     "metadata": {
      "needs_background": "light"
     },
     "output_type": "display_data"
    }
   ],
   "source": [
    "if k==2:\n",
    "    print(\"权值w=\"+str(w)+\"阈值h=\"+str(h))\n",
    "    draw2()\n",
    "    print(\"非门：y = f(\"+str(w)+\"*x-\"+str(h)+\")\")\n",
    "else:\n",
    "    print(\"error\")"
   ]
  },
  {
   "cell_type": "markdown",
   "id": "iraqi-daisy",
   "metadata": {},
   "source": [
    "## 4、延时M-P实现与门"
   ]
  },
  {
   "cell_type": "markdown",
   "id": "exclusive-pacific",
   "metadata": {},
   "source": [
    "导包"
   ]
  },
  {
   "cell_type": "markdown",
   "id": "peaceful-christopher",
   "metadata": {},
   "source": [
    "定义输入数据"
   ]
  },
  {
   "cell_type": "code",
   "execution_count": 18,
   "id": "adaptive-southwest",
   "metadata": {},
   "outputs": [],
   "source": [
    "# 输入数据，四种情况\n",
    "x = np.array([[0,0],[0,1],[1,0],[1,1]])\n",
    "# 输出期望值\n",
    "d = np.array([0,0,0,1])\n",
    "# 指定参数权阈值h，突触时延t，h=1.5，t=1\n",
    "h = 1.5\n",
    "t = 1\n",
    "T = 2"
   ]
  },
  {
   "cell_type": "code",
   "execution_count": 19,
   "id": "assured-fitting",
   "metadata": {},
   "outputs": [],
   "source": [
    "# 定义跃阶函数"
   ]
  },
  {
   "cell_type": "code",
   "execution_count": 20,
   "id": "latin-quantity",
   "metadata": {},
   "outputs": [
    {
     "name": "stdout",
     "output_type": "stream",
     "text": [
      "输入：[0 0]实际输出：0期望输出：0\n",
      "输入：[0 1]实际输出：0期望输出：0\n",
      "输入：[1 0]实际输出：0期望输出：0\n",
      "输入：[1 1]实际输出：1期望输出：1\n"
     ]
    }
   ],
   "source": [
    "k = 0\n",
    "for index in range(len(x)):\n",
    "    y = step(np.dot(np.array(x[index]).T,np.array(x[index]).T)*(T-t)-h)\n",
    "    if y == d[index]:\n",
    "        k = k+1\n",
    "    print(\"输入：\"+str(x[index])+\"实际输出：\"+str(y)+\"期望输出：\"+str(d[index]))"
   ]
  }
 ],
 "metadata": {
  "kernelspec": {
   "display_name": "Python 3",
   "language": "python",
   "name": "python3"
  },
  "language_info": {
   "codemirror_mode": {
    "name": "ipython",
    "version": 3
   },
   "file_extension": ".py",
   "mimetype": "text/x-python",
   "name": "python",
   "nbconvert_exporter": "python",
   "pygments_lexer": "ipython3",
   "version": "3.6.12"
  }
 },
 "nbformat": 4,
 "nbformat_minor": 5
}
