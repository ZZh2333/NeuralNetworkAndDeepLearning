{
 "cells": [
  {
   "cell_type": "code",
   "execution_count": 48,
   "metadata": {},
   "outputs": [],
   "source": [
    "import numpy as np"
   ]
  },
  {
   "cell_type": "code",
   "execution_count": 49,
   "metadata": {},
   "outputs": [],
   "source": [
    "class NOT_MP:\n",
    "    def __init__(self,x=None):\n",
    "        self.w=-2\n",
    "        self.b=-1\n",
    "        self.x=x\n",
    "        self.h=0\n",
    "    def output(self):\n",
    "        if self.x!=None :\n",
    "            if self.x*self.w-self.b>self.h:return 1\n",
    "            else: return 0 "
   ]
  },
  {
   "cell_type": "code",
   "execution_count": 50,
   "metadata": {},
   "outputs": [],
   "source": [
    "class AND_MP:\n",
    "    def __init__(self,inputs=[]):\n",
    "        self.inputs=inputs\n",
    "        self.w=np.ones(len(self.inputs))\n",
    "        self.b=len(self.inputs)-1\n",
    "    def output(self):\n",
    "        sum=0\n",
    "        for i in range(len(self.inputs)):\n",
    "            sum=sum+self.inputs[i]*self.w[i]\n",
    "        sum=sum-self.b\n",
    "        if sum>0 : return 1\n",
    "        else : return 0"
   ]
  },
  {
   "cell_type": "code",
   "execution_count": 51,
   "metadata": {},
   "outputs": [],
   "source": [
    "class OR_MP:\n",
    "    def __init__(self,inputs=[]):\n",
    "        self.inputs=inputs\n",
    "        self.w=np.ones(len(self.inputs))\n",
    "    def output(self):\n",
    "        sum=0\n",
    "        for i in range(len(self.inputs)):\n",
    "            sum=sum+self.inputs[i]*self.w[i]\n",
    "        if sum>0 : return 1\n",
    "        else : return 0"
   ]
  },
  {
   "cell_type": "code",
   "execution_count": 52,
   "metadata": {},
   "outputs": [
    {
     "name": "stdout",
     "output_type": "stream",
     "text": [
      "1 0\n",
      "0 1\n",
      "1 0\n"
     ]
    }
   ],
   "source": [
    "print(NOT_MP(x=0).output(),NOT_MP(1).output())\n",
    "print(AND_MP([1,0,1]).output(),AND_MP([1,1]).output())\n",
    "print(OR_MP([1,0,0]).output(),OR_MP([0,0]).output())"
   ]
  },
  {
   "cell_type": "code",
   "execution_count": null,
   "metadata": {},
   "outputs": [],
   "source": []
  }
 ],
 "metadata": {
  "kernelspec": {
   "display_name": "Python 3",
   "language": "python",
   "name": "python3"
  },
  "language_info": {
   "codemirror_mode": {
    "name": "ipython",
    "version": 3
   },
   "file_extension": ".py",
   "mimetype": "text/x-python",
   "name": "python",
   "nbconvert_exporter": "python",
   "pygments_lexer": "ipython3",
   "version": "3.6.12"
  }
 },
 "nbformat": 4,
 "nbformat_minor": 4
}
