{
 "cells": [
  {
   "cell_type": "markdown",
   "id": "fourth-greek",
   "metadata": {},
   "source": [
    "# M-P模型"
   ]
  },
  {
   "cell_type": "markdown",
   "id": "unauthorized-warner",
   "metadata": {},
   "source": [
    "## 1、M-P实现与门"
   ]
  },
  {
   "cell_type": "markdown",
   "id": "formed-innocent",
   "metadata": {},
   "source": [
    "导包"
   ]
  },
  {
   "cell_type": "code",
   "execution_count": 1,
   "id": "imported-thanksgiving",
   "metadata": {},
   "outputs": [],
   "source": [
    "import numpy as np\n",
    "import matplotlib.pyplot as plt"
   ]
  },
  {
   "cell_type": "markdown",
   "id": "continued-coaching",
   "metadata": {},
   "source": [
    "定义输入数据及指定参数"
   ]
  },
  {
   "cell_type": "code",
   "execution_count": 2,
   "id": "interim-messenger",
   "metadata": {},
   "outputs": [],
   "source": [
    "# 输入数据，四种情况\n",
    "x = np.array([[0,0],[0,1],[1,0],[1,1]])\n",
    "# 输出期望值\n",
    "d = np.array([0,0,0,1])\n",
    "# 指定参数权值w、阈值h，w1=1，w2=1，h=1.5\n",
    "w = np.array([[1,1]])\n",
    "h = 1.5"
   ]
  },
  {
   "cell_type": "markdown",
   "id": "given-aluminum",
   "metadata": {},
   "source": [
    "定义跃阶函数"
   ]
  },
  {
   "cell_type": "code",
   "execution_count": 3,
   "id": "protecting-blame",
   "metadata": {},
   "outputs": [],
   "source": [
    "def step(a):\n",
    "    if a>0:\n",
    "        return 1\n",
    "    else:\n",
    "        return 0"
   ]
  },
  {
   "cell_type": "code",
   "execution_count": 4,
   "id": "composite-sight",
   "metadata": {},
   "outputs": [
    {
     "name": "stdout",
     "output_type": "stream",
     "text": [
      "输入：[0 0]实际输出：0期望输出：0\n",
      "输入：[0 1]实际输出：0期望输出：0\n",
      "输入：[1 0]实际输出：0期望输出：0\n",
      "输入：[1 1]实际输出：1期望输出：1\n"
     ]
    }
   ],
   "source": [
    "k = 0\n",
    "for index in range(len(x)):\n",
    "    y = step(np.dot(w,np.array(x[index]).T)-h)\n",
    "    if y == d[index]:\n",
    "        k = k+1\n",
    "    print(\"输入：\"+str(x[index])+\"实际输出：\"+str(y)+\"期望输出：\"+str(d[index]))"
   ]
  },
  {
   "cell_type": "markdown",
   "id": "exciting-round",
   "metadata": {},
   "source": [
    "绘制图像"
   ]
  },
  {
   "cell_type": "code",
   "execution_count": 5,
   "id": "unknown-marathon",
   "metadata": {},
   "outputs": [],
   "source": [
    "def draw(p,q,a):\n",
    "    x1 = np.arange(0,2,0.1)\n",
    "    x2 = (a-p*x1)/(q)\n",
    "#     绘制散点\n",
    "    plt.scatter(1,1,color='red')\n",
    "    plt.scatter(0,0,color='blue')\n",
    "    plt.scatter(0,1,color='blue')\n",
    "    plt.scatter(1,0,color='blue')\n",
    "#     绘制直线\n",
    "    plt.plot(x1,x2)\n",
    "    plt.xlabel(\"x1\")\n",
    "    plt.ylabel(\"x2\")\n",
    "    plt.show()"
   ]
  },
  {
   "cell_type": "code",
   "execution_count": 6,
   "id": "bronze-trinity",
   "metadata": {},
   "outputs": [
    {
     "name": "stdout",
     "output_type": "stream",
     "text": [
      "权值w=[[1 1]]阈值h=1.5\n",
      "与门：y = f(1.0*x1+1.0*x2-1.5)\n"
     ]
    },
    {
     "data": {
      "image/png": "[encoded data removed]",
      "text/plain": [
       "<Figure size 432x288 with 1 Axes>"
      ]
     },
     "metadata": {
      "needs_background": "light"
     },
     "output_type": "display_data"
    }
   ],
   "source": [
    "if k == 4:\n",
    "    print(\"权值w=\"+str(w)+\"阈值h=\"+str(h))\n",
    "    w1 = float(str(w).split(' ')[0][2:])\n",
    "    w2 = float(str(w).split(' ')[1][0])\n",
    "    print(\"与门：y = f(\"+str(w1)+\"*x1+\"+str(w2)+\"*x2-\"+str(h)+\")\")\n",
    "#     绘图\n",
    "    draw(w1,w2,h)\n",
    "else:\n",
    "    print(\"error\")"
   ]
  },
  {
   "cell_type": "markdown",
   "id": "thrown-freeze",
   "metadata": {},
   "source": [
    "## 2、M-P实现或门"
   ]
  },
  {
   "cell_type": "markdown",
   "id": "mineral-shooting",
   "metadata": {},
   "source": [
    "导包"
   ]
  },
  {
   "cell_type": "code",
   "execution_count": 7,
   "id": "crazy-company",
   "metadata": {},
   "outputs": [],
   "source": [
    "import numpy as np\n",
    "import matplotlib.pyplot as plt"
   ]
  },
  {
   "cell_type": "markdown",
   "id": "deluxe-independence",
   "metadata": {},
   "source": [
    "定义输入数据及指定参数"
   ]
  },
  {
   "cell_type": "code",
   "execution_count": 8,
   "id": "useful-division",
   "metadata": {},
   "outputs": [],
   "source": [
    "# 输入数据，四种情况\n",
    "x = np.array([[0,0],[0,1],[1,0],[1,1]])\n",
    "# 输出期望值\n",
    "d = np.array([0,1,1,1])\n",
    "# 指定参数权值w、阈值h，w1=2，w2=2，h=1\n",
    "w = np.array([[2,2]])\n",
    "h = 1"
   ]
  },
  {
   "cell_type": "markdown",
   "id": "valued-treat",
   "metadata": {},
   "source": [
    "定义跃阶函数"
   ]
  },
  {
   "cell_type": "code",
   "execution_count": 9,
   "id": "pretty-claim",
   "metadata": {},
   "outputs": [],
   "source": [
    "def step(a):\n",
    "    if a>0:\n",
    "        return 1\n",
    "    else:\n",
    "        return 0"
   ]
  },
  {
   "cell_type": "code",
   "execution_count": 10,
   "id": "resident-armor",
   "metadata": {},
   "outputs": [
    {
     "name": "stdout",
     "output_type": "stream",
     "text": [
      "输入：[0 0]实际输出：0期望输出：0\n",
      "输入：[0 1]实际输出：1期望输出：1\n",
      "输入：[1 0]实际输出：1期望输出：1\n",
      "输入：[1 1]实际输出：1期望输出：1\n"
     ]
    }
   ],
   "source": [
    "k = 0\n",
    "for index in range(len(x)):\n",
    "    y = step(np.dot(w,np.array(x[index]).T)-h)\n",
    "    if y == d[index]:\n",
    "        k = k+1\n",
    "    print(\"输入：\"+str(x[index])+\"实际输出：\"+str(y)+\"期望输出：\"+str(d[index]))"
   ]
  },
  {
   "cell_type": "markdown",
   "id": "flexible-vietnamese",
   "metadata": {},
   "source": [
    "绘制图像"
   ]
  },
  {
   "cell_type": "code",
   "execution_count": 11,
   "id": "remarkable-straight",
   "metadata": {},
   "outputs": [],
   "source": [
    "def draw(p,q,a):\n",
    "    x1 = np.arange(0,2,0.1)\n",
    "    x2 = (a-p*x1)/(q)\n",
    "#     x2 = np.arange(0,2,0.1)\n",
    "#     绘制散点\n",
    "    plt.scatter(1,1,color='red')\n",
    "    plt.scatter(0,0,color='blue')\n",
    "    plt.scatter(0,1,color='red')\n",
    "    plt.scatter(1,0,color='red')\n",
    "#     绘制直线\n",
    "    plt.plot(x1,x2)\n",
    "    plt.xlabel(\"x1\")\n",
    "    plt.ylabel(\"x2\")\n",
    "    plt.show()"
   ]
  },
  {
   "cell_type": "code",
   "execution_count": 12,
   "id": "classical-hungary",
   "metadata": {},
   "outputs": [
    {
     "name": "stdout",
     "output_type": "stream",
     "text": [
      "权值w=[[2 2]]阈值h=1\n",
      "或门：y = f(2.0*x1+2.0*x2-1)\n"
     ]
    },
    {
     "data": {
      "image/png": "[encoded data removed]",
      "text/plain": [
       "<Figure size 432x288 with 1 Axes>"
      ]
     },
     "metadata": {
      "needs_background": "light"
     },
     "output_type": "display_data"
    }
   ],
   "source": [
    "if k == 4:\n",
    "    print(\"权值w=\"+str(w)+\"阈值h=\"+str(h))\n",
    "    w1 = float(str(w).split(' ')[0][2:])\n",
    "    w2 = float(str(w).split(' ')[1][0])\n",
    "    print(\"或门：y = f(\"+str(w1)+\"*x1+\"+str(w2)+\"*x2-\"+str(h)+\")\")\n",
    "#     绘图\n",
    "    draw(w1,w2,h)\n",
    "else:\n",
    "    print(\"error\")"
   ]
  }
 ],
 "metadata": {
  "kernelspec": {
   "display_name": "Python 3",
   "language": "python",
   "name": "python3"
  },
  "language_info": {
   "codemirror_mode": {
    "name": "ipython",
    "version": 3
   },
   "file_extension": ".py",
   "mimetype": "text/x-python",
   "name": "python",
   "nbconvert_exporter": "python",
   "pygments_lexer": "ipython3",
   "version": "3.6.12"
  }
 },
 "nbformat": 4,
 "nbformat_minor": 5
}
